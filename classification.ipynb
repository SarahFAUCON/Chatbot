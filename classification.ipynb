{
 "cells": [
  {
   "cell_type": "markdown",
   "metadata": {
    "colab_type": "text",
    "id": "sg7LP1bWqqX2"
   },
   "source": [
    "---\n",
    "---\n",
    "# Modèles de classification\n",
    "---\n",
    "---"
   ]
  },
  {
   "cell_type": "markdown",
   "metadata": {
    "colab_type": "text",
    "id": "akc5pYq9UEQf"
   },
   "source": [
    "Dans ce notebook, nous avons créé des modèles de classification binaire pour déterminer si la question de l'utilisateur est liée à notre domaine ou non. Puis dans un second temps, nous avons utilisé des modèles multiclasses pour sélectionner un thème si la question est dans notre domaine. "
   ]
  },
  {
   "cell_type": "markdown",
   "metadata": {
    "colab_type": "text",
    "id": "zdBbBSU9qqX8"
   },
   "source": [
    "---\n",
    "## Importation des bibliothèques et modules\n",
    "---"
   ]
  },
  {
   "cell_type": "code",
   "execution_count": 1,
   "metadata": {
    "colab": {},
    "colab_type": "code",
    "id": "O7LVRW37qqX-"
   },
   "outputs": [
    {
     "name": "stderr",
     "output_type": "stream",
     "text": [
      "Using TensorFlow backend.\n",
      "ERROR:root:Internal Python error in the inspect module.\n",
      "Below is the traceback from this internal error.\n",
      "\n",
      "ERROR:root:Internal Python error in the inspect module.\n",
      "Below is the traceback from this internal error.\n",
      "\n"
     ]
    },
    {
     "name": "stdout",
     "output_type": "stream",
     "text": [
      "Traceback (most recent call last):\n",
      "  File \"C:\\Users\\3bfsa\\Anaconda3\\lib\\site-packages\\tensorflow_core\\python\\pywrap_tensorflow.py\", line 58, in <module>\n",
      "    from tensorflow.python.pywrap_tensorflow_internal import *\n",
      "  File \"C:\\Users\\3bfsa\\Anaconda3\\lib\\site-packages\\tensorflow_core\\python\\pywrap_tensorflow_internal.py\", line 28, in <module>\n",
      "    _pywrap_tensorflow_internal = swig_import_helper()\n",
      "  File \"C:\\Users\\3bfsa\\Anaconda3\\lib\\site-packages\\tensorflow_core\\python\\pywrap_tensorflow_internal.py\", line 24, in swig_import_helper\n",
      "    _mod = imp.load_module('_pywrap_tensorflow_internal', fp, pathname, description)\n",
      "  File \"C:\\Users\\3bfsa\\Anaconda3\\lib\\imp.py\", line 242, in load_module\n",
      "    return load_dynamic(name, filename, file)\n",
      "  File \"C:\\Users\\3bfsa\\Anaconda3\\lib\\imp.py\", line 342, in load_dynamic\n",
      "    return _load(spec)\n",
      "ImportError: DLL load failed: Le module spécifié est introuvable.\n",
      "\n",
      "During handling of the above exception, another exception occurred:\n",
      "\n",
      "Traceback (most recent call last):\n",
      "  File \"C:\\Users\\3bfsa\\Anaconda3\\lib\\site-packages\\IPython\\core\\interactiveshell.py\", line 3326, in run_code\n",
      "    exec(code_obj, self.user_global_ns, self.user_ns)\n",
      "  File \"<ipython-input-1-428d61da1255>\", line 12, in <module>\n",
      "    import keras\n",
      "  File \"C:\\Users\\3bfsa\\Anaconda3\\lib\\site-packages\\keras\\__init__.py\", line 3, in <module>\n",
      "    from . import utils\n",
      "  File \"C:\\Users\\3bfsa\\Anaconda3\\lib\\site-packages\\keras\\utils\\__init__.py\", line 6, in <module>\n",
      "    from . import conv_utils\n",
      "  File \"C:\\Users\\3bfsa\\Anaconda3\\lib\\site-packages\\keras\\utils\\conv_utils.py\", line 9, in <module>\n",
      "    from .. import backend as K\n",
      "  File \"C:\\Users\\3bfsa\\Anaconda3\\lib\\site-packages\\keras\\backend\\__init__.py\", line 1, in <module>\n",
      "    from .load_backend import epsilon\n",
      "  File \"C:\\Users\\3bfsa\\Anaconda3\\lib\\site-packages\\keras\\backend\\load_backend.py\", line 90, in <module>\n",
      "    from .tensorflow_backend import *\n",
      "  File \"C:\\Users\\3bfsa\\Anaconda3\\lib\\site-packages\\keras\\backend\\tensorflow_backend.py\", line 5, in <module>\n",
      "    import tensorflow as tf\n",
      "  File \"C:\\Users\\3bfsa\\Anaconda3\\lib\\site-packages\\tensorflow\\__init__.py\", line 101, in <module>\n",
      "    from tensorflow_core import *\n",
      "  File \"C:\\Users\\3bfsa\\Anaconda3\\lib\\site-packages\\tensorflow_core\\__init__.py\", line 40, in <module>\n",
      "    from tensorflow.python.tools import module_util as _module_util\n",
      "  File \"C:\\Users\\3bfsa\\Anaconda3\\lib\\site-packages\\tensorflow\\__init__.py\", line 50, in __getattr__\n",
      "    module = self._load()\n",
      "  File \"C:\\Users\\3bfsa\\Anaconda3\\lib\\site-packages\\tensorflow\\__init__.py\", line 44, in _load\n",
      "    module = _importlib.import_module(self.__name__)\n",
      "  File \"C:\\Users\\3bfsa\\Anaconda3\\lib\\importlib\\__init__.py\", line 127, in import_module\n",
      "    return _bootstrap._gcd_import(name[level:], package, level)\n",
      "  File \"C:\\Users\\3bfsa\\Anaconda3\\lib\\site-packages\\tensorflow_core\\python\\__init__.py\", line 49, in <module>\n",
      "    from tensorflow.python import pywrap_tensorflow\n",
      "  File \"C:\\Users\\3bfsa\\Anaconda3\\lib\\site-packages\\tensorflow_core\\python\\pywrap_tensorflow.py\", line 74, in <module>\n",
      "    raise ImportError(msg)\n",
      "ImportError: Traceback (most recent call last):\n",
      "  File \"C:\\Users\\3bfsa\\Anaconda3\\lib\\site-packages\\tensorflow_core\\python\\pywrap_tensorflow.py\", line 58, in <module>\n",
      "    from tensorflow.python.pywrap_tensorflow_internal import *\n",
      "  File \"C:\\Users\\3bfsa\\Anaconda3\\lib\\site-packages\\tensorflow_core\\python\\pywrap_tensorflow_internal.py\", line 28, in <module>\n",
      "    _pywrap_tensorflow_internal = swig_import_helper()\n",
      "  File \"C:\\Users\\3bfsa\\Anaconda3\\lib\\site-packages\\tensorflow_core\\python\\pywrap_tensorflow_internal.py\", line 24, in swig_import_helper\n",
      "    _mod = imp.load_module('_pywrap_tensorflow_internal', fp, pathname, description)\n",
      "  File \"C:\\Users\\3bfsa\\Anaconda3\\lib\\imp.py\", line 242, in load_module\n",
      "    return load_dynamic(name, filename, file)\n",
      "  File \"C:\\Users\\3bfsa\\Anaconda3\\lib\\imp.py\", line 342, in load_dynamic\n",
      "    return _load(spec)\n",
      "ImportError: DLL load failed: Le module spécifié est introuvable.\n",
      "\n",
      "\n",
      "Failed to load the native TensorFlow runtime.\n",
      "\n",
      "See https://www.tensorflow.org/install/errors\n",
      "\n",
      "for some common reasons and solutions.  Include the entire stack trace\n",
      "above this error message when asking for help.\n",
      "\n",
      "During handling of the above exception, another exception occurred:\n",
      "\n",
      "Traceback (most recent call last):\n",
      "  File \"C:\\Users\\3bfsa\\Anaconda3\\lib\\site-packages\\IPython\\core\\interactiveshell.py\", line 2040, in showtraceback\n",
      "    stb = value._render_traceback_()\n",
      "AttributeError: 'ImportError' object has no attribute '_render_traceback_'\n",
      "\n",
      "During handling of the above exception, another exception occurred:\n",
      "\n",
      "Traceback (most recent call last):\n",
      "  File \"C:\\Users\\3bfsa\\Anaconda3\\lib\\site-packages\\tensorflow_core\\python\\pywrap_tensorflow.py\", line 58, in <module>\n",
      "    from tensorflow.python.pywrap_tensorflow_internal import *\n",
      "  File \"C:\\Users\\3bfsa\\Anaconda3\\lib\\site-packages\\tensorflow_core\\python\\pywrap_tensorflow_internal.py\", line 28, in <module>\n",
      "    _pywrap_tensorflow_internal = swig_import_helper()\n",
      "  File \"C:\\Users\\3bfsa\\Anaconda3\\lib\\site-packages\\tensorflow_core\\python\\pywrap_tensorflow_internal.py\", line 24, in swig_import_helper\n",
      "    _mod = imp.load_module('_pywrap_tensorflow_internal', fp, pathname, description)\n",
      "  File \"C:\\Users\\3bfsa\\Anaconda3\\lib\\imp.py\", line 242, in load_module\n",
      "    return load_dynamic(name, filename, file)\n",
      "  File \"C:\\Users\\3bfsa\\Anaconda3\\lib\\imp.py\", line 342, in load_dynamic\n",
      "    return _load(spec)\n",
      "ImportError: DLL load failed: Le module spécifié est introuvable.\n",
      "\n",
      "During handling of the above exception, another exception occurred:\n",
      "\n",
      "Traceback (most recent call last):\n",
      "  File \"C:\\Users\\3bfsa\\Anaconda3\\lib\\site-packages\\IPython\\core\\ultratb.py\", line 1101, in get_records\n",
      "    return _fixed_getinnerframes(etb, number_of_lines_of_context, tb_offset)\n",
      "  File \"C:\\Users\\3bfsa\\Anaconda3\\lib\\site-packages\\IPython\\core\\ultratb.py\", line 319, in wrapped\n",
      "    return f(*args, **kwargs)\n",
      "  File \"C:\\Users\\3bfsa\\Anaconda3\\lib\\site-packages\\IPython\\core\\ultratb.py\", line 353, in _fixed_getinnerframes\n",
      "    records = fix_frame_records_filenames(inspect.getinnerframes(etb, context))\n",
      "  File \"C:\\Users\\3bfsa\\Anaconda3\\lib\\inspect.py\", line 1502, in getinnerframes\n",
      "    frameinfo = (tb.tb_frame,) + getframeinfo(tb, context)\n",
      "  File \"C:\\Users\\3bfsa\\Anaconda3\\lib\\inspect.py\", line 1460, in getframeinfo\n",
      "    filename = getsourcefile(frame) or getfile(frame)\n",
      "  File \"C:\\Users\\3bfsa\\Anaconda3\\lib\\inspect.py\", line 696, in getsourcefile\n",
      "    if getattr(getmodule(object, filename), '__loader__', None) is not None:\n",
      "  File \"C:\\Users\\3bfsa\\Anaconda3\\lib\\inspect.py\", line 733, in getmodule\n",
      "    if ismodule(module) and hasattr(module, '__file__'):\n",
      "  File \"C:\\Users\\3bfsa\\Anaconda3\\lib\\site-packages\\tensorflow\\__init__.py\", line 50, in __getattr__\n",
      "    module = self._load()\n",
      "  File \"C:\\Users\\3bfsa\\Anaconda3\\lib\\site-packages\\tensorflow\\__init__.py\", line 44, in _load\n",
      "    module = _importlib.import_module(self.__name__)\n",
      "  File \"C:\\Users\\3bfsa\\Anaconda3\\lib\\importlib\\__init__.py\", line 127, in import_module\n",
      "    return _bootstrap._gcd_import(name[level:], package, level)\n",
      "  File \"<frozen importlib._bootstrap>\", line 1006, in _gcd_import\n",
      "  File \"<frozen importlib._bootstrap>\", line 983, in _find_and_load\n",
      "  File \"<frozen importlib._bootstrap>\", line 953, in _find_and_load_unlocked\n",
      "  File \"<frozen importlib._bootstrap>\", line 219, in _call_with_frames_removed\n",
      "  File \"<frozen importlib._bootstrap>\", line 1006, in _gcd_import\n",
      "  File \"<frozen importlib._bootstrap>\", line 983, in _find_and_load\n",
      "  File \"<frozen importlib._bootstrap>\", line 967, in _find_and_load_unlocked\n",
      "  File \"<frozen importlib._bootstrap>\", line 677, in _load_unlocked\n",
      "  File \"<frozen importlib._bootstrap_external>\", line 728, in exec_module\n",
      "  File \"<frozen importlib._bootstrap>\", line 219, in _call_with_frames_removed\n",
      "  File \"C:\\Users\\3bfsa\\Anaconda3\\lib\\site-packages\\tensorflow_core\\__init__.py\", line 42, in <module>\n",
      "    from . _api.v2 import audio\n",
      "  File \"C:\\Users\\3bfsa\\Anaconda3\\lib\\site-packages\\tensorflow_core\\_api\\v2\\audio\\__init__.py\", line 10, in <module>\n",
      "    from tensorflow.python.ops.gen_audio_ops import decode_wav\n",
      "  File \"C:\\Users\\3bfsa\\Anaconda3\\lib\\site-packages\\tensorflow_core\\python\\ops\\gen_audio_ops.py\", line 9, in <module>\n",
      "    from tensorflow.python import pywrap_tensorflow as _pywrap_tensorflow\n",
      "  File \"C:\\Users\\3bfsa\\Anaconda3\\lib\\site-packages\\tensorflow\\__init__.py\", line 50, in __getattr__\n",
      "    module = self._load()\n",
      "  File \"C:\\Users\\3bfsa\\Anaconda3\\lib\\site-packages\\tensorflow\\__init__.py\", line 44, in _load\n",
      "    module = _importlib.import_module(self.__name__)\n",
      "  File \"C:\\Users\\3bfsa\\Anaconda3\\lib\\importlib\\__init__.py\", line 127, in import_module\n",
      "    return _bootstrap._gcd_import(name[level:], package, level)\n",
      "  File \"C:\\Users\\3bfsa\\Anaconda3\\lib\\site-packages\\tensorflow_core\\python\\__init__.py\", line 49, in <module>\n",
      "    from tensorflow.python import pywrap_tensorflow\n",
      "  File \"C:\\Users\\3bfsa\\Anaconda3\\lib\\site-packages\\tensorflow_core\\python\\pywrap_tensorflow.py\", line 74, in <module>\n",
      "    raise ImportError(msg)\n",
      "ImportError: Traceback (most recent call last):\n",
      "  File \"C:\\Users\\3bfsa\\Anaconda3\\lib\\site-packages\\tensorflow_core\\python\\pywrap_tensorflow.py\", line 58, in <module>\n",
      "    from tensorflow.python.pywrap_tensorflow_internal import *\n",
      "  File \"C:\\Users\\3bfsa\\Anaconda3\\lib\\site-packages\\tensorflow_core\\python\\pywrap_tensorflow_internal.py\", line 28, in <module>\n",
      "    _pywrap_tensorflow_internal = swig_import_helper()\n",
      "  File \"C:\\Users\\3bfsa\\Anaconda3\\lib\\site-packages\\tensorflow_core\\python\\pywrap_tensorflow_internal.py\", line 24, in swig_import_helper\n",
      "    _mod = imp.load_module('_pywrap_tensorflow_internal', fp, pathname, description)\n",
      "  File \"C:\\Users\\3bfsa\\Anaconda3\\lib\\imp.py\", line 242, in load_module\n",
      "    return load_dynamic(name, filename, file)\n",
      "  File \"C:\\Users\\3bfsa\\Anaconda3\\lib\\imp.py\", line 342, in load_dynamic\n",
      "    return _load(spec)\n",
      "ImportError: DLL load failed: Le module spécifié est introuvable.\n",
      "\n",
      "During handling of the above exception, another exception occurred:\n",
      "\n",
      "Traceback (most recent call last):\n",
      "  File \"C:\\Users\\3bfsa\\Anaconda3\\lib\\site-packages\\IPython\\core\\interactiveshell.py\", line 3326, in run_code\n",
      "    exec(code_obj, self.user_global_ns, self.user_ns)\n",
      "  File \"<ipython-input-1-428d61da1255>\", line 12, in <module>\n",
      "    import keras\n",
      "  File \"C:\\Users\\3bfsa\\Anaconda3\\lib\\site-packages\\keras\\__init__.py\", line 3, in <module>\n",
      "    from . import utils\n",
      "  File \"C:\\Users\\3bfsa\\Anaconda3\\lib\\site-packages\\keras\\utils\\__init__.py\", line 6, in <module>\n",
      "    from . import conv_utils\n",
      "  File \"C:\\Users\\3bfsa\\Anaconda3\\lib\\site-packages\\keras\\utils\\conv_utils.py\", line 9, in <module>\n",
      "    from .. import backend as K\n",
      "  File \"C:\\Users\\3bfsa\\Anaconda3\\lib\\site-packages\\keras\\backend\\__init__.py\", line 1, in <module>\n",
      "    from .load_backend import epsilon\n",
      "  File \"C:\\Users\\3bfsa\\Anaconda3\\lib\\site-packages\\keras\\backend\\load_backend.py\", line 90, in <module>\n",
      "    from .tensorflow_backend import *\n",
      "  File \"C:\\Users\\3bfsa\\Anaconda3\\lib\\site-packages\\keras\\backend\\tensorflow_backend.py\", line 5, in <module>\n",
      "    import tensorflow as tf\n",
      "  File \"C:\\Users\\3bfsa\\Anaconda3\\lib\\site-packages\\tensorflow\\__init__.py\", line 101, in <module>\n",
      "    from tensorflow_core import *\n",
      "  File \"C:\\Users\\3bfsa\\Anaconda3\\lib\\site-packages\\tensorflow_core\\__init__.py\", line 40, in <module>\n",
      "    from tensorflow.python.tools import module_util as _module_util\n",
      "  File \"C:\\Users\\3bfsa\\Anaconda3\\lib\\site-packages\\tensorflow\\__init__.py\", line 50, in __getattr__\n",
      "    module = self._load()\n",
      "  File \"C:\\Users\\3bfsa\\Anaconda3\\lib\\site-packages\\tensorflow\\__init__.py\", line 44, in _load\n",
      "    module = _importlib.import_module(self.__name__)\n",
      "  File \"C:\\Users\\3bfsa\\Anaconda3\\lib\\importlib\\__init__.py\", line 127, in import_module\n",
      "    return _bootstrap._gcd_import(name[level:], package, level)\n",
      "  File \"C:\\Users\\3bfsa\\Anaconda3\\lib\\site-packages\\tensorflow_core\\python\\__init__.py\", line 49, in <module>\n",
      "    from tensorflow.python import pywrap_tensorflow\n",
      "  File \"C:\\Users\\3bfsa\\Anaconda3\\lib\\site-packages\\tensorflow_core\\python\\pywrap_tensorflow.py\", line 74, in <module>\n",
      "    raise ImportError(msg)\n",
      "ImportError: Traceback (most recent call last):\n",
      "  File \"C:\\Users\\3bfsa\\Anaconda3\\lib\\site-packages\\tensorflow_core\\python\\pywrap_tensorflow.py\", line 58, in <module>\n",
      "    from tensorflow.python.pywrap_tensorflow_internal import *\n",
      "  File \"C:\\Users\\3bfsa\\Anaconda3\\lib\\site-packages\\tensorflow_core\\python\\pywrap_tensorflow_internal.py\", line 28, in <module>\n",
      "    _pywrap_tensorflow_internal = swig_import_helper()\n",
      "  File \"C:\\Users\\3bfsa\\Anaconda3\\lib\\site-packages\\tensorflow_core\\python\\pywrap_tensorflow_internal.py\", line 24, in swig_import_helper\n",
      "    _mod = imp.load_module('_pywrap_tensorflow_internal', fp, pathname, description)\n",
      "  File \"C:\\Users\\3bfsa\\Anaconda3\\lib\\imp.py\", line 242, in load_module\n",
      "    return load_dynamic(name, filename, file)\n",
      "  File \"C:\\Users\\3bfsa\\Anaconda3\\lib\\imp.py\", line 342, in load_dynamic\n",
      "    return _load(spec)\n",
      "ImportError: DLL load failed: Le module spécifié est introuvable.\n",
      "\n",
      "\n",
      "Failed to load the native TensorFlow runtime.\n",
      "\n",
      "See https://www.tensorflow.org/install/errors\n",
      "\n",
      "for some common reasons and solutions.  Include the entire stack trace\n",
      "above this error message when asking for help.\n",
      "\n",
      "During handling of the above exception, another exception occurred:\n",
      "\n",
      "Traceback (most recent call last):\n",
      "  File \"C:\\Users\\3bfsa\\Anaconda3\\lib\\site-packages\\IPython\\core\\interactiveshell.py\", line 2040, in showtraceback\n",
      "    stb = value._render_traceback_()\n",
      "AttributeError: 'ImportError' object has no attribute '_render_traceback_'\n",
      "\n",
      "During handling of the above exception, another exception occurred:\n",
      "\n",
      "Traceback (most recent call last):\n",
      "  File \"C:\\Users\\3bfsa\\Anaconda3\\lib\\site-packages\\tensorflow_core\\python\\pywrap_tensorflow.py\", line 58, in <module>\n",
      "    from tensorflow.python.pywrap_tensorflow_internal import *\n",
      "  File \"C:\\Users\\3bfsa\\Anaconda3\\lib\\site-packages\\tensorflow_core\\python\\pywrap_tensorflow_internal.py\", line 28, in <module>\n",
      "    _pywrap_tensorflow_internal = swig_import_helper()\n",
      "  File \"C:\\Users\\3bfsa\\Anaconda3\\lib\\site-packages\\tensorflow_core\\python\\pywrap_tensorflow_internal.py\", line 24, in swig_import_helper\n",
      "    _mod = imp.load_module('_pywrap_tensorflow_internal', fp, pathname, description)\n",
      "  File \"C:\\Users\\3bfsa\\Anaconda3\\lib\\imp.py\", line 242, in load_module\n",
      "    return load_dynamic(name, filename, file)\n",
      "  File \"C:\\Users\\3bfsa\\Anaconda3\\lib\\imp.py\", line 342, in load_dynamic\n",
      "    return _load(spec)\n",
      "ImportError: DLL load failed: Le module spécifié est introuvable.\n",
      "\n",
      "\n",
      "Failed to load the native TensorFlow runtime.\n",
      "\n",
      "See https://www.tensorflow.org/install/errors\n",
      "\n",
      "for some common reasons and solutions.  Include the entire stack trace\n",
      "above this error message when asking for help.\n",
      "Traceback (most recent call last):\n",
      "  File \"C:\\Users\\3bfsa\\Anaconda3\\lib\\site-packages\\tensorflow_core\\python\\pywrap_tensorflow.py\", line 58, in <module>\n",
      "    from tensorflow.python.pywrap_tensorflow_internal import *\n",
      "  File \"C:\\Users\\3bfsa\\Anaconda3\\lib\\site-packages\\tensorflow_core\\python\\pywrap_tensorflow_internal.py\", line 28, in <module>\n",
      "    _pywrap_tensorflow_internal = swig_import_helper()\n",
      "  File \"C:\\Users\\3bfsa\\Anaconda3\\lib\\site-packages\\tensorflow_core\\python\\pywrap_tensorflow_internal.py\", line 24, in swig_import_helper\n",
      "    _mod = imp.load_module('_pywrap_tensorflow_internal', fp, pathname, description)\n",
      "  File \"C:\\Users\\3bfsa\\Anaconda3\\lib\\imp.py\", line 242, in load_module\n",
      "    return load_dynamic(name, filename, file)\n",
      "  File \"C:\\Users\\3bfsa\\Anaconda3\\lib\\imp.py\", line 342, in load_dynamic\n",
      "    return _load(spec)\n",
      "ImportError: DLL load failed: Le module spécifié est introuvable.\n",
      "\n",
      "During handling of the above exception, another exception occurred:\n",
      "\n",
      "Traceback (most recent call last):\n",
      "  File \"C:\\Users\\3bfsa\\Anaconda3\\lib\\site-packages\\IPython\\core\\interactiveshell.py\", line 3326, in run_code\n",
      "    exec(code_obj, self.user_global_ns, self.user_ns)\n",
      "  File \"<ipython-input-1-428d61da1255>\", line 12, in <module>\n",
      "    import keras\n",
      "  File \"C:\\Users\\3bfsa\\Anaconda3\\lib\\site-packages\\keras\\__init__.py\", line 3, in <module>\n",
      "    from . import utils\n",
      "  File \"C:\\Users\\3bfsa\\Anaconda3\\lib\\site-packages\\keras\\utils\\__init__.py\", line 6, in <module>\n",
      "    from . import conv_utils\n",
      "  File \"C:\\Users\\3bfsa\\Anaconda3\\lib\\site-packages\\keras\\utils\\conv_utils.py\", line 9, in <module>\n",
      "    from .. import backend as K\n",
      "  File \"C:\\Users\\3bfsa\\Anaconda3\\lib\\site-packages\\keras\\backend\\__init__.py\", line 1, in <module>\n",
      "    from .load_backend import epsilon\n",
      "  File \"C:\\Users\\3bfsa\\Anaconda3\\lib\\site-packages\\keras\\backend\\load_backend.py\", line 90, in <module>\n",
      "    from .tensorflow_backend import *\n",
      "  File \"C:\\Users\\3bfsa\\Anaconda3\\lib\\site-packages\\keras\\backend\\tensorflow_backend.py\", line 5, in <module>\n",
      "    import tensorflow as tf\n",
      "  File \"C:\\Users\\3bfsa\\Anaconda3\\lib\\site-packages\\tensorflow\\__init__.py\", line 101, in <module>\n",
      "    from tensorflow_core import *\n",
      "  File \"C:\\Users\\3bfsa\\Anaconda3\\lib\\site-packages\\tensorflow_core\\__init__.py\", line 40, in <module>\n",
      "    from tensorflow.python.tools import module_util as _module_util\n",
      "  File \"C:\\Users\\3bfsa\\Anaconda3\\lib\\site-packages\\tensorflow\\__init__.py\", line 50, in __getattr__\n",
      "    module = self._load()\n",
      "  File \"C:\\Users\\3bfsa\\Anaconda3\\lib\\site-packages\\tensorflow\\__init__.py\", line 44, in _load\n",
      "    module = _importlib.import_module(self.__name__)\n",
      "  File \"C:\\Users\\3bfsa\\Anaconda3\\lib\\importlib\\__init__.py\", line 127, in import_module\n",
      "    return _bootstrap._gcd_import(name[level:], package, level)\n",
      "  File \"C:\\Users\\3bfsa\\Anaconda3\\lib\\site-packages\\tensorflow_core\\python\\__init__.py\", line 49, in <module>\n",
      "    from tensorflow.python import pywrap_tensorflow\n",
      "  File \"C:\\Users\\3bfsa\\Anaconda3\\lib\\site-packages\\tensorflow_core\\python\\pywrap_tensorflow.py\", line 74, in <module>\n",
      "    raise ImportError(msg)\n",
      "ImportError: Traceback (most recent call last):\n",
      "  File \"C:\\Users\\3bfsa\\Anaconda3\\lib\\site-packages\\tensorflow_core\\python\\pywrap_tensorflow.py\", line 58, in <module>\n",
      "    from tensorflow.python.pywrap_tensorflow_internal import *\n",
      "  File \"C:\\Users\\3bfsa\\Anaconda3\\lib\\site-packages\\tensorflow_core\\python\\pywrap_tensorflow_internal.py\", line 28, in <module>\n",
      "    _pywrap_tensorflow_internal = swig_import_helper()\n",
      "  File \"C:\\Users\\3bfsa\\Anaconda3\\lib\\site-packages\\tensorflow_core\\python\\pywrap_tensorflow_internal.py\", line 24, in swig_import_helper\n",
      "    _mod = imp.load_module('_pywrap_tensorflow_internal', fp, pathname, description)\n",
      "  File \"C:\\Users\\3bfsa\\Anaconda3\\lib\\imp.py\", line 242, in load_module\n",
      "    return load_dynamic(name, filename, file)\n",
      "  File \"C:\\Users\\3bfsa\\Anaconda3\\lib\\imp.py\", line 342, in load_dynamic\n",
      "    return _load(spec)\n",
      "ImportError: DLL load failed: Le module spécifié est introuvable.\n",
      "\n",
      "\n",
      "Failed to load the native TensorFlow runtime.\n",
      "\n",
      "See https://www.tensorflow.org/install/errors\n",
      "\n",
      "for some common reasons and solutions.  Include the entire stack trace\n",
      "above this error message when asking for help.\n",
      "\n",
      "During handling of the above exception, another exception occurred:\n",
      "\n",
      "Traceback (most recent call last):\n",
      "  File \"C:\\Users\\3bfsa\\Anaconda3\\lib\\site-packages\\IPython\\core\\interactiveshell.py\", line 2040, in showtraceback\n",
      "    stb = value._render_traceback_()\n",
      "AttributeError: 'ImportError' object has no attribute '_render_traceback_'\n",
      "\n",
      "During handling of the above exception, another exception occurred:\n",
      "\n",
      "Traceback (most recent call last):\n",
      "  File \"C:\\Users\\3bfsa\\Anaconda3\\lib\\site-packages\\IPython\\core\\interactiveshell.py\", line 3249, in run_ast_nodes\n",
      "    if (await self.run_code(code, result,  async_=asy)):\n",
      "  File \"C:\\Users\\3bfsa\\Anaconda3\\lib\\site-packages\\IPython\\core\\interactiveshell.py\", line 3343, in run_code\n",
      "    self.showtraceback(running_compiled_code=True)\n",
      "  File \"C:\\Users\\3bfsa\\Anaconda3\\lib\\site-packages\\IPython\\core\\interactiveshell.py\", line 2043, in showtraceback\n",
      "    value, tb, tb_offset=tb_offset)\n",
      "  File \"C:\\Users\\3bfsa\\Anaconda3\\lib\\site-packages\\IPython\\core\\ultratb.py\", line 1385, in structured_traceback\n",
      "    self, etype, value, tb, tb_offset, number_of_lines_of_context)\n",
      "  File \"C:\\Users\\3bfsa\\Anaconda3\\lib\\site-packages\\IPython\\core\\ultratb.py\", line 1288, in structured_traceback\n",
      "    self, etype, value, tb, tb_offset, number_of_lines_of_context\n",
      "  File \"C:\\Users\\3bfsa\\Anaconda3\\lib\\site-packages\\IPython\\core\\ultratb.py\", line 1150, in structured_traceback\n",
      "    formatted_exceptions += self.prepare_chained_exception_message(evalue.__cause__)\n",
      "TypeError: can only concatenate str (not \"list\") to str\n",
      "\n",
      "During handling of the above exception, another exception occurred:\n",
      "\n",
      "Traceback (most recent call last):\n",
      "  File \"C:\\Users\\3bfsa\\Anaconda3\\lib\\site-packages\\IPython\\core\\interactiveshell.py\", line 2040, in showtraceback\n",
      "    stb = value._render_traceback_()\n",
      "AttributeError: 'TypeError' object has no attribute '_render_traceback_'\n",
      "\n",
      "During handling of the above exception, another exception occurred:\n",
      "\n",
      "Traceback (most recent call last):\n",
      "  File \"C:\\Users\\3bfsa\\Anaconda3\\lib\\site-packages\\tensorflow_core\\python\\pywrap_tensorflow.py\", line 58, in <module>\n",
      "    from tensorflow.python.pywrap_tensorflow_internal import *\n",
      "  File \"C:\\Users\\3bfsa\\Anaconda3\\lib\\site-packages\\tensorflow_core\\python\\pywrap_tensorflow_internal.py\", line 28, in <module>\n",
      "    _pywrap_tensorflow_internal = swig_import_helper()\n",
      "  File \"C:\\Users\\3bfsa\\Anaconda3\\lib\\site-packages\\tensorflow_core\\python\\pywrap_tensorflow_internal.py\", line 24, in swig_import_helper\n",
      "    _mod = imp.load_module('_pywrap_tensorflow_internal', fp, pathname, description)\n",
      "  File \"C:\\Users\\3bfsa\\Anaconda3\\lib\\imp.py\", line 242, in load_module\n",
      "    return load_dynamic(name, filename, file)\n",
      "  File \"C:\\Users\\3bfsa\\Anaconda3\\lib\\imp.py\", line 342, in load_dynamic\n",
      "    return _load(spec)\n",
      "ImportError: DLL load failed: Le module spécifié est introuvable.\n",
      "\n",
      "During handling of the above exception, another exception occurred:\n",
      "\n",
      "Traceback (most recent call last):\n",
      "  File \"C:\\Users\\3bfsa\\Anaconda3\\lib\\site-packages\\IPython\\core\\ultratb.py\", line 1101, in get_records\n",
      "    return _fixed_getinnerframes(etb, number_of_lines_of_context, tb_offset)\n",
      "  File \"C:\\Users\\3bfsa\\Anaconda3\\lib\\site-packages\\IPython\\core\\ultratb.py\", line 319, in wrapped\n",
      "    return f(*args, **kwargs)\n",
      "  File \"C:\\Users\\3bfsa\\Anaconda3\\lib\\site-packages\\IPython\\core\\ultratb.py\", line 353, in _fixed_getinnerframes\n",
      "    records = fix_frame_records_filenames(inspect.getinnerframes(etb, context))\n",
      "  File \"C:\\Users\\3bfsa\\Anaconda3\\lib\\inspect.py\", line 1502, in getinnerframes\n",
      "    frameinfo = (tb.tb_frame,) + getframeinfo(tb, context)\n",
      "  File \"C:\\Users\\3bfsa\\Anaconda3\\lib\\inspect.py\", line 1460, in getframeinfo\n",
      "    filename = getsourcefile(frame) or getfile(frame)\n",
      "  File \"C:\\Users\\3bfsa\\Anaconda3\\lib\\inspect.py\", line 696, in getsourcefile\n",
      "    if getattr(getmodule(object, filename), '__loader__', None) is not None:\n",
      "  File \"C:\\Users\\3bfsa\\Anaconda3\\lib\\inspect.py\", line 733, in getmodule\n",
      "    if ismodule(module) and hasattr(module, '__file__'):\n",
      "  File \"C:\\Users\\3bfsa\\Anaconda3\\lib\\site-packages\\tensorflow\\__init__.py\", line 50, in __getattr__\n",
      "    module = self._load()\n",
      "  File \"C:\\Users\\3bfsa\\Anaconda3\\lib\\site-packages\\tensorflow\\__init__.py\", line 44, in _load\n",
      "    module = _importlib.import_module(self.__name__)\n",
      "  File \"C:\\Users\\3bfsa\\Anaconda3\\lib\\importlib\\__init__.py\", line 127, in import_module\n",
      "    return _bootstrap._gcd_import(name[level:], package, level)\n",
      "  File \"<frozen importlib._bootstrap>\", line 1006, in _gcd_import\n",
      "  File \"<frozen importlib._bootstrap>\", line 983, in _find_and_load\n",
      "  File \"<frozen importlib._bootstrap>\", line 953, in _find_and_load_unlocked\n",
      "  File \"<frozen importlib._bootstrap>\", line 219, in _call_with_frames_removed\n",
      "  File \"<frozen importlib._bootstrap>\", line 1006, in _gcd_import\n",
      "  File \"<frozen importlib._bootstrap>\", line 983, in _find_and_load\n",
      "  File \"<frozen importlib._bootstrap>\", line 967, in _find_and_load_unlocked\n",
      "  File \"<frozen importlib._bootstrap>\", line 677, in _load_unlocked\n",
      "  File \"<frozen importlib._bootstrap_external>\", line 728, in exec_module\n",
      "  File \"<frozen importlib._bootstrap>\", line 219, in _call_with_frames_removed\n",
      "  File \"C:\\Users\\3bfsa\\Anaconda3\\lib\\site-packages\\tensorflow_core\\__init__.py\", line 42, in <module>\n",
      "    from . _api.v2 import audio\n",
      "  File \"C:\\Users\\3bfsa\\Anaconda3\\lib\\site-packages\\tensorflow_core\\_api\\v2\\audio\\__init__.py\", line 10, in <module>\n",
      "    from tensorflow.python.ops.gen_audio_ops import decode_wav\n",
      "  File \"C:\\Users\\3bfsa\\Anaconda3\\lib\\site-packages\\tensorflow_core\\python\\ops\\gen_audio_ops.py\", line 9, in <module>\n",
      "    from tensorflow.python import pywrap_tensorflow as _pywrap_tensorflow\n",
      "  File \"C:\\Users\\3bfsa\\Anaconda3\\lib\\site-packages\\tensorflow\\__init__.py\", line 50, in __getattr__\n",
      "    module = self._load()\n",
      "  File \"C:\\Users\\3bfsa\\Anaconda3\\lib\\site-packages\\tensorflow\\__init__.py\", line 44, in _load\n",
      "    module = _importlib.import_module(self.__name__)\n",
      "  File \"C:\\Users\\3bfsa\\Anaconda3\\lib\\importlib\\__init__.py\", line 127, in import_module\n",
      "    return _bootstrap._gcd_import(name[level:], package, level)\n",
      "  File \"C:\\Users\\3bfsa\\Anaconda3\\lib\\site-packages\\tensorflow_core\\python\\__init__.py\", line 49, in <module>\n",
      "    from tensorflow.python import pywrap_tensorflow\n",
      "  File \"C:\\Users\\3bfsa\\Anaconda3\\lib\\site-packages\\tensorflow_core\\python\\pywrap_tensorflow.py\", line 74, in <module>\n",
      "    raise ImportError(msg)\n",
      "ImportError: Traceback (most recent call last):\n",
      "  File \"C:\\Users\\3bfsa\\Anaconda3\\lib\\site-packages\\tensorflow_core\\python\\pywrap_tensorflow.py\", line 58, in <module>\n",
      "    from tensorflow.python.pywrap_tensorflow_internal import *\n",
      "  File \"C:\\Users\\3bfsa\\Anaconda3\\lib\\site-packages\\tensorflow_core\\python\\pywrap_tensorflow_internal.py\", line 28, in <module>\n",
      "    _pywrap_tensorflow_internal = swig_import_helper()\n",
      "  File \"C:\\Users\\3bfsa\\Anaconda3\\lib\\site-packages\\tensorflow_core\\python\\pywrap_tensorflow_internal.py\", line 24, in swig_import_helper\n",
      "    _mod = imp.load_module('_pywrap_tensorflow_internal', fp, pathname, description)\n",
      "  File \"C:\\Users\\3bfsa\\Anaconda3\\lib\\imp.py\", line 242, in load_module\n",
      "    return load_dynamic(name, filename, file)\n",
      "  File \"C:\\Users\\3bfsa\\Anaconda3\\lib\\imp.py\", line 342, in load_dynamic\n",
      "    return _load(spec)\n",
      "ImportError: DLL load failed: Le module spécifié est introuvable.\n",
      "\n",
      "During handling of the above exception, another exception occurred:\n",
      "\n",
      "Traceback (most recent call last):\n",
      "  File \"C:\\Users\\3bfsa\\Anaconda3\\lib\\site-packages\\IPython\\core\\interactiveshell.py\", line 3326, in run_code\n",
      "    exec(code_obj, self.user_global_ns, self.user_ns)\n",
      "  File \"<ipython-input-1-428d61da1255>\", line 12, in <module>\n",
      "    import keras\n",
      "  File \"C:\\Users\\3bfsa\\Anaconda3\\lib\\site-packages\\keras\\__init__.py\", line 3, in <module>\n",
      "    from . import utils\n",
      "  File \"C:\\Users\\3bfsa\\Anaconda3\\lib\\site-packages\\keras\\utils\\__init__.py\", line 6, in <module>\n",
      "    from . import conv_utils\n",
      "  File \"C:\\Users\\3bfsa\\Anaconda3\\lib\\site-packages\\keras\\utils\\conv_utils.py\", line 9, in <module>\n",
      "    from .. import backend as K\n",
      "  File \"C:\\Users\\3bfsa\\Anaconda3\\lib\\site-packages\\keras\\backend\\__init__.py\", line 1, in <module>\n",
      "    from .load_backend import epsilon\n",
      "  File \"C:\\Users\\3bfsa\\Anaconda3\\lib\\site-packages\\keras\\backend\\load_backend.py\", line 90, in <module>\n",
      "    from .tensorflow_backend import *\n",
      "  File \"C:\\Users\\3bfsa\\Anaconda3\\lib\\site-packages\\keras\\backend\\tensorflow_backend.py\", line 5, in <module>\n",
      "    import tensorflow as tf\n",
      "  File \"C:\\Users\\3bfsa\\Anaconda3\\lib\\site-packages\\tensorflow\\__init__.py\", line 101, in <module>\n",
      "    from tensorflow_core import *\n",
      "  File \"C:\\Users\\3bfsa\\Anaconda3\\lib\\site-packages\\tensorflow_core\\__init__.py\", line 40, in <module>\n",
      "    from tensorflow.python.tools import module_util as _module_util\n",
      "  File \"C:\\Users\\3bfsa\\Anaconda3\\lib\\site-packages\\tensorflow\\__init__.py\", line 50, in __getattr__\n",
      "    module = self._load()\n",
      "  File \"C:\\Users\\3bfsa\\Anaconda3\\lib\\site-packages\\tensorflow\\__init__.py\", line 44, in _load\n",
      "    module = _importlib.import_module(self.__name__)\n",
      "  File \"C:\\Users\\3bfsa\\Anaconda3\\lib\\importlib\\__init__.py\", line 127, in import_module\n",
      "    return _bootstrap._gcd_import(name[level:], package, level)\n",
      "  File \"C:\\Users\\3bfsa\\Anaconda3\\lib\\site-packages\\tensorflow_core\\python\\__init__.py\", line 49, in <module>\n",
      "    from tensorflow.python import pywrap_tensorflow\n",
      "  File \"C:\\Users\\3bfsa\\Anaconda3\\lib\\site-packages\\tensorflow_core\\python\\pywrap_tensorflow.py\", line 74, in <module>\n",
      "    raise ImportError(msg)\n",
      "ImportError: Traceback (most recent call last):\n",
      "  File \"C:\\Users\\3bfsa\\Anaconda3\\lib\\site-packages\\tensorflow_core\\python\\pywrap_tensorflow.py\", line 58, in <module>\n",
      "    from tensorflow.python.pywrap_tensorflow_internal import *\n",
      "  File \"C:\\Users\\3bfsa\\Anaconda3\\lib\\site-packages\\tensorflow_core\\python\\pywrap_tensorflow_internal.py\", line 28, in <module>\n",
      "    _pywrap_tensorflow_internal = swig_import_helper()\n",
      "  File \"C:\\Users\\3bfsa\\Anaconda3\\lib\\site-packages\\tensorflow_core\\python\\pywrap_tensorflow_internal.py\", line 24, in swig_import_helper\n",
      "    _mod = imp.load_module('_pywrap_tensorflow_internal', fp, pathname, description)\n",
      "  File \"C:\\Users\\3bfsa\\Anaconda3\\lib\\imp.py\", line 242, in load_module\n",
      "    return load_dynamic(name, filename, file)\n",
      "  File \"C:\\Users\\3bfsa\\Anaconda3\\lib\\imp.py\", line 342, in load_dynamic\n",
      "    return _load(spec)\n",
      "ImportError: DLL load failed: Le module spécifié est introuvable.\n",
      "\n",
      "\n",
      "Failed to load the native TensorFlow runtime.\n",
      "\n",
      "See https://www.tensorflow.org/install/errors\n",
      "\n",
      "for some common reasons and solutions.  Include the entire stack trace\n",
      "above this error message when asking for help.\n",
      "\n",
      "During handling of the above exception, another exception occurred:\n",
      "\n",
      "Traceback (most recent call last):\n",
      "  File \"C:\\Users\\3bfsa\\Anaconda3\\lib\\site-packages\\IPython\\core\\interactiveshell.py\", line 2040, in showtraceback\n",
      "    stb = value._render_traceback_()\n",
      "AttributeError: 'ImportError' object has no attribute '_render_traceback_'\n",
      "\n",
      "During handling of the above exception, another exception occurred:\n",
      "\n",
      "Traceback (most recent call last):\n",
      "  File \"C:\\Users\\3bfsa\\Anaconda3\\lib\\site-packages\\IPython\\core\\interactiveshell.py\", line 3249, in run_ast_nodes\n",
      "    if (await self.run_code(code, result,  async_=asy)):\n",
      "  File \"C:\\Users\\3bfsa\\Anaconda3\\lib\\site-packages\\IPython\\core\\interactiveshell.py\", line 3343, in run_code\n",
      "    self.showtraceback(running_compiled_code=True)\n",
      "  File \"C:\\Users\\3bfsa\\Anaconda3\\lib\\site-packages\\IPython\\core\\interactiveshell.py\", line 2043, in showtraceback\n",
      "    value, tb, tb_offset=tb_offset)\n",
      "  File \"C:\\Users\\3bfsa\\Anaconda3\\lib\\site-packages\\IPython\\core\\ultratb.py\", line 1385, in structured_traceback\n",
      "    self, etype, value, tb, tb_offset, number_of_lines_of_context)\n",
      "  File \"C:\\Users\\3bfsa\\Anaconda3\\lib\\site-packages\\IPython\\core\\ultratb.py\", line 1288, in structured_traceback\n",
      "    self, etype, value, tb, tb_offset, number_of_lines_of_context\n",
      "  File \"C:\\Users\\3bfsa\\Anaconda3\\lib\\site-packages\\IPython\\core\\ultratb.py\", line 1150, in structured_traceback\n",
      "    formatted_exceptions += self.prepare_chained_exception_message(evalue.__cause__)\n",
      "TypeError: can only concatenate str (not \"list\") to str\n",
      "\n",
      "During handling of the above exception, another exception occurred:\n",
      "\n",
      "Traceback (most recent call last):\n",
      "  File \"C:\\Users\\3bfsa\\Anaconda3\\lib\\site-packages\\IPython\\core\\interactiveshell.py\", line 2040, in showtraceback\n",
      "    stb = value._render_traceback_()\n",
      "AttributeError: 'TypeError' object has no attribute '_render_traceback_'\n",
      "\n",
      "During handling of the above exception, another exception occurred:\n",
      "\n",
      "Traceback (most recent call last):\n",
      "  File \"C:\\Users\\3bfsa\\Anaconda3\\lib\\site-packages\\tensorflow_core\\python\\pywrap_tensorflow.py\", line 58, in <module>\n",
      "    from tensorflow.python.pywrap_tensorflow_internal import *\n",
      "  File \"C:\\Users\\3bfsa\\Anaconda3\\lib\\site-packages\\tensorflow_core\\python\\pywrap_tensorflow_internal.py\", line 28, in <module>\n",
      "    _pywrap_tensorflow_internal = swig_import_helper()\n",
      "  File \"C:\\Users\\3bfsa\\Anaconda3\\lib\\site-packages\\tensorflow_core\\python\\pywrap_tensorflow_internal.py\", line 24, in swig_import_helper\n",
      "    _mod = imp.load_module('_pywrap_tensorflow_internal', fp, pathname, description)\n",
      "  File \"C:\\Users\\3bfsa\\Anaconda3\\lib\\imp.py\", line 242, in load_module\n",
      "    return load_dynamic(name, filename, file)\n",
      "  File \"C:\\Users\\3bfsa\\Anaconda3\\lib\\imp.py\", line 342, in load_dynamic\n",
      "    return _load(spec)\n",
      "ImportError: DLL load failed: Le module spécifié est introuvable.\n",
      "\n",
      "\n",
      "Failed to load the native TensorFlow runtime.\n",
      "\n",
      "See https://www.tensorflow.org/install/errors\n",
      "\n",
      "for some common reasons and solutions.  Include the entire stack trace\n",
      "above this error message when asking for help.\n"
     ]
    },
    {
     "ename": "TypeError",
     "evalue": "can only concatenate str (not \"list\") to str",
     "output_type": "error",
     "traceback": [
      "\u001b[1;31m---------------------------------------------------------------------------\u001b[0m",
      "\u001b[1;31mImportError\u001b[0m                               Traceback (most recent call last)",
      "\u001b[1;32m~\\Anaconda3\\lib\\site-packages\\tensorflow_core\\python\\pywrap_tensorflow.py\u001b[0m in \u001b[0;36m<module>\u001b[1;34m\u001b[0m\n\u001b[0;32m     57\u001b[0m \u001b[1;33m\u001b[0m\u001b[0m\n\u001b[1;32m---> 58\u001b[1;33m   \u001b[1;32mfrom\u001b[0m \u001b[0mtensorflow\u001b[0m\u001b[1;33m.\u001b[0m\u001b[0mpython\u001b[0m\u001b[1;33m.\u001b[0m\u001b[0mpywrap_tensorflow_internal\u001b[0m \u001b[1;32mimport\u001b[0m \u001b[1;33m*\u001b[0m\u001b[1;33m\u001b[0m\u001b[1;33m\u001b[0m\u001b[0m\n\u001b[0m\u001b[0;32m     59\u001b[0m   \u001b[1;32mfrom\u001b[0m \u001b[0mtensorflow\u001b[0m\u001b[1;33m.\u001b[0m\u001b[0mpython\u001b[0m\u001b[1;33m.\u001b[0m\u001b[0mpywrap_tensorflow_internal\u001b[0m \u001b[1;32mimport\u001b[0m \u001b[0m__version__\u001b[0m\u001b[1;33m\u001b[0m\u001b[1;33m\u001b[0m\u001b[0m\n",
      "\u001b[1;32m~\\Anaconda3\\lib\\site-packages\\tensorflow_core\\python\\pywrap_tensorflow_internal.py\u001b[0m in \u001b[0;36m<module>\u001b[1;34m\u001b[0m\n\u001b[0;32m     27\u001b[0m             \u001b[1;32mreturn\u001b[0m \u001b[0m_mod\u001b[0m\u001b[1;33m\u001b[0m\u001b[1;33m\u001b[0m\u001b[0m\n\u001b[1;32m---> 28\u001b[1;33m     \u001b[0m_pywrap_tensorflow_internal\u001b[0m \u001b[1;33m=\u001b[0m \u001b[0mswig_import_helper\u001b[0m\u001b[1;33m(\u001b[0m\u001b[1;33m)\u001b[0m\u001b[1;33m\u001b[0m\u001b[1;33m\u001b[0m\u001b[0m\n\u001b[0m\u001b[0;32m     29\u001b[0m     \u001b[1;32mdel\u001b[0m \u001b[0mswig_import_helper\u001b[0m\u001b[1;33m\u001b[0m\u001b[1;33m\u001b[0m\u001b[0m\n",
      "\u001b[1;32m~\\Anaconda3\\lib\\site-packages\\tensorflow_core\\python\\pywrap_tensorflow_internal.py\u001b[0m in \u001b[0;36mswig_import_helper\u001b[1;34m()\u001b[0m\n\u001b[0;32m     23\u001b[0m             \u001b[1;32mtry\u001b[0m\u001b[1;33m:\u001b[0m\u001b[1;33m\u001b[0m\u001b[1;33m\u001b[0m\u001b[0m\n\u001b[1;32m---> 24\u001b[1;33m                 \u001b[0m_mod\u001b[0m \u001b[1;33m=\u001b[0m \u001b[0mimp\u001b[0m\u001b[1;33m.\u001b[0m\u001b[0mload_module\u001b[0m\u001b[1;33m(\u001b[0m\u001b[1;34m'_pywrap_tensorflow_internal'\u001b[0m\u001b[1;33m,\u001b[0m \u001b[0mfp\u001b[0m\u001b[1;33m,\u001b[0m \u001b[0mpathname\u001b[0m\u001b[1;33m,\u001b[0m \u001b[0mdescription\u001b[0m\u001b[1;33m)\u001b[0m\u001b[1;33m\u001b[0m\u001b[1;33m\u001b[0m\u001b[0m\n\u001b[0m\u001b[0;32m     25\u001b[0m             \u001b[1;32mfinally\u001b[0m\u001b[1;33m:\u001b[0m\u001b[1;33m\u001b[0m\u001b[1;33m\u001b[0m\u001b[0m\n",
      "\u001b[1;32m~\\Anaconda3\\lib\\imp.py\u001b[0m in \u001b[0;36mload_module\u001b[1;34m(name, file, filename, details)\u001b[0m\n\u001b[0;32m    241\u001b[0m         \u001b[1;32melse\u001b[0m\u001b[1;33m:\u001b[0m\u001b[1;33m\u001b[0m\u001b[1;33m\u001b[0m\u001b[0m\n\u001b[1;32m--> 242\u001b[1;33m             \u001b[1;32mreturn\u001b[0m \u001b[0mload_dynamic\u001b[0m\u001b[1;33m(\u001b[0m\u001b[0mname\u001b[0m\u001b[1;33m,\u001b[0m \u001b[0mfilename\u001b[0m\u001b[1;33m,\u001b[0m \u001b[0mfile\u001b[0m\u001b[1;33m)\u001b[0m\u001b[1;33m\u001b[0m\u001b[1;33m\u001b[0m\u001b[0m\n\u001b[0m\u001b[0;32m    243\u001b[0m     \u001b[1;32melif\u001b[0m \u001b[0mtype_\u001b[0m \u001b[1;33m==\u001b[0m \u001b[0mPKG_DIRECTORY\u001b[0m\u001b[1;33m:\u001b[0m\u001b[1;33m\u001b[0m\u001b[1;33m\u001b[0m\u001b[0m\n",
      "\u001b[1;32m~\\Anaconda3\\lib\\imp.py\u001b[0m in \u001b[0;36mload_dynamic\u001b[1;34m(name, path, file)\u001b[0m\n\u001b[0;32m    341\u001b[0m             name=name, loader=loader, origin=path)\n\u001b[1;32m--> 342\u001b[1;33m         \u001b[1;32mreturn\u001b[0m \u001b[0m_load\u001b[0m\u001b[1;33m(\u001b[0m\u001b[0mspec\u001b[0m\u001b[1;33m)\u001b[0m\u001b[1;33m\u001b[0m\u001b[1;33m\u001b[0m\u001b[0m\n\u001b[0m\u001b[0;32m    343\u001b[0m \u001b[1;33m\u001b[0m\u001b[0m\n",
      "\u001b[1;31mImportError\u001b[0m: DLL load failed: Le module spécifié est introuvable.",
      "\nDuring handling of the above exception, another exception occurred:\n",
      "\nDuring handling of the above exception, another exception occurred:\n",
      "\u001b[1;31mAttributeError\u001b[0m                            Traceback (most recent call last)",
      "\u001b[1;32m~\\Anaconda3\\lib\\site-packages\\IPython\\core\\interactiveshell.py\u001b[0m in \u001b[0;36mshowtraceback\u001b[1;34m(self, exc_tuple, filename, tb_offset, exception_only, running_compiled_code)\u001b[0m\n\u001b[0;32m   2039\u001b[0m                         \u001b[1;31m# in the engines. This should return a list of strings.\u001b[0m\u001b[1;33m\u001b[0m\u001b[1;33m\u001b[0m\u001b[1;33m\u001b[0m\u001b[0m\n\u001b[1;32m-> 2040\u001b[1;33m                         \u001b[0mstb\u001b[0m \u001b[1;33m=\u001b[0m \u001b[0mvalue\u001b[0m\u001b[1;33m.\u001b[0m\u001b[0m_render_traceback_\u001b[0m\u001b[1;33m(\u001b[0m\u001b[1;33m)\u001b[0m\u001b[1;33m\u001b[0m\u001b[1;33m\u001b[0m\u001b[0m\n\u001b[0m\u001b[0;32m   2041\u001b[0m                     \u001b[1;32mexcept\u001b[0m \u001b[0mException\u001b[0m\u001b[1;33m:\u001b[0m\u001b[1;33m\u001b[0m\u001b[1;33m\u001b[0m\u001b[0m\n",
      "\u001b[1;31mAttributeError\u001b[0m: 'ImportError' object has no attribute '_render_traceback_'",
      "\nDuring handling of the above exception, another exception occurred:\n",
      "\u001b[1;31mTypeError\u001b[0m                                 Traceback (most recent call last)",
      "\u001b[1;32m~\\Anaconda3\\lib\\site-packages\\IPython\\core\\interactiveshell.py\u001b[0m in \u001b[0;36mrun_code\u001b[1;34m(self, code_obj, result, async_)\u001b[0m\n\u001b[0;32m   3341\u001b[0m             \u001b[1;32mif\u001b[0m \u001b[0mresult\u001b[0m \u001b[1;32mis\u001b[0m \u001b[1;32mnot\u001b[0m \u001b[1;32mNone\u001b[0m\u001b[1;33m:\u001b[0m\u001b[1;33m\u001b[0m\u001b[1;33m\u001b[0m\u001b[0m\n\u001b[0;32m   3342\u001b[0m                 \u001b[0mresult\u001b[0m\u001b[1;33m.\u001b[0m\u001b[0merror_in_exec\u001b[0m \u001b[1;33m=\u001b[0m \u001b[0msys\u001b[0m\u001b[1;33m.\u001b[0m\u001b[0mexc_info\u001b[0m\u001b[1;33m(\u001b[0m\u001b[1;33m)\u001b[0m\u001b[1;33m[\u001b[0m\u001b[1;36m1\u001b[0m\u001b[1;33m]\u001b[0m\u001b[1;33m\u001b[0m\u001b[1;33m\u001b[0m\u001b[0m\n\u001b[1;32m-> 3343\u001b[1;33m             \u001b[0mself\u001b[0m\u001b[1;33m.\u001b[0m\u001b[0mshowtraceback\u001b[0m\u001b[1;33m(\u001b[0m\u001b[0mrunning_compiled_code\u001b[0m\u001b[1;33m=\u001b[0m\u001b[1;32mTrue\u001b[0m\u001b[1;33m)\u001b[0m\u001b[1;33m\u001b[0m\u001b[1;33m\u001b[0m\u001b[0m\n\u001b[0m\u001b[0;32m   3344\u001b[0m         \u001b[1;32melse\u001b[0m\u001b[1;33m:\u001b[0m\u001b[1;33m\u001b[0m\u001b[1;33m\u001b[0m\u001b[0m\n\u001b[0;32m   3345\u001b[0m             \u001b[0moutflag\u001b[0m \u001b[1;33m=\u001b[0m \u001b[1;32mFalse\u001b[0m\u001b[1;33m\u001b[0m\u001b[1;33m\u001b[0m\u001b[0m\n",
      "\u001b[1;32m~\\Anaconda3\\lib\\site-packages\\IPython\\core\\interactiveshell.py\u001b[0m in \u001b[0;36mshowtraceback\u001b[1;34m(self, exc_tuple, filename, tb_offset, exception_only, running_compiled_code)\u001b[0m\n\u001b[0;32m   2041\u001b[0m                     \u001b[1;32mexcept\u001b[0m \u001b[0mException\u001b[0m\u001b[1;33m:\u001b[0m\u001b[1;33m\u001b[0m\u001b[1;33m\u001b[0m\u001b[0m\n\u001b[0;32m   2042\u001b[0m                         stb = self.InteractiveTB.structured_traceback(etype,\n\u001b[1;32m-> 2043\u001b[1;33m                                             value, tb, tb_offset=tb_offset)\n\u001b[0m\u001b[0;32m   2044\u001b[0m \u001b[1;33m\u001b[0m\u001b[0m\n\u001b[0;32m   2045\u001b[0m                     \u001b[0mself\u001b[0m\u001b[1;33m.\u001b[0m\u001b[0m_showtraceback\u001b[0m\u001b[1;33m(\u001b[0m\u001b[0metype\u001b[0m\u001b[1;33m,\u001b[0m \u001b[0mvalue\u001b[0m\u001b[1;33m,\u001b[0m \u001b[0mstb\u001b[0m\u001b[1;33m)\u001b[0m\u001b[1;33m\u001b[0m\u001b[1;33m\u001b[0m\u001b[0m\n",
      "\u001b[1;32m~\\Anaconda3\\lib\\site-packages\\IPython\\core\\ultratb.py\u001b[0m in \u001b[0;36mstructured_traceback\u001b[1;34m(self, etype, value, tb, tb_offset, number_of_lines_of_context)\u001b[0m\n\u001b[0;32m   1383\u001b[0m         \u001b[0mself\u001b[0m\u001b[1;33m.\u001b[0m\u001b[0mtb\u001b[0m \u001b[1;33m=\u001b[0m \u001b[0mtb\u001b[0m\u001b[1;33m\u001b[0m\u001b[1;33m\u001b[0m\u001b[0m\n\u001b[0;32m   1384\u001b[0m         return FormattedTB.structured_traceback(\n\u001b[1;32m-> 1385\u001b[1;33m             self, etype, value, tb, tb_offset, number_of_lines_of_context)\n\u001b[0m\u001b[0;32m   1386\u001b[0m \u001b[1;33m\u001b[0m\u001b[0m\n\u001b[0;32m   1387\u001b[0m \u001b[1;33m\u001b[0m\u001b[0m\n",
      "\u001b[1;32m~\\Anaconda3\\lib\\site-packages\\IPython\\core\\ultratb.py\u001b[0m in \u001b[0;36mstructured_traceback\u001b[1;34m(self, etype, value, tb, tb_offset, number_of_lines_of_context)\u001b[0m\n\u001b[0;32m   1286\u001b[0m             \u001b[1;31m# Verbose modes need a full traceback\u001b[0m\u001b[1;33m\u001b[0m\u001b[1;33m\u001b[0m\u001b[1;33m\u001b[0m\u001b[0m\n\u001b[0;32m   1287\u001b[0m             return VerboseTB.structured_traceback(\n\u001b[1;32m-> 1288\u001b[1;33m                 \u001b[0mself\u001b[0m\u001b[1;33m,\u001b[0m \u001b[0metype\u001b[0m\u001b[1;33m,\u001b[0m \u001b[0mvalue\u001b[0m\u001b[1;33m,\u001b[0m \u001b[0mtb\u001b[0m\u001b[1;33m,\u001b[0m \u001b[0mtb_offset\u001b[0m\u001b[1;33m,\u001b[0m \u001b[0mnumber_of_lines_of_context\u001b[0m\u001b[1;33m\u001b[0m\u001b[1;33m\u001b[0m\u001b[0m\n\u001b[0m\u001b[0;32m   1289\u001b[0m             )\n\u001b[0;32m   1290\u001b[0m         \u001b[1;32melif\u001b[0m \u001b[0mmode\u001b[0m \u001b[1;33m==\u001b[0m \u001b[1;34m'Minimal'\u001b[0m\u001b[1;33m:\u001b[0m\u001b[1;33m\u001b[0m\u001b[1;33m\u001b[0m\u001b[0m\n",
      "\u001b[1;32m~\\Anaconda3\\lib\\site-packages\\IPython\\core\\ultratb.py\u001b[0m in \u001b[0;36mstructured_traceback\u001b[1;34m(self, etype, evalue, etb, tb_offset, number_of_lines_of_context)\u001b[0m\n\u001b[0;32m   1148\u001b[0m         \u001b[0mexception\u001b[0m \u001b[1;33m=\u001b[0m \u001b[0mself\u001b[0m\u001b[1;33m.\u001b[0m\u001b[0mget_parts_of_chained_exception\u001b[0m\u001b[1;33m(\u001b[0m\u001b[0mevalue\u001b[0m\u001b[1;33m)\u001b[0m\u001b[1;33m\u001b[0m\u001b[1;33m\u001b[0m\u001b[0m\n\u001b[0;32m   1149\u001b[0m         \u001b[1;32mif\u001b[0m \u001b[0mexception\u001b[0m\u001b[1;33m:\u001b[0m\u001b[1;33m\u001b[0m\u001b[1;33m\u001b[0m\u001b[0m\n\u001b[1;32m-> 1150\u001b[1;33m             \u001b[0mformatted_exceptions\u001b[0m \u001b[1;33m+=\u001b[0m \u001b[0mself\u001b[0m\u001b[1;33m.\u001b[0m\u001b[0mprepare_chained_exception_message\u001b[0m\u001b[1;33m(\u001b[0m\u001b[0mevalue\u001b[0m\u001b[1;33m.\u001b[0m\u001b[0m__cause__\u001b[0m\u001b[1;33m)\u001b[0m\u001b[1;33m\u001b[0m\u001b[1;33m\u001b[0m\u001b[0m\n\u001b[0m\u001b[0;32m   1151\u001b[0m             \u001b[0metype\u001b[0m\u001b[1;33m,\u001b[0m \u001b[0mevalue\u001b[0m\u001b[1;33m,\u001b[0m \u001b[0metb\u001b[0m \u001b[1;33m=\u001b[0m \u001b[0mexception\u001b[0m\u001b[1;33m\u001b[0m\u001b[1;33m\u001b[0m\u001b[0m\n\u001b[0;32m   1152\u001b[0m         \u001b[1;32melse\u001b[0m\u001b[1;33m:\u001b[0m\u001b[1;33m\u001b[0m\u001b[1;33m\u001b[0m\u001b[0m\n",
      "\u001b[1;31mTypeError\u001b[0m: can only concatenate str (not \"list\") to str"
     ]
    }
   ],
   "source": [
    "import random\n",
    "import re\n",
    "import pandas as pd\n",
    "import numpy as np\n",
    "import csv\n",
    "import pickle\n",
    "from sklearn.feature_extraction.text import CountVectorizer\n",
    "from sklearn.model_selection import train_test_split,GridSearchCV,KFold\n",
    "from sklearn.linear_model import LogisticRegression\n",
    "from sklearn.ensemble import RandomForestClassifier\n",
    "from sklearn.svm import SVC\n",
    "import keras\n",
    "import sklearn\n",
    "from keras.models import Sequential\n",
    "from keras import layers\n",
    "import tensorflow as tf"
   ]
  },
  {
   "cell_type": "markdown",
   "metadata": {
    "colab_type": "text",
    "id": "v5f9zcBoqqYF"
   },
   "source": [
    "---\n",
    "## Importation des données\n",
    "---"
   ]
  },
  {
   "cell_type": "code",
   "execution_count": 0,
   "metadata": {
    "colab": {},
    "colab_type": "code",
    "id": "9X4hFtKkqqYH"
   },
   "outputs": [],
   "source": [
    "with open(\"OpenSubtitles.de-fr.fr\" , encoding='utf-8') as f :\n",
    "    subtitles = f.read().split(\"\\n\")"
   ]
  },
  {
   "cell_type": "markdown",
   "metadata": {
    "colab_type": "text",
    "id": "m_MFv6gadSuF"
   },
   "source": [
    "Importation des dialogues de la base OPUS, nous avons utilisé les sous titres français allemand. "
   ]
  },
  {
   "cell_type": "code",
   "execution_count": 3,
   "metadata": {
    "colab": {},
    "colab_type": "code",
    "id": "6nqwDVPoqqYN"
   },
   "outputs": [],
   "source": [
    "scrapping = pd.read_csv(\"scraping.csv\", sep=';', header=0)"
   ]
  },
  {
   "cell_type": "markdown",
   "metadata": {
    "colab_type": "text",
    "id": "36vp0FS5eEbk"
   },
   "source": [
    "Importation des données que nous avons récupérées par scraping pour la composante orientée tâche. "
   ]
  },
  {
   "cell_type": "code",
   "execution_count": 4,
   "metadata": {
    "colab": {
     "base_uri": "https://localhost:8080/",
     "height": 355
    },
    "colab_type": "code",
    "executionInfo": {
     "elapsed": 763,
     "status": "ok",
     "timestamp": 1580588473208,
     "user": {
      "displayName": "sarah faucon",
      "photoUrl": "",
      "userId": "00071383878885981401"
     },
     "user_tz": -60
    },
    "id": "3TU5Tjh_qqYR",
    "outputId": "79c0a81c-8d44-41a4-ebed-81acd5d585e1"
   },
   "outputs": [
    {
     "data": {
      "text/html": [
       "<div>\n",
       "<style scoped>\n",
       "    .dataframe tbody tr th:only-of-type {\n",
       "        vertical-align: middle;\n",
       "    }\n",
       "\n",
       "    .dataframe tbody tr th {\n",
       "        vertical-align: top;\n",
       "    }\n",
       "\n",
       "    .dataframe thead th {\n",
       "        text-align: right;\n",
       "    }\n",
       "</style>\n",
       "<table border=\"1\" class=\"dataframe\">\n",
       "  <thead>\n",
       "    <tr style=\"text-align: right;\">\n",
       "      <th></th>\n",
       "      <th>theme</th>\n",
       "      <th>question</th>\n",
       "      <th>reponse</th>\n",
       "    </tr>\n",
       "  </thead>\n",
       "  <tbody>\n",
       "    <tr>\n",
       "      <td>0</td>\n",
       "      <td>Livraison</td>\n",
       "      <td>Quel transporteur va me livrer ?</td>\n",
       "      <td>Le nom du transporteur vous est indiqué lors d...</td>\n",
       "    </tr>\n",
       "    <tr>\n",
       "      <td>1</td>\n",
       "      <td>Livraison</td>\n",
       "      <td>Colissimo : quels sont les délais et modalités...</td>\n",
       "      <td>Vous êtes livré par Colissimo sous 4 à 6 jours...</td>\n",
       "    </tr>\n",
       "    <tr>\n",
       "      <td>2</td>\n",
       "      <td>Livraison</td>\n",
       "      <td>Geodis : quels sont les délais et modalités d’...</td>\n",
       "      <td>Vous êtes livré par Geodis sous 4 à 6 jours ou...</td>\n",
       "    </tr>\n",
       "    <tr>\n",
       "      <td>3</td>\n",
       "      <td>Livraison</td>\n",
       "      <td>Agediss : quels sont les délais et modalités d...</td>\n",
       "      <td>Vous êtes livré par Agediss dans la pièce de v...</td>\n",
       "    </tr>\n",
       "    <tr>\n",
       "      <td>4</td>\n",
       "      <td>Livraison</td>\n",
       "      <td>Chronopost : Quels sont les délais et modalité...</td>\n",
       "      <td>Vous êtes livré par Chronopost sous 4 à 6 jour...</td>\n",
       "    </tr>\n",
       "    <tr>\n",
       "      <td>5</td>\n",
       "      <td>Livraison</td>\n",
       "      <td>Colissimo point de retrait : quels sont les dé...</td>\n",
       "      <td>Votre commande est livrée sous 3 à 6 jours ouv...</td>\n",
       "    </tr>\n",
       "    <tr>\n",
       "      <td>6</td>\n",
       "      <td>Livraison</td>\n",
       "      <td>City transport : quels sont les délais et moda...</td>\n",
       "      <td>City transport livre sous 4 à 6 jours ouvrés a...</td>\n",
       "    </tr>\n",
       "    <tr>\n",
       "      <td>7</td>\n",
       "      <td>Livraison</td>\n",
       "      <td>Jacky Perrenot : quels sont les délais et moda...</td>\n",
       "      <td>Vous êtes livré par Jacky Perrenot dans la piè...</td>\n",
       "    </tr>\n",
       "    <tr>\n",
       "      <td>8</td>\n",
       "      <td>Livraison</td>\n",
       "      <td>Guisnel : quels sont les délais et modalités d...</td>\n",
       "      <td>Vous êtes livré par Guisnel dans la pièce de v...</td>\n",
       "    </tr>\n",
       "    <tr>\n",
       "      <td>9</td>\n",
       "      <td>Livraison</td>\n",
       "      <td>Geodis point de retrait : quels sont les délai...</td>\n",
       "      <td>Votre commande est livrée sous 3 à 6 jours ouv...</td>\n",
       "    </tr>\n",
       "  </tbody>\n",
       "</table>\n",
       "</div>"
      ],
      "text/plain": [
       "       theme                                           question  \\\n",
       "0  Livraison                   Quel transporteur va me livrer ?   \n",
       "1  Livraison  Colissimo : quels sont les délais et modalités...   \n",
       "2  Livraison  Geodis : quels sont les délais et modalités d’...   \n",
       "3  Livraison  Agediss : quels sont les délais et modalités d...   \n",
       "4  Livraison  Chronopost : Quels sont les délais et modalité...   \n",
       "5  Livraison  Colissimo point de retrait : quels sont les dé...   \n",
       "6  Livraison  City transport : quels sont les délais et moda...   \n",
       "7  Livraison  Jacky Perrenot : quels sont les délais et moda...   \n",
       "8  Livraison  Guisnel : quels sont les délais et modalités d...   \n",
       "9  Livraison  Geodis point de retrait : quels sont les délai...   \n",
       "\n",
       "                                             reponse  \n",
       "0  Le nom du transporteur vous est indiqué lors d...  \n",
       "1  Vous êtes livré par Colissimo sous 4 à 6 jours...  \n",
       "2  Vous êtes livré par Geodis sous 4 à 6 jours ou...  \n",
       "3  Vous êtes livré par Agediss dans la pièce de v...  \n",
       "4  Vous êtes livré par Chronopost sous 4 à 6 jour...  \n",
       "5  Votre commande est livrée sous 3 à 6 jours ouv...  \n",
       "6  City transport livre sous 4 à 6 jours ouvrés a...  \n",
       "7  Vous êtes livré par Jacky Perrenot dans la piè...  \n",
       "8  Vous êtes livré par Guisnel dans la pièce de v...  \n",
       "9  Votre commande est livrée sous 3 à 6 jours ouv...  "
      ]
     },
     "execution_count": 4,
     "metadata": {},
     "output_type": "execute_result"
    }
   ],
   "source": [
    "scrapping.head(10)"
   ]
  },
  {
   "cell_type": "markdown",
   "metadata": {
    "colab_type": "text",
    "id": "PF7bnaLqqqYd"
   },
   "source": [
    "---\n",
    "## Recherche des questions dans corpus de sous-titres\n",
    "---"
   ]
  },
  {
   "cell_type": "markdown",
   "metadata": {
    "colab_type": "text",
    "id": "0sHbiIKbebVf"
   },
   "source": [
    "Nous avons recherché des questions dans le corpus des sous-titres dans le but de constituer des échantillons d'apprentissage et de validation composés de questions du domaine et de questions issues de la base de sous-titre OPUS. Nous allons ensuite nous servir de ces échantillons pour entrainer des modèles de classification. "
   ]
  },
  {
   "cell_type": "markdown",
   "metadata": {
    "colab_type": "text",
    "id": "o0DNDI0ZqqYX"
   },
   "source": [
    "### Création d'un corpus de mots propres aux questions"
   ]
  },
  {
   "cell_type": "code",
   "execution_count": 0,
   "metadata": {
    "colab": {},
    "colab_type": "code",
    "id": "qwitm2JeqqYY"
   },
   "outputs": [],
   "source": [
    "corpus_question = [\"qu'\",\"c'est\",'comment', 'pourquoi', 'quoi', 'depuis', 'combien', 'quand', 'où', 'est ce que', 'lequel', 'laquelle', 'lesquels', 'quel', 'quelle', 'quels', 'quelles', \"qu'est ce que\", 'êtes', 'je', 'tu', 'il', 'elle', 'nous', 'vous', 'ils']"
   ]
  },
  {
   "cell_type": "markdown",
   "metadata": {
    "colab_type": "text",
    "id": "nGC8PJhVgsGw"
   },
   "source": [
    "corpus_question est une liste qui contient des mots interrogatifs."
   ]
  },
  {
   "cell_type": "markdown",
   "metadata": {
    "colab_type": "text",
    "id": "_Rnzg3mCBj1w"
   },
   "source": [
    "### Recherche de questions"
   ]
  },
  {
   "cell_type": "code",
   "execution_count": 0,
   "metadata": {
    "colab": {},
    "colab_type": "code",
    "id": "2GUsBg9pqqYe"
   },
   "outputs": [],
   "source": [
    "def search_questions(data):\n",
    "    questions = []\n",
    "    for line in data[:3000]:\n",
    "        sentence = line.lower().replace(\"-\", \" \").strip()#on met la phrase en minuscule pour le traitement, et on remplace les tirets par des espaces\n",
    "        for mot in corpus_question:\n",
    "            if len(sentence.split(\"?\"))==2 and re.search(r\"^\"+mot, sentence) and sentence not in questions: \n",
    "            #on choisit les lignes ne comportant qu'une phrase (qu'une question)\n",
    "            #on recherche les questions commençant par un mot propre aux questions classiques\n",
    "            #on ne garde pas les doublons\n",
    "                questions.append(sentence)\n",
    "    return questions"
   ]
  },
  {
   "cell_type": "code",
   "execution_count": 0,
   "metadata": {
    "colab": {},
    "colab_type": "code",
    "id": "RenNB-nEqqYi"
   },
   "outputs": [],
   "source": [
    "questions = search_questions(subtitles)"
   ]
  },
  {
   "cell_type": "markdown",
   "metadata": {
    "colab_type": "text",
    "id": "m-khKRs9hFT6"
   },
   "source": [
    "questions est une liste dont chaque élement est une question présente dans la base de sous-titres OPUS."
   ]
  },
  {
   "cell_type": "code",
   "execution_count": 0,
   "metadata": {
    "colab": {
     "base_uri": "https://localhost:8080/",
     "height": 55
    },
    "colab_type": "code",
    "executionInfo": {
     "elapsed": 699,
     "status": "ok",
     "timestamp": 1580588473947,
     "user": {
      "displayName": "sarah faucon",
      "photoUrl": "",
      "userId": "00071383878885981401"
     },
     "user_tz": -60
    },
    "id": "W-ch6mKDqqYm",
    "outputId": "03a53dd7-d4b6-4d94-cc1e-2e32fc2cbf53"
   },
   "outputs": [
    {
     "name": "stdout",
     "output_type": "stream",
     "text": [
      "['il part en égypte construire un canal qui va relier la méditerranée à la mer rouge.   un canal ?', \"pourquoi tu l'as pas amenée ?\", \"c'est l'homme de ta vie ?\", \"quelquefois, on peut l'aider ?\", \"c'est parce que tu es un arabe, c'est ça ?\", 'tu parles des gardiens ?', 'tu te sens bien ?', 'tu te souviens, ménilmontant ?', 'comment va ton fils ?', \"qu'est ce qui t'est arrivé ?\", \"jeanne, est ce que tu veux m'épouser ?\", \"c'est ça. tu veux nous laisser seuls face à 3 millions d'arabes ?\", 'tu me fais visiter ?', 'tu es sûr de le vouloir ?', 'comment il a trouvé le dossier, cet enfoiré ?', \"pourquoi m'as tu caché tout ça ?\", \"qu'ont ils à voir là dedans, les oncles ?\", 'pourquoi les français qui vivent ici prennent pas des prénoms arabes ?', \"c'est toi ?\", 'tu iras voir les enfants ?', 'comment ?', 'tu veux de la sauce ?', 'tu sais où elle est ?', 'tu lui fais confiance ?', \"qu'est ce qui se passe ?\", 'quoi ?', 'tu crois que tes parents donneront leur fille à un musulman ?', 'vous buvez quelque chose ?', \"c'est pour ça, que tu t'habilles en djellaba ?\", \"qu'allait il devenir ?\", 'tu viendras nous voir ?', \"pourquoi perdre du temps, quand la france te propose d'entrer dans le monde moderne ?\", 'vous ne me faites pas confiance ?', 'tu veux que je te dise ?', \"qu'est ce que c'est que ces foutaises ?\", 'tu sais où ils sont ?', 'vous connaissez robert houdin ?', 'tu veux épouser une...?', \"c'est pas un peu froid ?\", \"qu'est ce que tu fais ?\", 'tu comprends ?', \"qu'est ce qu'ils veulent ?\", 'tu veux celle là en plus ?', 'pourquoi icham vient pas ?', \"c'est vous, qui avez inspiré à sa majesté toutes ces billevesées ?\", 'elle ne te plaît pas ?   si, si.', 'tu étais avec ces bandits ?', 'vous nous attendez pour déjeuner ?', \"pourquoi tu m'as abandonnée, odilon ?\", \"pourquoi as tu cessé de m'écrire ? j'ai pas compris.\", \"qu'est ce qu'il raconte ?\", \"pourquoi il m'a rejetée ?\", 'vous voulez faire de moi un espion chez les arabes ?', 'tu te crois fort ?', \"je t'ai pas dit ? je suis père : un petit garçon !\", \"tu arrangeras ça, hein ? avec l'intérêt spécial des amis.\", 'vous avez fait quoi, pour vous retrouver ici ?', 'où sont mes ouvriers ?', 'combien ?', 'où est ce que tu vas aller ?', 'comment font ils pour déménager aussi vite ?', \"tu sais ce que j'ai appris ?\", 'tu te rends compte ?', \"c'est compris ?\", 'tu as mangé ?', \"il y a 12 millions d'hectares en friche, et vous, vous voulez bloquer la colonisation ?\", 'pourquoi tu nous espionnes ?', 'tu es content ?', 'tu seras là pour la circoncision ?', \"c'est qui, l'adjointe ?\", \"c'est pareil, non ?\", 'quand ?', \"c'est quoi, le trou ?\", 'vous parlez arabe, toussaint ?', 'tu crois ?', \"quelqu'un s'est fait un ami, ici ?\", 'vous voulez devenir arabes ?', 'quoi de neuf ?', 'vous croyez ?', 'tu veux des femmes ?', 'tu sais que les toussaint sont ici ?', \"je t'accompagne ?\", 'comment expliquer à vos lecteurs cette nouvelle race de colons français ?', 'comment cela ?', 'où tu vas, patron ?', 'il y a une autre femme ?', 'tu sais ce que ça veut dire ?   oui.', 'pourquoi, ma soeur ?', 'tu plaisantes ?', \"vous ne l'avez jamais revu ?\", 'comment va t elle ?', \"qu'est ce que tu vas imaginer ?\", 'il paraît que tu pleures la nuit ?', \"tu sais qu'on se bat dans les rues de paris ?\", 'quand êtes vous arrivé en algérie ?', \"qu'est ce que tu viens foutre ici ?\", 'tu es là depuis combien de temps ?', 'pourquoi les femmes ?', \"vous m'emmenez où ?\", \"c'est quoi, le trou, kike ?\", 'comment as tu pu garder tout ça pour toi, pendant si longtemps ?', \"qu'est ce que vous en dites ?\", 'pourquoi as tu renoncé à notre idéal ?', \"tu veux du vin, m'sieur ?\", 'tu as fait bon voyage ?', 'tu sais comment les arabes appellent déjà ton chemin de fer ?', 'tu balades ton robert houdin déguisé en faux marabout ?', \"pourquoi ne s'entendrait on pas ?\", \"qu'est ce que tu dis de ça ?\", 'combien de soldats la gardent ?', 'vous avez vu cette insolence ?', \"c'est toi qui dis ça ?\", 'vous y allez ?', 'vous venez, hubert ?', 'tu ne veux pas te marier ?', 'tu te fous de moi, ou quoi ?', 'tu sors ?', \"c'est pas de tavira, le directeur ?\", \"c'est tout ?\", 'comment, \"2 mondes\" ?', 'tu vas dormir où ?', 'laquelle ?', \"qu'est ce qu'il y a ?\", 'tu veux du vin, patron ?', \"c'est lui le plus gros ?\", \"qu'est ce que tu regardes ?\", \"jeanne voudra se marier à l'église. que dira ta famille ?\", 'pourquoi laisser la terre aux arabes ?', 'pourquoi pas ?', \"c'est de vous, ça ?\", 'combien de temps ?', 'tu dois avoir faim ?', \"c'est quoi, les autres dépêches ?\", \"pourquoi pas ? j'y avais déjà pensé.\", 'comment tu trouves ?', 'comment tu peux dire ça ?', \"il m'a bien épaté, moi. alors ?\", \"vous savez qu'il a vécu en angleterre, dont il admire les institutions ?\", 'quelle est votre impression ?', \"c'est ça ?\", 'où as tu acheté ça ?', \"c'est un complot ?\"]\n"
     ]
    }
   ],
   "source": [
    "questions = random.sample(questions, 142) \n",
    "print(questions)"
   ]
  },
  {
   "cell_type": "markdown",
   "metadata": {
    "colab_type": "text",
    "id": "SY8lrEdBhWKH"
   },
   "source": [
    "Nous avons sélectionné aléatoirement 143 questions parmi toutes celles trouvées dans la base OPUS. Elles vont nous permettre de créer des échantillons d'apprentissage et de validation composée pour moitié des questions issues du scraping et pour moitié de la base OPUS."
   ]
  },
  {
   "cell_type": "markdown",
   "metadata": {
    "colab_type": "text",
    "id": "OdQPhhKjqqYx"
   },
   "source": [
    "### Export de la base de questions (subtitles)"
   ]
  },
  {
   "cell_type": "code",
   "execution_count": 0,
   "metadata": {
    "colab": {},
    "colab_type": "code",
    "id": "CZ9aFyTzqqYx"
   },
   "outputs": [],
   "source": [
    "with open(\"questions_sample.csv\", 'w', encoding='utf-8', newline='') as csvfile:\n",
    "    writer = csv.writer(csvfile, delimiter='\\n')\n",
    "    writer.writerow(questions)"
   ]
  },
  {
   "cell_type": "markdown",
   "metadata": {
    "colab_type": "text",
    "id": "j_YSWrI6X_eN"
   },
   "source": [
    "---\n",
    "\n",
    "## Classification binaire\n",
    "\n",
    "---"
   ]
  },
  {
   "cell_type": "markdown",
   "metadata": {
    "colab_type": "text",
    "id": "5kdgR9WbqqX5"
   },
   "source": [
    "### Création de la base regroupant les questions métier et non métier"
   ]
  },
  {
   "cell_type": "code",
   "execution_count": 0,
   "metadata": {
    "colab": {
     "base_uri": "https://localhost:8080/",
     "height": 355
    },
    "colab_type": "code",
    "executionInfo": {
     "elapsed": 1200,
     "status": "ok",
     "timestamp": 1580588476108,
     "user": {
      "displayName": "sarah faucon",
      "photoUrl": "",
      "userId": "00071383878885981401"
     },
     "user_tz": -60
    },
    "id": "rkUkHwun4C6j",
    "outputId": "4fda4c34-1928-4c66-9d1f-b99030a89559"
   },
   "outputs": [
    {
     "data": {
      "text/html": [
       "<div>\n",
       "<style scoped>\n",
       "    .dataframe tbody tr th:only-of-type {\n",
       "        vertical-align: middle;\n",
       "    }\n",
       "\n",
       "    .dataframe tbody tr th {\n",
       "        vertical-align: top;\n",
       "    }\n",
       "\n",
       "    .dataframe thead th {\n",
       "        text-align: right;\n",
       "    }\n",
       "</style>\n",
       "<table border=\"1\" class=\"dataframe\">\n",
       "  <thead>\n",
       "    <tr style=\"text-align: right;\">\n",
       "      <th></th>\n",
       "      <th>theme</th>\n",
       "      <th>question</th>\n",
       "      <th>metier</th>\n",
       "    </tr>\n",
       "  </thead>\n",
       "  <tbody>\n",
       "    <tr>\n",
       "      <th>0</th>\n",
       "      <td>Livraison</td>\n",
       "      <td>quel transporteur va me livrer ?</td>\n",
       "      <td>1</td>\n",
       "    </tr>\n",
       "    <tr>\n",
       "      <th>1</th>\n",
       "      <td>Livraison</td>\n",
       "      <td>colissimo : quels sont les délais et modalités...</td>\n",
       "      <td>1</td>\n",
       "    </tr>\n",
       "    <tr>\n",
       "      <th>2</th>\n",
       "      <td>Livraison</td>\n",
       "      <td>geodis : quels sont les délais et modalités d’...</td>\n",
       "      <td>1</td>\n",
       "    </tr>\n",
       "    <tr>\n",
       "      <th>3</th>\n",
       "      <td>Livraison</td>\n",
       "      <td>agediss : quels sont les délais et modalités d...</td>\n",
       "      <td>1</td>\n",
       "    </tr>\n",
       "    <tr>\n",
       "      <th>4</th>\n",
       "      <td>Livraison</td>\n",
       "      <td>chronopost : quels sont les délais et modalité...</td>\n",
       "      <td>1</td>\n",
       "    </tr>\n",
       "    <tr>\n",
       "      <th>5</th>\n",
       "      <td>Livraison</td>\n",
       "      <td>colissimo point de retrait : quels sont les dé...</td>\n",
       "      <td>1</td>\n",
       "    </tr>\n",
       "    <tr>\n",
       "      <th>6</th>\n",
       "      <td>Livraison</td>\n",
       "      <td>city transport : quels sont les délais et moda...</td>\n",
       "      <td>1</td>\n",
       "    </tr>\n",
       "    <tr>\n",
       "      <th>7</th>\n",
       "      <td>Livraison</td>\n",
       "      <td>jacky perrenot : quels sont les délais et moda...</td>\n",
       "      <td>1</td>\n",
       "    </tr>\n",
       "    <tr>\n",
       "      <th>8</th>\n",
       "      <td>Livraison</td>\n",
       "      <td>guisnel : quels sont les délais et modalités d...</td>\n",
       "      <td>1</td>\n",
       "    </tr>\n",
       "    <tr>\n",
       "      <th>9</th>\n",
       "      <td>Livraison</td>\n",
       "      <td>geodis point de retrait : quels sont les délai...</td>\n",
       "      <td>1</td>\n",
       "    </tr>\n",
       "  </tbody>\n",
       "</table>\n",
       "</div>"
      ],
      "text/plain": [
       "       theme                                           question  metier\n",
       "0  Livraison                   quel transporteur va me livrer ?       1\n",
       "1  Livraison  colissimo : quels sont les délais et modalités...       1\n",
       "2  Livraison  geodis : quels sont les délais et modalités d’...       1\n",
       "3  Livraison  agediss : quels sont les délais et modalités d...       1\n",
       "4  Livraison  chronopost : quels sont les délais et modalité...       1\n",
       "5  Livraison  colissimo point de retrait : quels sont les dé...       1\n",
       "6  Livraison  city transport : quels sont les délais et moda...       1\n",
       "7  Livraison  jacky perrenot : quels sont les délais et moda...       1\n",
       "8  Livraison  guisnel : quels sont les délais et modalités d...       1\n",
       "9  Livraison  geodis point de retrait : quels sont les délai...       1"
      ]
     },
     "execution_count": 230,
     "metadata": {
      "tags": []
     },
     "output_type": "execute_result"
    }
   ],
   "source": [
    "scrapping_questions = scrapping[['theme','question']]\n",
    "scrapping_questions['metier'] = 1\n",
    "scrapping_questions['question'] = scrapping_questions.question.str.lower()\n",
    "scrapping_questions.head(10)"
   ]
  },
  {
   "cell_type": "code",
   "execution_count": 0,
   "metadata": {
    "colab": {},
    "colab_type": "code",
    "id": "oLPXrPPZ49nE"
   },
   "outputs": [],
   "source": [
    "X_train_scraping, X_test_scraping, y_train_scraping, y_test_scraping = train_test_split(scrapping_questions.question, scrapping_questions.metier, test_size=0.29, random_state=42, stratify = scrapping_questions.theme)"
   ]
  },
  {
   "cell_type": "code",
   "execution_count": 0,
   "metadata": {
    "colab": {
     "base_uri": "https://localhost:8080/",
     "height": 355
    },
    "colab_type": "code",
    "executionInfo": {
     "elapsed": 616,
     "status": "ok",
     "timestamp": 1580588481784,
     "user": {
      "displayName": "sarah faucon",
      "photoUrl": "",
      "userId": "00071383878885981401"
     },
     "user_tz": -60
    },
    "id": "Tf7Quoh2qqZC",
    "outputId": "1cac019f-bfa9-4d2c-bdc2-c7fe2c12229f"
   },
   "outputs": [
    {
     "data": {
      "text/html": [
       "<div>\n",
       "<style scoped>\n",
       "    .dataframe tbody tr th:only-of-type {\n",
       "        vertical-align: middle;\n",
       "    }\n",
       "\n",
       "    .dataframe tbody tr th {\n",
       "        vertical-align: top;\n",
       "    }\n",
       "\n",
       "    .dataframe thead th {\n",
       "        text-align: right;\n",
       "    }\n",
       "</style>\n",
       "<table border=\"1\" class=\"dataframe\">\n",
       "  <thead>\n",
       "    <tr style=\"text-align: right;\">\n",
       "      <th></th>\n",
       "      <th>question</th>\n",
       "      <th>metier</th>\n",
       "    </tr>\n",
       "  </thead>\n",
       "  <tbody>\n",
       "    <tr>\n",
       "      <th>0</th>\n",
       "      <td>il part en égypte construire un canal qui va r...</td>\n",
       "      <td>0</td>\n",
       "    </tr>\n",
       "    <tr>\n",
       "      <th>1</th>\n",
       "      <td>pourquoi tu l'as pas amenée ?</td>\n",
       "      <td>0</td>\n",
       "    </tr>\n",
       "    <tr>\n",
       "      <th>2</th>\n",
       "      <td>c'est l'homme de ta vie ?</td>\n",
       "      <td>0</td>\n",
       "    </tr>\n",
       "    <tr>\n",
       "      <th>3</th>\n",
       "      <td>quelquefois, on peut l'aider ?</td>\n",
       "      <td>0</td>\n",
       "    </tr>\n",
       "    <tr>\n",
       "      <th>4</th>\n",
       "      <td>c'est parce que tu es un arabe, c'est ça ?</td>\n",
       "      <td>0</td>\n",
       "    </tr>\n",
       "    <tr>\n",
       "      <th>5</th>\n",
       "      <td>tu parles des gardiens ?</td>\n",
       "      <td>0</td>\n",
       "    </tr>\n",
       "    <tr>\n",
       "      <th>6</th>\n",
       "      <td>tu te sens bien ?</td>\n",
       "      <td>0</td>\n",
       "    </tr>\n",
       "    <tr>\n",
       "      <th>7</th>\n",
       "      <td>tu te souviens, ménilmontant ?</td>\n",
       "      <td>0</td>\n",
       "    </tr>\n",
       "    <tr>\n",
       "      <th>8</th>\n",
       "      <td>comment va ton fils ?</td>\n",
       "      <td>0</td>\n",
       "    </tr>\n",
       "    <tr>\n",
       "      <th>9</th>\n",
       "      <td>qu'est ce qui t'est arrivé ?</td>\n",
       "      <td>0</td>\n",
       "    </tr>\n",
       "  </tbody>\n",
       "</table>\n",
       "</div>"
      ],
      "text/plain": [
       "                                            question  metier\n",
       "0  il part en égypte construire un canal qui va r...       0\n",
       "1                      pourquoi tu l'as pas amenée ?       0\n",
       "2                          c'est l'homme de ta vie ?       0\n",
       "3                     quelquefois, on peut l'aider ?       0\n",
       "4         c'est parce que tu es un arabe, c'est ça ?       0\n",
       "5                           tu parles des gardiens ?       0\n",
       "6                                  tu te sens bien ?       0\n",
       "7                     tu te souviens, ménilmontant ?       0\n",
       "8                              comment va ton fils ?       0\n",
       "9                       qu'est ce qui t'est arrivé ?       0"
      ]
     },
     "execution_count": 232,
     "metadata": {
      "tags": []
     },
     "output_type": "execute_result"
    }
   ],
   "source": [
    "subtitles_questions = pd.DataFrame(questions, columns=[\"question\"])\n",
    "subtitles_questions['metier'] = 0\n",
    "subtitles_questions.head(10)"
   ]
  },
  {
   "cell_type": "code",
   "execution_count": 0,
   "metadata": {
    "colab": {
     "base_uri": "https://localhost:8080/",
     "height": 355
    },
    "colab_type": "code",
    "executionInfo": {
     "elapsed": 534,
     "status": "ok",
     "timestamp": 1580588484774,
     "user": {
      "displayName": "sarah faucon",
      "photoUrl": "",
      "userId": "00071383878885981401"
     },
     "user_tz": -60
    },
    "id": "zsViCbbX60g9",
    "outputId": "c01425eb-af08-416a-e3c7-2ede0d81329b"
   },
   "outputs": [
    {
     "data": {
      "text/html": [
       "<div>\n",
       "<style scoped>\n",
       "    .dataframe tbody tr th:only-of-type {\n",
       "        vertical-align: middle;\n",
       "    }\n",
       "\n",
       "    .dataframe tbody tr th {\n",
       "        vertical-align: top;\n",
       "    }\n",
       "\n",
       "    .dataframe thead th {\n",
       "        text-align: right;\n",
       "    }\n",
       "</style>\n",
       "<table border=\"1\" class=\"dataframe\">\n",
       "  <thead>\n",
       "    <tr style=\"text-align: right;\">\n",
       "      <th></th>\n",
       "      <th>question</th>\n",
       "      <th>metier</th>\n",
       "    </tr>\n",
       "  </thead>\n",
       "  <tbody>\n",
       "    <tr>\n",
       "      <th>28</th>\n",
       "      <td>c'est pour ça, que tu t'habilles en djellaba ?</td>\n",
       "      <td>0</td>\n",
       "    </tr>\n",
       "    <tr>\n",
       "      <th>85</th>\n",
       "      <td>il y a une autre femme ?</td>\n",
       "      <td>0</td>\n",
       "    </tr>\n",
       "    <tr>\n",
       "      <th>121</th>\n",
       "      <td>laquelle ?</td>\n",
       "      <td>0</td>\n",
       "    </tr>\n",
       "    <tr>\n",
       "      <th>89</th>\n",
       "      <td>vous ne l'avez jamais revu ?</td>\n",
       "      <td>0</td>\n",
       "    </tr>\n",
       "    <tr>\n",
       "      <th>48</th>\n",
       "      <td>pourquoi tu m'as abandonnée, odilon ?</td>\n",
       "      <td>0</td>\n",
       "    </tr>\n",
       "    <tr>\n",
       "      <th>79</th>\n",
       "      <td>tu veux des femmes ?</td>\n",
       "      <td>0</td>\n",
       "    </tr>\n",
       "    <tr>\n",
       "      <th>93</th>\n",
       "      <td>tu sais qu'on se bat dans les rues de paris ?</td>\n",
       "      <td>0</td>\n",
       "    </tr>\n",
       "    <tr>\n",
       "      <th>88</th>\n",
       "      <td>tu plaisantes ?</td>\n",
       "      <td>0</td>\n",
       "    </tr>\n",
       "    <tr>\n",
       "      <th>63</th>\n",
       "      <td>c'est compris ?</td>\n",
       "      <td>0</td>\n",
       "    </tr>\n",
       "    <tr>\n",
       "      <th>64</th>\n",
       "      <td>tu as mangé ?</td>\n",
       "      <td>0</td>\n",
       "    </tr>\n",
       "  </tbody>\n",
       "</table>\n",
       "</div>"
      ],
      "text/plain": [
       "                                           question  metier\n",
       "28   c'est pour ça, que tu t'habilles en djellaba ?       0\n",
       "85                         il y a une autre femme ?       0\n",
       "121                                      laquelle ?       0\n",
       "89                     vous ne l'avez jamais revu ?       0\n",
       "48            pourquoi tu m'as abandonnée, odilon ?       0\n",
       "79                             tu veux des femmes ?       0\n",
       "93    tu sais qu'on se bat dans les rues de paris ?       0\n",
       "88                                  tu plaisantes ?       0\n",
       "63                                  c'est compris ?       0\n",
       "64                                    tu as mangé ?       0"
      ]
     },
     "execution_count": 233,
     "metadata": {
      "tags": []
     },
     "output_type": "execute_result"
    }
   ],
   "source": [
    "subtitles_questions = subtitles_questions.sample(n=142)\n",
    "subtitles_questions.head(10)"
   ]
  },
  {
   "cell_type": "code",
   "execution_count": 0,
   "metadata": {
    "colab": {},
    "colab_type": "code",
    "id": "_IULwUUh6aYt"
   },
   "outputs": [],
   "source": [
    "X_train_subtitles, X_test_subtitles, y_train_subtitles, y_test_subtitles = train_test_split(subtitles_questions.question, subtitles_questions.metier, test_size=0.29, random_state=42)"
   ]
  },
  {
   "cell_type": "code",
   "execution_count": 0,
   "metadata": {
    "colab": {
     "base_uri": "https://localhost:8080/",
     "height": 208
    },
    "colab_type": "code",
    "executionInfo": {
     "elapsed": 514,
     "status": "ok",
     "timestamp": 1580588489022,
     "user": {
      "displayName": "sarah faucon",
      "photoUrl": "",
      "userId": "00071383878885981401"
     },
     "user_tz": -60
    },
    "id": "wnnj9ZDQqqZL",
    "outputId": "f3626649-dc73-41f3-ee12-dedb248d4201"
   },
   "outputs": [
    {
     "data": {
      "text/plain": [
       "108    comment consulter la validité de mon bon d’ach...\n",
       "61             je souhaite un catalogue de vos articles.\n",
       "83      quels sont les moyens de paiement sur internet ?\n",
       "94     j’ai besoin d’une facture suite à l’achat d’un...\n",
       "59                  je suis à la recherche d'un article.\n",
       "131       les produits contiennent-ils du formaldéhyde ?\n",
       "23     quels sont les délais et modalités d’une livra...\n",
       "45     ab custom : quelles sont les modalités d'une r...\n",
       "114             comment me désabonner de la newsletter ?\n",
       "20     quelles sont les modalités de livraison sur le...\n",
       "Name: question, dtype: object"
      ]
     },
     "execution_count": 235,
     "metadata": {
      "tags": []
     },
     "output_type": "execute_result"
    }
   ],
   "source": [
    "X_train = pd.concat([X_train_scraping, X_train_subtitles])\n",
    "X_train.head(10)"
   ]
  },
  {
   "cell_type": "code",
   "execution_count": 0,
   "metadata": {
    "colab": {
     "base_uri": "https://localhost:8080/",
     "height": 208
    },
    "colab_type": "code",
    "executionInfo": {
     "elapsed": 585,
     "status": "ok",
     "timestamp": 1580588496246,
     "user": {
      "displayName": "sarah faucon",
      "photoUrl": "",
      "userId": "00071383878885981401"
     },
     "user_tz": -60
    },
    "id": "BYt5OqWqqqZQ",
    "outputId": "d509ceac-066d-42b0-c92b-ef5991be7295"
   },
   "outputs": [
    {
     "data": {
      "text/plain": [
       "137    que faites-vous pour réduire les impressions e...\n",
       "97       comment consulter le solde de ma carte cadeau ?\n",
       "37                    comment être remboursé de la tva ?\n",
       "18                          comment vais-je être livré ?\n",
       "101    je n'ai pas reçu mon avoir suite à une command...\n",
       "14        est-il possible de me faire livrer en magasin?\n",
       "81         je souhaite ajouter un article à ma commande.\n",
       "139    que faites-vous pour réduire l’emballage de vo...\n",
       "35     puis-je retourner en magasin un article comman...\n",
       "88     j'ai passé une commande avec un crédit cetelem...\n",
       "Name: question, dtype: object"
      ]
     },
     "execution_count": 236,
     "metadata": {
      "tags": []
     },
     "output_type": "execute_result"
    }
   ],
   "source": [
    "X_test = pd.concat([X_test_scraping, X_test_subtitles])\n",
    "X_test.head(10)"
   ]
  },
  {
   "cell_type": "code",
   "execution_count": 0,
   "metadata": {
    "colab": {},
    "colab_type": "code",
    "id": "t5t3Qk6h83mG"
   },
   "outputs": [],
   "source": [
    "y_train = pd.concat([y_train_scraping, y_train_subtitles])\n",
    "y_test = pd.concat([y_test_scraping, y_test_subtitles])"
   ]
  },
  {
   "cell_type": "markdown",
   "metadata": {
    "colab_type": "text",
    "id": "n3b8vTnGsx9g"
   },
   "source": [
    "Finalement, nous obtenons un jeu d'apprentissage train_questions composé de 200 questions (100 métiers et 100 de la base OPUS) et un jeu de test test_questions composé de 84 questions (42 métiers et 42 de la base OPUS)."
   ]
  },
  {
   "cell_type": "markdown",
   "metadata": {
    "colab_type": "text",
    "id": "WnRv7QP3Ko8s"
   },
   "source": [
    "## Modélisation"
   ]
  },
  {
   "cell_type": "markdown",
   "metadata": {
    "colab_type": "text",
    "id": "5jCtOlLTXbu7"
   },
   "source": [
    "### Vectorisation"
   ]
  },
  {
   "cell_type": "markdown",
   "metadata": {
    "colab_type": "text",
    "id": "K3TIBmmut8IW"
   },
   "source": [
    "Afin d'entrainer des modèles de classification, nous avons dans un premier temps vectoriser les jeux d'apprentissage et de validation."
   ]
  },
  {
   "cell_type": "code",
   "execution_count": 0,
   "metadata": {
    "colab": {},
    "colab_type": "code",
    "id": "KIV6denbx2Yo"
   },
   "outputs": [],
   "source": [
    "vectorizer_bin = CountVectorizer()\n",
    "vectorizer_bin.fit(X_train)\n",
    "\n",
    "X_train = vectorizer_bin.transform(X_train)\n",
    "X_test  = vectorizer_bin.transform(X_test)"
   ]
  },
  {
   "cell_type": "code",
   "execution_count": 0,
   "metadata": {
    "colab": {
     "base_uri": "https://localhost:8080/",
     "height": 35
    },
    "colab_type": "code",
    "executionInfo": {
     "elapsed": 665,
     "status": "ok",
     "timestamp": 1580588503159,
     "user": {
      "displayName": "sarah faucon",
      "photoUrl": "",
      "userId": "00071383878885981401"
     },
     "user_tz": -60
    },
    "id": "cbz-aEsYqqZc",
    "outputId": "5818f1c1-f68a-453f-df12-8c752a865450"
   },
   "outputs": [
    {
     "data": {
      "text/plain": [
       "((200, 478), (200,))"
      ]
     },
     "execution_count": 239,
     "metadata": {
      "tags": []
     },
     "output_type": "execute_result"
    }
   ],
   "source": [
    "X_train.shape, y_train.shape"
   ]
  },
  {
   "cell_type": "code",
   "execution_count": 0,
   "metadata": {
    "colab": {
     "base_uri": "https://localhost:8080/",
     "height": 35
    },
    "colab_type": "code",
    "executionInfo": {
     "elapsed": 528,
     "status": "ok",
     "timestamp": 1580588506390,
     "user": {
      "displayName": "sarah faucon",
      "photoUrl": "",
      "userId": "00071383878885981401"
     },
     "user_tz": -60
    },
    "id": "NIRJf0OzFE7_",
    "outputId": "d3fc88d6-b23a-420a-c522-974052d6773b"
   },
   "outputs": [
    {
     "data": {
      "text/plain": [
       "((84, 478), (84,))"
      ]
     },
     "execution_count": 240,
     "metadata": {
      "tags": []
     },
     "output_type": "execute_result"
    }
   ],
   "source": [
    "X_test.shape, y_test.shape"
   ]
  },
  {
   "cell_type": "markdown",
   "metadata": {
    "colab_type": "text",
    "id": "4HHtznZkhWAd"
   },
   "source": [
    "Il nous faut stocker le vectorizer créer ci-dessus, afin de pouvoir l'appliquer sur la phrase que l'utilisateur entrera : "
   ]
  },
  {
   "cell_type": "code",
   "execution_count": 0,
   "metadata": {
    "colab": {},
    "colab_type": "code",
    "id": "ZJSWjKIuhWAz"
   },
   "outputs": [],
   "source": [
    "pickle.dump(vectorizer_bin, open('vectorizer_bin.pkl', 'wb'))"
   ]
  },
  {
   "cell_type": "markdown",
   "metadata": {
    "colab_type": "text",
    "id": "qx64AkhOuFpM"
   },
   "source": [
    "Il est nécessaire de stocker le vectoriser afin de pouvoir vectoriser la question posée par l'utilisateur en temps réel."
   ]
  },
  {
   "cell_type": "markdown",
   "metadata": {
    "colab_type": "text",
    "id": "HfoNBvbsYYnI"
   },
   "source": [
    "### Modélisation du classifieur bianire"
   ]
  },
  {
   "cell_type": "code",
   "execution_count": 0,
   "metadata": {
    "colab": {},
    "colab_type": "code",
    "id": "Qv7b1fyIvAJp"
   },
   "outputs": [],
   "source": [
    "#import warnings\n",
    "#warnings.filterwarnings(\"ignore\")"
   ]
  },
  {
   "cell_type": "markdown",
   "metadata": {
    "colab_type": "text",
    "id": "YjX1yFObqqZY"
   },
   "source": [
    "#### Réseaux de neurones"
   ]
  },
  {
   "cell_type": "code",
   "execution_count": 0,
   "metadata": {
    "colab": {
     "base_uri": "https://localhost:8080/",
     "height": 1000
    },
    "colab_type": "code",
    "executionInfo": {
     "elapsed": 7356,
     "status": "ok",
     "timestamp": 1580588533357,
     "user": {
      "displayName": "sarah faucon",
      "photoUrl": "",
      "userId": "00071383878885981401"
     },
     "user_tz": -60
    },
    "id": "fn-OaCVr0n5F",
    "outputId": "b5657f96-717b-4c23-c2e4-1086f0d5345e"
   },
   "outputs": [
    {
     "name": "stdout",
     "output_type": "stream",
     "text": [
      "Model: \"sequential_6\"\n",
      "_________________________________________________________________\n",
      "Layer (type)                 Output Shape              Param #   \n",
      "=================================================================\n",
      "dense_11 (Dense)             (None, 10)                4790      \n",
      "_________________________________________________________________\n",
      "dense_12 (Dense)             (None, 1)                 11        \n",
      "=================================================================\n",
      "Total params: 4,801\n",
      "Trainable params: 4,801\n",
      "Non-trainable params: 0\n",
      "_________________________________________________________________\n",
      "Train on 200 samples, validate on 84 samples\n",
      "Epoch 1/100\n",
      "200/200 [==============================] - 1s 4ms/step - loss: 0.6728 - acc: 0.5500 - val_loss: 0.6580 - val_acc: 0.5833\n",
      "Epoch 2/100\n",
      "200/200 [==============================] - 0s 228us/step - loss: 0.6401 - acc: 0.6650 - val_loss: 0.6333 - val_acc: 0.7381\n",
      "Epoch 3/100\n",
      "200/200 [==============================] - 0s 273us/step - loss: 0.6040 - acc: 0.7400 - val_loss: 0.6051 - val_acc: 0.7619\n",
      "Epoch 4/100\n",
      "200/200 [==============================] - 0s 241us/step - loss: 0.5636 - acc: 0.8600 - val_loss: 0.5728 - val_acc: 0.8095\n",
      "Epoch 5/100\n",
      "200/200 [==============================] - 0s 222us/step - loss: 0.5211 - acc: 0.9000 - val_loss: 0.5393 - val_acc: 0.8095\n",
      "Epoch 6/100\n",
      "200/200 [==============================] - 0s 230us/step - loss: 0.4776 - acc: 0.9350 - val_loss: 0.5027 - val_acc: 0.8333\n",
      "Epoch 7/100\n",
      "200/200 [==============================] - 0s 240us/step - loss: 0.4317 - acc: 0.9500 - val_loss: 0.4671 - val_acc: 0.8571\n",
      "Epoch 8/100\n",
      "200/200 [==============================] - 0s 250us/step - loss: 0.3871 - acc: 0.9750 - val_loss: 0.4324 - val_acc: 0.9286\n",
      "Epoch 9/100\n",
      "200/200 [==============================] - 0s 241us/step - loss: 0.3447 - acc: 0.9900 - val_loss: 0.4014 - val_acc: 0.9405\n",
      "Epoch 10/100\n",
      "200/200 [==============================] - 0s 251us/step - loss: 0.3066 - acc: 0.9900 - val_loss: 0.3726 - val_acc: 0.9405\n",
      "Epoch 11/100\n",
      "200/200 [==============================] - 0s 241us/step - loss: 0.2720 - acc: 0.9900 - val_loss: 0.3469 - val_acc: 0.9524\n",
      "Epoch 12/100\n",
      "200/200 [==============================] - 0s 272us/step - loss: 0.2423 - acc: 0.9900 - val_loss: 0.3233 - val_acc: 0.9524\n",
      "Epoch 13/100\n",
      "200/200 [==============================] - 0s 246us/step - loss: 0.2150 - acc: 0.9900 - val_loss: 0.3048 - val_acc: 0.9524\n",
      "Epoch 14/100\n",
      "200/200 [==============================] - 0s 242us/step - loss: 0.1920 - acc: 0.9900 - val_loss: 0.2873 - val_acc: 0.9524\n",
      "Epoch 15/100\n",
      "200/200 [==============================] - 0s 228us/step - loss: 0.1720 - acc: 0.9900 - val_loss: 0.2728 - val_acc: 0.9524\n",
      "Epoch 16/100\n",
      "200/200 [==============================] - 0s 253us/step - loss: 0.1548 - acc: 0.9900 - val_loss: 0.2596 - val_acc: 0.9524\n",
      "Epoch 17/100\n",
      "200/200 [==============================] - 0s 228us/step - loss: 0.1396 - acc: 0.9950 - val_loss: 0.2479 - val_acc: 0.9524\n",
      "Epoch 18/100\n",
      "200/200 [==============================] - 0s 218us/step - loss: 0.1262 - acc: 0.9950 - val_loss: 0.2389 - val_acc: 0.9524\n",
      "Epoch 19/100\n",
      "200/200 [==============================] - 0s 244us/step - loss: 0.1147 - acc: 0.9950 - val_loss: 0.2306 - val_acc: 0.9524\n",
      "Epoch 20/100\n",
      "200/200 [==============================] - 0s 229us/step - loss: 0.1046 - acc: 0.9950 - val_loss: 0.2230 - val_acc: 0.9524\n",
      "Epoch 21/100\n",
      "200/200 [==============================] - 0s 304us/step - loss: 0.0956 - acc: 0.9950 - val_loss: 0.2160 - val_acc: 0.9524\n",
      "Epoch 22/100\n",
      "200/200 [==============================] - 0s 240us/step - loss: 0.0877 - acc: 0.9950 - val_loss: 0.2102 - val_acc: 0.9524\n",
      "Epoch 23/100\n",
      "200/200 [==============================] - 0s 228us/step - loss: 0.0807 - acc: 0.9950 - val_loss: 0.2053 - val_acc: 0.9524\n",
      "Epoch 24/100\n",
      "200/200 [==============================] - 0s 251us/step - loss: 0.0743 - acc: 0.9950 - val_loss: 0.2008 - val_acc: 0.9524\n",
      "Epoch 25/100\n",
      "200/200 [==============================] - 0s 250us/step - loss: 0.0685 - acc: 0.9950 - val_loss: 0.1971 - val_acc: 0.9524\n",
      "Epoch 26/100\n",
      "200/200 [==============================] - 0s 252us/step - loss: 0.0635 - acc: 0.9950 - val_loss: 0.1933 - val_acc: 0.9524\n",
      "Epoch 27/100\n",
      "200/200 [==============================] - 0s 233us/step - loss: 0.0588 - acc: 0.9950 - val_loss: 0.1904 - val_acc: 0.9524\n",
      "Epoch 28/100\n",
      "200/200 [==============================] - 0s 224us/step - loss: 0.0547 - acc: 1.0000 - val_loss: 0.1874 - val_acc: 0.9524\n",
      "Epoch 29/100\n",
      "200/200 [==============================] - 0s 231us/step - loss: 0.0509 - acc: 1.0000 - val_loss: 0.1845 - val_acc: 0.9524\n",
      "Epoch 30/100\n",
      "200/200 [==============================] - 0s 265us/step - loss: 0.0476 - acc: 1.0000 - val_loss: 0.1821 - val_acc: 0.9524\n",
      "Epoch 31/100\n",
      "200/200 [==============================] - 0s 254us/step - loss: 0.0444 - acc: 1.0000 - val_loss: 0.1809 - val_acc: 0.9524\n",
      "Epoch 32/100\n",
      "200/200 [==============================] - 0s 228us/step - loss: 0.0416 - acc: 1.0000 - val_loss: 0.1787 - val_acc: 0.9524\n",
      "Epoch 33/100\n",
      "200/200 [==============================] - 0s 217us/step - loss: 0.0390 - acc: 1.0000 - val_loss: 0.1770 - val_acc: 0.9524\n",
      "Epoch 34/100\n",
      "200/200 [==============================] - 0s 245us/step - loss: 0.0367 - acc: 1.0000 - val_loss: 0.1753 - val_acc: 0.9524\n",
      "Epoch 35/100\n",
      "200/200 [==============================] - 0s 264us/step - loss: 0.0344 - acc: 1.0000 - val_loss: 0.1740 - val_acc: 0.9524\n",
      "Epoch 36/100\n",
      "200/200 [==============================] - 0s 239us/step - loss: 0.0325 - acc: 1.0000 - val_loss: 0.1730 - val_acc: 0.9524\n",
      "Epoch 37/100\n",
      "200/200 [==============================] - 0s 247us/step - loss: 0.0305 - acc: 1.0000 - val_loss: 0.1721 - val_acc: 0.9524\n",
      "Epoch 38/100\n",
      "200/200 [==============================] - 0s 261us/step - loss: 0.0289 - acc: 1.0000 - val_loss: 0.1710 - val_acc: 0.9524\n",
      "Epoch 39/100\n",
      "200/200 [==============================] - 0s 230us/step - loss: 0.0272 - acc: 1.0000 - val_loss: 0.1694 - val_acc: 0.9524\n",
      "Epoch 40/100\n",
      "200/200 [==============================] - 0s 247us/step - loss: 0.0257 - acc: 1.0000 - val_loss: 0.1687 - val_acc: 0.9524\n",
      "Epoch 41/100\n",
      "200/200 [==============================] - 0s 261us/step - loss: 0.0244 - acc: 1.0000 - val_loss: 0.1683 - val_acc: 0.9524\n",
      "Epoch 42/100\n",
      "200/200 [==============================] - 0s 290us/step - loss: 0.0232 - acc: 1.0000 - val_loss: 0.1677 - val_acc: 0.9524\n",
      "Epoch 43/100\n",
      "200/200 [==============================] - 0s 292us/step - loss: 0.0220 - acc: 1.0000 - val_loss: 0.1667 - val_acc: 0.9524\n",
      "Epoch 44/100\n",
      "200/200 [==============================] - 0s 229us/step - loss: 0.0208 - acc: 1.0000 - val_loss: 0.1664 - val_acc: 0.9524\n",
      "Epoch 45/100\n",
      "200/200 [==============================] - 0s 236us/step - loss: 0.0199 - acc: 1.0000 - val_loss: 0.1661 - val_acc: 0.9524\n",
      "Epoch 46/100\n",
      "200/200 [==============================] - 0s 234us/step - loss: 0.0189 - acc: 1.0000 - val_loss: 0.1657 - val_acc: 0.9524\n",
      "Epoch 47/100\n",
      "200/200 [==============================] - 0s 248us/step - loss: 0.0180 - acc: 1.0000 - val_loss: 0.1649 - val_acc: 0.9524\n",
      "Epoch 48/100\n",
      "200/200 [==============================] - 0s 278us/step - loss: 0.0172 - acc: 1.0000 - val_loss: 0.1650 - val_acc: 0.9524\n",
      "Epoch 49/100\n",
      "200/200 [==============================] - 0s 224us/step - loss: 0.0164 - acc: 1.0000 - val_loss: 0.1650 - val_acc: 0.9524\n",
      "Epoch 50/100\n",
      "200/200 [==============================] - 0s 236us/step - loss: 0.0157 - acc: 1.0000 - val_loss: 0.1644 - val_acc: 0.9524\n",
      "Epoch 51/100\n",
      "200/200 [==============================] - 0s 254us/step - loss: 0.0150 - acc: 1.0000 - val_loss: 0.1639 - val_acc: 0.9524\n",
      "Epoch 52/100\n",
      "200/200 [==============================] - 0s 226us/step - loss: 0.0144 - acc: 1.0000 - val_loss: 0.1638 - val_acc: 0.9524\n",
      "Epoch 53/100\n",
      "200/200 [==============================] - 0s 240us/step - loss: 0.0138 - acc: 1.0000 - val_loss: 0.1639 - val_acc: 0.9524\n",
      "Epoch 54/100\n",
      "200/200 [==============================] - 0s 222us/step - loss: 0.0132 - acc: 1.0000 - val_loss: 0.1639 - val_acc: 0.9524\n",
      "Epoch 55/100\n",
      "200/200 [==============================] - 0s 252us/step - loss: 0.0127 - acc: 1.0000 - val_loss: 0.1637 - val_acc: 0.9524\n",
      "Epoch 56/100\n",
      "200/200 [==============================] - 0s 229us/step - loss: 0.0121 - acc: 1.0000 - val_loss: 0.1634 - val_acc: 0.9524\n",
      "Epoch 57/100\n",
      "200/200 [==============================] - 0s 235us/step - loss: 0.0117 - acc: 1.0000 - val_loss: 0.1632 - val_acc: 0.9524\n",
      "Epoch 58/100\n",
      "200/200 [==============================] - 0s 246us/step - loss: 0.0112 - acc: 1.0000 - val_loss: 0.1635 - val_acc: 0.9524\n",
      "Epoch 59/100\n",
      "200/200 [==============================] - 0s 273us/step - loss: 0.0108 - acc: 1.0000 - val_loss: 0.1636 - val_acc: 0.9524\n",
      "Epoch 60/100\n",
      "200/200 [==============================] - 0s 250us/step - loss: 0.0104 - acc: 1.0000 - val_loss: 0.1632 - val_acc: 0.9524\n",
      "Epoch 61/100\n",
      "200/200 [==============================] - 0s 268us/step - loss: 0.0100 - acc: 1.0000 - val_loss: 0.1634 - val_acc: 0.9524\n",
      "Epoch 62/100\n",
      "200/200 [==============================] - 0s 253us/step - loss: 0.0097 - acc: 1.0000 - val_loss: 0.1632 - val_acc: 0.9524\n",
      "Epoch 63/100\n",
      "200/200 [==============================] - 0s 293us/step - loss: 0.0093 - acc: 1.0000 - val_loss: 0.1634 - val_acc: 0.9524\n",
      "Epoch 64/100\n",
      "200/200 [==============================] - 0s 256us/step - loss: 0.0090 - acc: 1.0000 - val_loss: 0.1633 - val_acc: 0.9524\n",
      "Epoch 65/100\n",
      "200/200 [==============================] - 0s 238us/step - loss: 0.0087 - acc: 1.0000 - val_loss: 0.1636 - val_acc: 0.9524\n",
      "Epoch 66/100\n",
      "200/200 [==============================] - 0s 225us/step - loss: 0.0084 - acc: 1.0000 - val_loss: 0.1636 - val_acc: 0.9524\n",
      "Epoch 67/100\n",
      "200/200 [==============================] - 0s 257us/step - loss: 0.0081 - acc: 1.0000 - val_loss: 0.1637 - val_acc: 0.9524\n",
      "Epoch 68/100\n",
      "200/200 [==============================] - 0s 257us/step - loss: 0.0078 - acc: 1.0000 - val_loss: 0.1637 - val_acc: 0.9524\n",
      "Epoch 69/100\n",
      "200/200 [==============================] - 0s 236us/step - loss: 0.0076 - acc: 1.0000 - val_loss: 0.1640 - val_acc: 0.9524\n",
      "Epoch 70/100\n",
      "200/200 [==============================] - 0s 253us/step - loss: 0.0073 - acc: 1.0000 - val_loss: 0.1641 - val_acc: 0.9524\n",
      "Epoch 71/100\n",
      "200/200 [==============================] - 0s 242us/step - loss: 0.0071 - acc: 1.0000 - val_loss: 0.1639 - val_acc: 0.9524\n",
      "Epoch 72/100\n",
      "200/200 [==============================] - 0s 226us/step - loss: 0.0068 - acc: 1.0000 - val_loss: 0.1642 - val_acc: 0.9524\n",
      "Epoch 73/100\n",
      "200/200 [==============================] - 0s 237us/step - loss: 0.0067 - acc: 1.0000 - val_loss: 0.1645 - val_acc: 0.9524\n",
      "Epoch 74/100\n",
      "200/200 [==============================] - 0s 256us/step - loss: 0.0064 - acc: 1.0000 - val_loss: 0.1646 - val_acc: 0.9524\n",
      "Epoch 75/100\n",
      "200/200 [==============================] - 0s 238us/step - loss: 0.0062 - acc: 1.0000 - val_loss: 0.1645 - val_acc: 0.9405\n",
      "Epoch 76/100\n",
      "200/200 [==============================] - 0s 287us/step - loss: 0.0061 - acc: 1.0000 - val_loss: 0.1649 - val_acc: 0.9405\n",
      "Epoch 77/100\n",
      "200/200 [==============================] - 0s 256us/step - loss: 0.0059 - acc: 1.0000 - val_loss: 0.1650 - val_acc: 0.9405\n",
      "Epoch 78/100\n",
      "200/200 [==============================] - 0s 237us/step - loss: 0.0057 - acc: 1.0000 - val_loss: 0.1655 - val_acc: 0.9405\n",
      "Epoch 79/100\n",
      "200/200 [==============================] - 0s 250us/step - loss: 0.0055 - acc: 1.0000 - val_loss: 0.1654 - val_acc: 0.9405\n",
      "Epoch 80/100\n",
      "200/200 [==============================] - 0s 258us/step - loss: 0.0054 - acc: 1.0000 - val_loss: 0.1658 - val_acc: 0.9405\n",
      "Epoch 81/100\n",
      "200/200 [==============================] - 0s 306us/step - loss: 0.0052 - acc: 1.0000 - val_loss: 0.1658 - val_acc: 0.9405\n",
      "Epoch 82/100\n",
      "200/200 [==============================] - 0s 268us/step - loss: 0.0051 - acc: 1.0000 - val_loss: 0.1661 - val_acc: 0.9405\n",
      "Epoch 83/100\n",
      "200/200 [==============================] - 0s 256us/step - loss: 0.0049 - acc: 1.0000 - val_loss: 0.1663 - val_acc: 0.9405\n",
      "Epoch 84/100\n",
      "200/200 [==============================] - 0s 267us/step - loss: 0.0048 - acc: 1.0000 - val_loss: 0.1663 - val_acc: 0.9405\n",
      "Epoch 85/100\n",
      "200/200 [==============================] - 0s 310us/step - loss: 0.0047 - acc: 1.0000 - val_loss: 0.1668 - val_acc: 0.9405\n",
      "Epoch 86/100\n",
      "200/200 [==============================] - 0s 278us/step - loss: 0.0045 - acc: 1.0000 - val_loss: 0.1670 - val_acc: 0.9405\n",
      "Epoch 87/100\n",
      "200/200 [==============================] - 0s 245us/step - loss: 0.0044 - acc: 1.0000 - val_loss: 0.1672 - val_acc: 0.9405\n",
      "Epoch 88/100\n",
      "200/200 [==============================] - 0s 273us/step - loss: 0.0043 - acc: 1.0000 - val_loss: 0.1672 - val_acc: 0.9405\n",
      "Epoch 89/100\n",
      "200/200 [==============================] - 0s 249us/step - loss: 0.0042 - acc: 1.0000 - val_loss: 0.1676 - val_acc: 0.9405\n",
      "Epoch 90/100\n",
      "200/200 [==============================] - 0s 255us/step - loss: 0.0041 - acc: 1.0000 - val_loss: 0.1680 - val_acc: 0.9405\n",
      "Epoch 91/100\n",
      "200/200 [==============================] - 0s 224us/step - loss: 0.0039 - acc: 1.0000 - val_loss: 0.1681 - val_acc: 0.9405\n",
      "Epoch 92/100\n",
      "200/200 [==============================] - 0s 283us/step - loss: 0.0038 - acc: 1.0000 - val_loss: 0.1684 - val_acc: 0.9405\n",
      "Epoch 93/100\n",
      "200/200 [==============================] - 0s 254us/step - loss: 0.0037 - acc: 1.0000 - val_loss: 0.1685 - val_acc: 0.9405\n",
      "Epoch 94/100\n",
      "200/200 [==============================] - 0s 238us/step - loss: 0.0036 - acc: 1.0000 - val_loss: 0.1688 - val_acc: 0.9405\n",
      "Epoch 95/100\n",
      "200/200 [==============================] - 0s 270us/step - loss: 0.0035 - acc: 1.0000 - val_loss: 0.1690 - val_acc: 0.9405\n",
      "Epoch 96/100\n",
      "200/200 [==============================] - 0s 282us/step - loss: 0.0035 - acc: 1.0000 - val_loss: 0.1694 - val_acc: 0.9405\n",
      "Epoch 97/100\n",
      "200/200 [==============================] - 0s 257us/step - loss: 0.0034 - acc: 1.0000 - val_loss: 0.1697 - val_acc: 0.9405\n",
      "Epoch 98/100\n",
      "200/200 [==============================] - 0s 241us/step - loss: 0.0033 - acc: 1.0000 - val_loss: 0.1698 - val_acc: 0.9405\n",
      "Epoch 99/100\n",
      "200/200 [==============================] - 0s 235us/step - loss: 0.0032 - acc: 1.0000 - val_loss: 0.1702 - val_acc: 0.9405\n",
      "Epoch 100/100\n",
      "200/200 [==============================] - 0s 291us/step - loss: 0.0031 - acc: 1.0000 - val_loss: 0.1703 - val_acc: 0.9405\n"
     ]
    },
    {
     "data": {
      "text/plain": [
       "<keras.callbacks.History at 0x7f8694b29da0>"
      ]
     },
     "execution_count": 242,
     "metadata": {
      "tags": []
     },
     "output_type": "execute_result"
    }
   ],
   "source": [
    "input_dim = X_train.shape[1]  # Number of features\n",
    "\n",
    "model_bin = Sequential()\n",
    "model_bin.add(layers.Dense(10, input_dim=input_dim, activation='relu'))\n",
    "model_bin.add(layers.Dense(1, activation='sigmoid'))\n",
    "\n",
    "model_bin.compile(loss='binary_crossentropy', \n",
    "              optimizer='adam', \n",
    "              metrics=['accuracy'])\n",
    "model_bin.summary()\n",
    "model_bin.fit(X_train, y_train,\n",
    "                    epochs=100,\n",
    "                    verbose=True,\n",
    "                    validation_data=(X_test, y_test),\n",
    "                    batch_size=10)"
   ]
  },
  {
   "cell_type": "code",
   "execution_count": 0,
   "metadata": {
    "colab": {
     "base_uri": "https://localhost:8080/",
     "height": 35
    },
    "colab_type": "code",
    "executionInfo": {
     "elapsed": 663,
     "status": "ok",
     "timestamp": 1580588541258,
     "user": {
      "displayName": "sarah faucon",
      "photoUrl": "",
      "userId": "00071383878885981401"
     },
     "user_tz": -60
    },
    "id": "EGiTprwt1sxC",
    "outputId": "03ec94da-cec7-4dad-a9ee-fbf7f9791a51"
   },
   "outputs": [
    {
     "name": "stdout",
     "output_type": "stream",
     "text": [
      "Testing Accuracy:  0.94\n"
     ]
    }
   ],
   "source": [
    "loss_MLP, accuracy_MLP = model_bin.evaluate(X_test, y_test, verbose=False)\n",
    "print(\"Testing Accuracy:  {:.2f}\".format(accuracy_MLP))"
   ]
  },
  {
   "cell_type": "markdown",
   "metadata": {
    "colab_type": "text",
    "id": "NEIJpxBU4-jj"
   },
   "source": [
    "#### Logistic Regression"
   ]
  },
  {
   "cell_type": "code",
   "execution_count": 0,
   "metadata": {
    "colab": {
     "base_uri": "https://localhost:8080/",
     "height": 35
    },
    "colab_type": "code",
    "executionInfo": {
     "elapsed": 563,
     "status": "ok",
     "timestamp": 1580588543213,
     "user": {
      "displayName": "sarah faucon",
      "photoUrl": "",
      "userId": "00071383878885981401"
     },
     "user_tz": -60
    },
    "id": "RdFPWQ27zgiq",
    "outputId": "a8b4455f-a161-4f51-bfca-a7ad48b82706"
   },
   "outputs": [
    {
     "name": "stdout",
     "output_type": "stream",
     "text": [
      "Testing Accuracy: 0.94\n"
     ]
    }
   ],
   "source": [
    "dict_params = {\"penalty\": ['l2']}\n",
    "clf = GridSearchCV(estimator=LogisticRegression(), param_grid=dict_params, cv=KFold(n_splits=5),error_score='accuracy')\n",
    "clf.fit(X_train, y_train)\n",
    "accuracy_LR = clf.score(X_test, y_test)\n",
    "print(\"Testing Accuracy: {:.2f}\".format(accuracy_LR))"
   ]
  },
  {
   "cell_type": "markdown",
   "metadata": {
    "colab_type": "text",
    "id": "PZq755sKC8T3"
   },
   "source": [
    "#### Random forest"
   ]
  },
  {
   "cell_type": "code",
   "execution_count": 0,
   "metadata": {
    "colab": {
     "base_uri": "https://localhost:8080/",
     "height": 35
    },
    "colab_type": "code",
    "executionInfo": {
     "elapsed": 15627,
     "status": "ok",
     "timestamp": 1580588561654,
     "user": {
      "displayName": "sarah faucon",
      "photoUrl": "",
      "userId": "00071383878885981401"
     },
     "user_tz": -60
    },
    "id": "K333b_z8C8UI",
    "outputId": "fee722f6-a2f0-400c-f476-032fa03c292e"
   },
   "outputs": [
    {
     "name": "stdout",
     "output_type": "stream",
     "text": [
      "Testing Accuracy: 0.92\n"
     ]
    }
   ],
   "source": [
    "dict_params = {\"n_estimators\": [50, 100, 200, 500], 'max_features': ['auto', 'sqrt'], 'criterion':['entropy']}\n",
    "rf = GridSearchCV(estimator=RandomForestClassifier(), param_grid=dict_params, cv=KFold(n_splits=5),error_score='accuracy')\n",
    "rf.fit(X_train, y_train)\n",
    "accuracy_RF = rf.score(X_test, y_test)\n",
    "print(\"Testing Accuracy: {:.2f}\".format(accuracy_RF))"
   ]
  },
  {
   "cell_type": "markdown",
   "metadata": {
    "colab_type": "text",
    "id": "jCdKiKabC8UV"
   },
   "source": [
    "#### SVM\n"
   ]
  },
  {
   "cell_type": "code",
   "execution_count": 0,
   "metadata": {
    "colab": {
     "base_uri": "https://localhost:8080/",
     "height": 35
    },
    "colab_type": "code",
    "executionInfo": {
     "elapsed": 12999,
     "status": "ok",
     "timestamp": 1580588562381,
     "user": {
      "displayName": "sarah faucon",
      "photoUrl": "",
      "userId": "00071383878885981401"
     },
     "user_tz": -60
    },
    "id": "he4c4O0SC8UY",
    "outputId": "f20ab59f-f756-43df-9adf-3c671adbb797"
   },
   "outputs": [
    {
     "name": "stdout",
     "output_type": "stream",
     "text": [
      "Testing Accuracy: 0.93\n"
     ]
    }
   ],
   "source": [
    "dict_params = {\"C\": [0.01, 0.1, 1, 10], \"kernel\": [\"linear\", \"rbf\"], \"gamma\":[\"auto\",1e-3, 1e-4]}\n",
    "clf = GridSearchCV(estimator=SVC(), param_grid=dict_params, cv=KFold(n_splits=5),error_score='accuracy')\n",
    "clf.fit(X_train, y_train)\n",
    "accuracy_SVM = clf.score(X_test, y_test)\n",
    "print(\"Testing Accuracy: {:.2f}\".format(accuracy_SVM))"
   ]
  },
  {
   "cell_type": "markdown",
   "metadata": {
    "colab_type": "text",
    "id": "oEKPIgEqCoC1"
   },
   "source": [
    "### Synthèse des modèles"
   ]
  },
  {
   "cell_type": "code",
   "execution_count": 0,
   "metadata": {
    "colab": {
     "base_uri": "https://localhost:8080/",
     "height": 79
    },
    "colab_type": "code",
    "executionInfo": {
     "elapsed": 627,
     "status": "ok",
     "timestamp": 1580588563778,
     "user": {
      "displayName": "sarah faucon",
      "photoUrl": "",
      "userId": "00071383878885981401"
     },
     "user_tz": -60
    },
    "id": "IZkLSLrPCoDF",
    "outputId": "d35f94ce-fe8e-4a29-e08c-1c8adda37a5b"
   },
   "outputs": [
    {
     "data": {
      "text/html": [
       "<div>\n",
       "<style scoped>\n",
       "    .dataframe tbody tr th:only-of-type {\n",
       "        vertical-align: middle;\n",
       "    }\n",
       "\n",
       "    .dataframe tbody tr th {\n",
       "        vertical-align: top;\n",
       "    }\n",
       "\n",
       "    .dataframe thead th {\n",
       "        text-align: right;\n",
       "    }\n",
       "</style>\n",
       "<table border=\"1\" class=\"dataframe\">\n",
       "  <thead>\n",
       "    <tr style=\"text-align: right;\">\n",
       "      <th></th>\n",
       "      <th>MLP</th>\n",
       "      <th>LR</th>\n",
       "      <th>RF</th>\n",
       "      <th>SVM</th>\n",
       "    </tr>\n",
       "  </thead>\n",
       "  <tbody>\n",
       "    <tr>\n",
       "      <th>Accuracy</th>\n",
       "      <td>0.940476</td>\n",
       "      <td>0.940476</td>\n",
       "      <td>0.916667</td>\n",
       "      <td>0.928571</td>\n",
       "    </tr>\n",
       "  </tbody>\n",
       "</table>\n",
       "</div>"
      ],
      "text/plain": [
       "               MLP        LR        RF       SVM\n",
       "Accuracy  0.940476  0.940476  0.916667  0.928571"
      ]
     },
     "execution_count": 247,
     "metadata": {
      "tags": []
     },
     "output_type": "execute_result"
    }
   ],
   "source": [
    "pd.DataFrame({\"MLP\": [accuracy_MLP], \"LR\": [accuracy_LR], \"RF\": [accuracy_RF], \"SVM\": [accuracy_SVM]}, index=[\"Accuracy\"])"
   ]
  },
  {
   "cell_type": "markdown",
   "metadata": {
    "colab_type": "text",
    "id": "fhup60r1CoDT"
   },
   "source": [
    "Globalement, les 4 méthodes que nous avons testées donnent des résultats assez proches : une accuracy entre 0.92 et 0.96. Au vu des scores de précision, nous choisissons le modèle MLP (réseaux de neurones) pour identifier s'il s'agit d'une question métier."
   ]
  },
  {
   "cell_type": "markdown",
   "metadata": {
    "colab_type": "text",
    "id": "SoMZGAobCoDW"
   },
   "source": [
    "Nous sauvegardons le modèle dans un fichier pickle :"
   ]
  },
  {
   "cell_type": "code",
   "execution_count": 0,
   "metadata": {
    "colab": {},
    "colab_type": "code",
    "id": "EqRhrFdNCoDY"
   },
   "outputs": [],
   "source": [
    "pickle.dump(model_bin, open('model_bin.pkl', 'wb'))"
   ]
  },
  {
   "cell_type": "code",
   "execution_count": 0,
   "metadata": {
    "colab": {},
    "colab_type": "code",
    "id": "0ZZwgXFMZ-Rf"
   },
   "outputs": [],
   "source": [
    "model_bin.save('model_bin.h5')"
   ]
  },
  {
   "cell_type": "markdown",
   "metadata": {
    "colab_type": "text",
    "id": "2nmIpi7fCoDd"
   },
   "source": [
    "Pour le récupérer :"
   ]
  },
  {
   "cell_type": "code",
   "execution_count": 0,
   "metadata": {
    "colab": {},
    "colab_type": "code",
    "id": "KpEwwbolCoDf"
   },
   "outputs": [],
   "source": [
    "model_bin = pd.read_pickle('model_bin.pkl')"
   ]
  },
  {
   "cell_type": "code",
   "execution_count": 0,
   "metadata": {
    "colab": {
     "base_uri": "https://localhost:8080/",
     "height": 89
    },
    "colab_type": "code",
    "executionInfo": {
     "elapsed": 1440,
     "status": "ok",
     "timestamp": 1580578718619,
     "user": {
      "displayName": "sarah faucon",
      "photoUrl": "",
      "userId": "00071383878885981401"
     },
     "user_tz": -60
    },
    "id": "VslAW2WIcZy-",
    "outputId": "44ed8a0a-17dc-48e6-fba3-d897bd9df0c2"
   },
   "outputs": [
    {
     "name": "stdout",
     "output_type": "stream",
     "text": [
      "WARNING:tensorflow:From /usr/local/lib/python3.6/dist-packages/tensorflow_core/python/ops/resource_variable_ops.py:1630: calling BaseResourceVariable.__init__ (from tensorflow.python.ops.resource_variable_ops) with constraint is deprecated and will be removed in a future version.\n",
      "Instructions for updating:\n",
      "If using Keras pass *_constraint arguments to layers.\n"
     ]
    }
   ],
   "source": [
    "model_bin =  tf.keras.models.load_model('model_bin.h5')"
   ]
  },
  {
   "cell_type": "markdown",
   "metadata": {
    "colab_type": "text",
    "id": "ZhXjprZpZoWs"
   },
   "source": [
    "### Test du modèle"
   ]
  },
  {
   "cell_type": "markdown",
   "metadata": {
    "colab_type": "text",
    "id": "wAOUMTl6SasM"
   },
   "source": [
    "On teste le modèle avec une question qu'on considère métier :"
   ]
  },
  {
   "cell_type": "code",
   "execution_count": 0,
   "metadata": {
    "colab": {
     "base_uri": "https://localhost:8080/",
     "height": 52
    },
    "colab_type": "code",
    "executionInfo": {
     "elapsed": 558,
     "status": "ok",
     "timestamp": 1580581071666,
     "user": {
      "displayName": "sarah faucon",
      "photoUrl": "",
      "userId": "00071383878885981401"
     },
     "user_tz": -60
    },
    "id": "PLAy_yGAJISN",
    "outputId": "2f84e8c4-7e90-43c4-f361-5a86259cb435"
   },
   "outputs": [
    {
     "data": {
      "text/plain": [
       "<1x473 sparse matrix of type '<class 'numpy.int64'>'\n",
       "\twith 5 stored elements in Compressed Sparse Row format>"
      ]
     },
     "execution_count": 188,
     "metadata": {
      "tags": []
     },
     "output_type": "execute_result"
    }
   ],
   "source": [
    "quest = \"Colissimo comment me faire livrer ?\"\n",
    "X_new  = vectorizer_bin.transform([quest])\n",
    "X_new"
   ]
  },
  {
   "cell_type": "code",
   "execution_count": 0,
   "metadata": {
    "colab": {
     "base_uri": "https://localhost:8080/",
     "height": 79
    },
    "colab_type": "code",
    "executionInfo": {
     "elapsed": 554,
     "status": "ok",
     "timestamp": 1580581074251,
     "user": {
      "displayName": "sarah faucon",
      "photoUrl": "",
      "userId": "00071383878885981401"
     },
     "user_tz": -60
    },
    "id": "EfB0f5WvRCIy",
    "outputId": "19306b5e-7188-4bda-b6b0-e1132a12380b"
   },
   "outputs": [
    {
     "data": {
      "text/html": [
       "<div>\n",
       "<style scoped>\n",
       "    .dataframe tbody tr th:only-of-type {\n",
       "        vertical-align: middle;\n",
       "    }\n",
       "\n",
       "    .dataframe tbody tr th {\n",
       "        vertical-align: top;\n",
       "    }\n",
       "\n",
       "    .dataframe thead th {\n",
       "        text-align: right;\n",
       "    }\n",
       "</style>\n",
       "<table border=\"1\" class=\"dataframe\">\n",
       "  <thead>\n",
       "    <tr style=\"text-align: right;\">\n",
       "      <th></th>\n",
       "      <th>predict</th>\n",
       "    </tr>\n",
       "  </thead>\n",
       "  <tbody>\n",
       "    <tr>\n",
       "      <th>Colissimo comment me faire livrer ?</th>\n",
       "      <td>0.982299</td>\n",
       "    </tr>\n",
       "  </tbody>\n",
       "</table>\n",
       "</div>"
      ],
      "text/plain": [
       "                                      predict\n",
       "Colissimo comment me faire livrer ?  0.982299"
      ]
     },
     "execution_count": 189,
     "metadata": {
      "tags": []
     },
     "output_type": "execute_result"
    }
   ],
   "source": [
    "pd.DataFrame(model_bin.predict(X_new)[0],columns=['predict'], index=[quest])"
   ]
  },
  {
   "cell_type": "code",
   "execution_count": 0,
   "metadata": {
    "colab": {
     "base_uri": "https://localhost:8080/",
     "height": 35
    },
    "colab_type": "code",
    "executionInfo": {
     "elapsed": 557,
     "status": "ok",
     "timestamp": 1580581079685,
     "user": {
      "displayName": "sarah faucon",
      "photoUrl": "",
      "userId": "00071383878885981401"
     },
     "user_tz": -60
    },
    "id": "F4ahZqv2dUVp",
    "outputId": "bfac5138-397f-46ab-a0a2-0f7dff263114"
   },
   "outputs": [
    {
     "data": {
      "text/plain": [
       "array([0.98229927], dtype=float32)"
      ]
     },
     "execution_count": 190,
     "metadata": {
      "tags": []
     },
     "output_type": "execute_result"
    }
   ],
   "source": [
    "model_bin.predict(X_new)[0]"
   ]
  },
  {
   "cell_type": "markdown",
   "metadata": {
    "colab_type": "text",
    "id": "2inxf6cvTny_"
   },
   "source": [
    "On teste le modèle avec une question qu'on ne considère pas métier :"
   ]
  },
  {
   "cell_type": "code",
   "execution_count": 0,
   "metadata": {
    "colab": {
     "base_uri": "https://localhost:8080/",
     "height": 52
    },
    "colab_type": "code",
    "executionInfo": {
     "elapsed": 560,
     "status": "ok",
     "timestamp": 1580581086276,
     "user": {
      "displayName": "sarah faucon",
      "photoUrl": "",
      "userId": "00071383878885981401"
     },
     "user_tz": -60
    },
    "id": "d8-BLg78TnzL",
    "outputId": "6cda4785-d9df-4418-8b4c-2b2a67bf10ca"
   },
   "outputs": [
    {
     "data": {
      "text/plain": [
       "<1x473 sparse matrix of type '<class 'numpy.int64'>'\n",
       "\twith 2 stored elements in Compressed Sparse Row format>"
      ]
     },
     "execution_count": 191,
     "metadata": {
      "tags": []
     },
     "output_type": "execute_result"
    }
   ],
   "source": [
    "quest = \"Comment tu t'appelles ?\"\n",
    "X_new  = vectorizer_bin.transform([quest])\n",
    "X_new"
   ]
  },
  {
   "cell_type": "code",
   "execution_count": 0,
   "metadata": {
    "colab": {
     "base_uri": "https://localhost:8080/",
     "height": 79
    },
    "colab_type": "code",
    "executionInfo": {
     "elapsed": 544,
     "status": "ok",
     "timestamp": 1580581089532,
     "user": {
      "displayName": "sarah faucon",
      "photoUrl": "",
      "userId": "00071383878885981401"
     },
     "user_tz": -60
    },
    "id": "DKflQ7zpTnza",
    "outputId": "26452c1a-266f-4d0e-cd64-8392f037313f"
   },
   "outputs": [
    {
     "data": {
      "text/html": [
       "<div>\n",
       "<style scoped>\n",
       "    .dataframe tbody tr th:only-of-type {\n",
       "        vertical-align: middle;\n",
       "    }\n",
       "\n",
       "    .dataframe tbody tr th {\n",
       "        vertical-align: top;\n",
       "    }\n",
       "\n",
       "    .dataframe thead th {\n",
       "        text-align: right;\n",
       "    }\n",
       "</style>\n",
       "<table border=\"1\" class=\"dataframe\">\n",
       "  <thead>\n",
       "    <tr style=\"text-align: right;\">\n",
       "      <th></th>\n",
       "      <th>predict</th>\n",
       "    </tr>\n",
       "  </thead>\n",
       "  <tbody>\n",
       "    <tr>\n",
       "      <th>Comment tu t'appelles ?</th>\n",
       "      <td>0.026235</td>\n",
       "    </tr>\n",
       "  </tbody>\n",
       "</table>\n",
       "</div>"
      ],
      "text/plain": [
       "                          predict\n",
       "Comment tu t'appelles ?  0.026235"
      ]
     },
     "execution_count": 192,
     "metadata": {
      "tags": []
     },
     "output_type": "execute_result"
    }
   ],
   "source": [
    "pd.DataFrame(model_bin.predict(X_new)[0],columns=['predict'], index=[quest])"
   ]
  },
  {
   "cell_type": "markdown",
   "metadata": {
    "colab_type": "text",
    "id": "8cItKATpT9yU"
   },
   "source": [
    "---\n",
    "\n",
    "## Classification multiclasses\n",
    "\n",
    "---"
   ]
  },
  {
   "cell_type": "markdown",
   "metadata": {
    "colab_type": "text",
    "id": "7W7N001yA_4d"
   },
   "source": [
    "### Création de la base"
   ]
  },
  {
   "cell_type": "code",
   "execution_count": 0,
   "metadata": {
    "colab": {
     "base_uri": "https://localhost:8080/",
     "height": 355
    },
    "colab_type": "code",
    "executionInfo": {
     "elapsed": 658,
     "status": "ok",
     "timestamp": 1580581493439,
     "user": {
      "displayName": "sarah faucon",
      "photoUrl": "",
      "userId": "00071383878885981401"
     },
     "user_tz": -60
    },
    "id": "At5NxindUC8m",
    "outputId": "f66d60b6-8ba6-495d-d11c-009a819f3ebf"
   },
   "outputs": [
    {
     "data": {
      "text/html": [
       "<div>\n",
       "<style scoped>\n",
       "    .dataframe tbody tr th:only-of-type {\n",
       "        vertical-align: middle;\n",
       "    }\n",
       "\n",
       "    .dataframe tbody tr th {\n",
       "        vertical-align: top;\n",
       "    }\n",
       "\n",
       "    .dataframe thead th {\n",
       "        text-align: right;\n",
       "    }\n",
       "</style>\n",
       "<table border=\"1\" class=\"dataframe\">\n",
       "  <thead>\n",
       "    <tr style=\"text-align: right;\">\n",
       "      <th></th>\n",
       "      <th>theme</th>\n",
       "      <th>question</th>\n",
       "      <th>reponse</th>\n",
       "    </tr>\n",
       "  </thead>\n",
       "  <tbody>\n",
       "    <tr>\n",
       "      <th>0</th>\n",
       "      <td>Livraison</td>\n",
       "      <td>Quel transporteur va me livrer ?</td>\n",
       "      <td>Le nom du transporteur vous est indiqué lors d...</td>\n",
       "    </tr>\n",
       "    <tr>\n",
       "      <th>1</th>\n",
       "      <td>Livraison</td>\n",
       "      <td>Colissimo : quels sont les délais et modalités...</td>\n",
       "      <td>Vous êtes livré par Colissimo sous 4 à 6 jours...</td>\n",
       "    </tr>\n",
       "    <tr>\n",
       "      <th>2</th>\n",
       "      <td>Livraison</td>\n",
       "      <td>Geodis : quels sont les délais et modalités d’...</td>\n",
       "      <td>Vous êtes livré par Geodis sous 4 à 6 jours ou...</td>\n",
       "    </tr>\n",
       "    <tr>\n",
       "      <th>3</th>\n",
       "      <td>Livraison</td>\n",
       "      <td>Agediss : quels sont les délais et modalités d...</td>\n",
       "      <td>Vous êtes livré par Agediss dans la pièce de v...</td>\n",
       "    </tr>\n",
       "    <tr>\n",
       "      <th>4</th>\n",
       "      <td>Livraison</td>\n",
       "      <td>Chronopost : Quels sont les délais et modalité...</td>\n",
       "      <td>Vous êtes livré par Chronopost sous 4 à 6 jour...</td>\n",
       "    </tr>\n",
       "    <tr>\n",
       "      <th>5</th>\n",
       "      <td>Livraison</td>\n",
       "      <td>Colissimo point de retrait : quels sont les dé...</td>\n",
       "      <td>Votre commande est livrée sous 3 à 6 jours ouv...</td>\n",
       "    </tr>\n",
       "    <tr>\n",
       "      <th>6</th>\n",
       "      <td>Livraison</td>\n",
       "      <td>City transport : quels sont les délais et moda...</td>\n",
       "      <td>City transport livre sous 4 à 6 jours ouvrés a...</td>\n",
       "    </tr>\n",
       "    <tr>\n",
       "      <th>7</th>\n",
       "      <td>Livraison</td>\n",
       "      <td>Jacky Perrenot : quels sont les délais et moda...</td>\n",
       "      <td>Vous êtes livré par Jacky Perrenot dans la piè...</td>\n",
       "    </tr>\n",
       "    <tr>\n",
       "      <th>8</th>\n",
       "      <td>Livraison</td>\n",
       "      <td>Guisnel : quels sont les délais et modalités d...</td>\n",
       "      <td>Vous êtes livré par Guisnel dans la pièce de v...</td>\n",
       "    </tr>\n",
       "    <tr>\n",
       "      <th>9</th>\n",
       "      <td>Livraison</td>\n",
       "      <td>Geodis point de retrait : quels sont les délai...</td>\n",
       "      <td>Votre commande est livrée sous 3 à 6 jours ouv...</td>\n",
       "    </tr>\n",
       "  </tbody>\n",
       "</table>\n",
       "</div>"
      ],
      "text/plain": [
       "       theme  ...                                            reponse\n",
       "0  Livraison  ...  Le nom du transporteur vous est indiqué lors d...\n",
       "1  Livraison  ...  Vous êtes livré par Colissimo sous 4 à 6 jours...\n",
       "2  Livraison  ...  Vous êtes livré par Geodis sous 4 à 6 jours ou...\n",
       "3  Livraison  ...  Vous êtes livré par Agediss dans la pièce de v...\n",
       "4  Livraison  ...  Vous êtes livré par Chronopost sous 4 à 6 jour...\n",
       "5  Livraison  ...  Votre commande est livrée sous 3 à 6 jours ouv...\n",
       "6  Livraison  ...  City transport livre sous 4 à 6 jours ouvrés a...\n",
       "7  Livraison  ...  Vous êtes livré par Jacky Perrenot dans la piè...\n",
       "8  Livraison  ...  Vous êtes livré par Guisnel dans la pièce de v...\n",
       "9  Livraison  ...  Votre commande est livrée sous 3 à 6 jours ouv...\n",
       "\n",
       "[10 rows x 3 columns]"
      ]
     },
     "execution_count": 193,
     "metadata": {
      "tags": []
     },
     "output_type": "execute_result"
    }
   ],
   "source": [
    "scrapping.head(10)"
   ]
  },
  {
   "cell_type": "markdown",
   "metadata": {
    "colab_type": "text",
    "id": "-lQdJ3ZYdmZX"
   },
   "source": [
    "### Echantillonage du jeu \"scrapping\""
   ]
  },
  {
   "cell_type": "code",
   "execution_count": 0,
   "metadata": {
    "colab": {},
    "colab_type": "code",
    "id": "uNAPFDhyaZQM"
   },
   "outputs": [],
   "source": [
    "X_train, X_test, y_train, y_test = train_test_split(scrapping.question, scrapping.theme, test_size=0.33, random_state=42, stratify = scrapping.theme)"
   ]
  },
  {
   "cell_type": "markdown",
   "metadata": {
    "colab_type": "text",
    "id": "MNdpdUvrf8tk"
   },
   "source": [
    "### Vectorisation"
   ]
  },
  {
   "cell_type": "code",
   "execution_count": 0,
   "metadata": {
    "colab": {
     "base_uri": "https://localhost:8080/",
     "height": 52
    },
    "colab_type": "code",
    "executionInfo": {
     "elapsed": 579,
     "status": "ok",
     "timestamp": 1580581514967,
     "user": {
      "displayName": "sarah faucon",
      "photoUrl": "",
      "userId": "00071383878885981401"
     },
     "user_tz": -60
    },
    "id": "3zy_LWScf8t0",
    "outputId": "c7808097-8bee-43d5-9cc3-e6c2a206917c"
   },
   "outputs": [
    {
     "data": {
      "text/plain": [
       "<95x271 sparse matrix of type '<class 'numpy.int64'>'\n",
       "\twith 864 stored elements in Compressed Sparse Row format>"
      ]
     },
     "execution_count": 196,
     "metadata": {
      "tags": []
     },
     "output_type": "execute_result"
    }
   ],
   "source": [
    "vectorizer_multi = CountVectorizer()\n",
    "vectorizer_multi.fit(X_train)\n",
    "\n",
    "X_train = vectorizer_multi.transform(X_train)\n",
    "X_test  = vectorizer_multi.transform(X_test)\n",
    "X_train"
   ]
  },
  {
   "cell_type": "markdown",
   "metadata": {
    "colab_type": "text",
    "id": "RrwAuHu--N6-"
   },
   "source": [
    "Il nous faut stocker le vectorizer créer ci-dessus, afin de pouvoir l'appliquer sur la phrase que l'utilisateur entrera : "
   ]
  },
  {
   "cell_type": "code",
   "execution_count": 0,
   "metadata": {
    "colab": {},
    "colab_type": "code",
    "id": "PBLNDRzO-caS"
   },
   "outputs": [],
   "source": [
    "pickle.dump(vectorizer_multi, open('vectorizer_multi.pkl', 'wb'))"
   ]
  },
  {
   "cell_type": "markdown",
   "metadata": {
    "colab_type": "text",
    "id": "xXruqEuqvpkc"
   },
   "source": [
    "### Transformation de la variable catégorielle en dummies"
   ]
  },
  {
   "cell_type": "code",
   "execution_count": 0,
   "metadata": {
    "colab": {},
    "colab_type": "code",
    "id": "xgphnZBss8Xd"
   },
   "outputs": [],
   "source": [
    "y_train_dummies = pd.get_dummies(y_train).values\n",
    "y_test_dummies = pd.get_dummies(y_test).values"
   ]
  },
  {
   "cell_type": "markdown",
   "metadata": {
    "colab_type": "text",
    "id": "x88GY6VTAZ4_"
   },
   "source": [
    "### Modélisation du classifieur multiclasse\n"
   ]
  },
  {
   "cell_type": "markdown",
   "metadata": {
    "colab_type": "text",
    "id": "6uEv2KjRvxrW"
   },
   "source": [
    "#### Réseau de neurones"
   ]
  },
  {
   "cell_type": "code",
   "execution_count": 0,
   "metadata": {
    "colab": {
     "base_uri": "https://localhost:8080/",
     "height": 243
    },
    "colab_type": "code",
    "executionInfo": {
     "elapsed": 3473,
     "status": "ok",
     "timestamp": 1580581532303,
     "user": {
      "displayName": "sarah faucon",
      "photoUrl": "",
      "userId": "00071383878885981401"
     },
     "user_tz": -60
    },
    "id": "0Thk7VlMdeHU",
    "outputId": "317305d2-36de-4176-df9f-4b72ce3325be"
   },
   "outputs": [
    {
     "name": "stdout",
     "output_type": "stream",
     "text": [
      "Model: \"sequential_5\"\n",
      "_________________________________________________________________\n",
      "Layer (type)                 Output Shape              Param #   \n",
      "=================================================================\n",
      "dense_9 (Dense)              (None, 12)                3264      \n",
      "_________________________________________________________________\n",
      "dense_10 (Dense)             (None, 7)                 91        \n",
      "=================================================================\n",
      "Total params: 3,355\n",
      "Trainable params: 3,355\n",
      "Non-trainable params: 0\n",
      "_________________________________________________________________\n"
     ]
    },
    {
     "data": {
      "text/plain": [
       "<keras.callbacks.History at 0x7f8740cb6a58>"
      ]
     },
     "execution_count": 199,
     "metadata": {
      "tags": []
     },
     "output_type": "execute_result"
    }
   ],
   "source": [
    "input_dim = X_train.shape[1]  # Number of features\n",
    "\n",
    "model_multi = Sequential()\n",
    "model_multi.add(layers.Dense(12, input_dim=input_dim, activation='relu'))\n",
    "model_multi.add(layers.Dense(7, activation='softmax'))\n",
    "\n",
    "model_multi.compile(loss='categorical_crossentropy', \n",
    "              optimizer='adam', \n",
    "              metrics=['accuracy'])\n",
    "model_multi.summary()\n",
    "model_multi.fit(X_train, y_train_dummies,\n",
    "                    epochs=100,\n",
    "                    verbose=False,\n",
    "                    validation_data=(X_test, y_test_dummies),\n",
    "                    batch_size=10)"
   ]
  },
  {
   "cell_type": "code",
   "execution_count": 0,
   "metadata": {
    "colab": {
     "base_uri": "https://localhost:8080/",
     "height": 35
    },
    "colab_type": "code",
    "executionInfo": {
     "elapsed": 730,
     "status": "ok",
     "timestamp": 1580581540444,
     "user": {
      "displayName": "sarah faucon",
      "photoUrl": "",
      "userId": "00071383878885981401"
     },
     "user_tz": -60
    },
    "id": "OmjHFW1_gI5A",
    "outputId": "2ce77644-aa62-4cd3-90aa-ee2bc344e943"
   },
   "outputs": [
    {
     "name": "stdout",
     "output_type": "stream",
     "text": [
      "Testing Accuracy:  0.68\n"
     ]
    }
   ],
   "source": [
    "loss_MLP, accuracy_MLP = model_multi.evaluate(X_test, y_test_dummies, verbose=False)\n",
    "print(\"Testing Accuracy:  {:.2f}\".format(accuracy_MLP))"
   ]
  },
  {
   "cell_type": "markdown",
   "metadata": {
    "colab_type": "text",
    "id": "0GSYBwifvjn2"
   },
   "source": [
    "#### Regression logistique"
   ]
  },
  {
   "cell_type": "code",
   "execution_count": 0,
   "metadata": {
    "colab": {
     "base_uri": "https://localhost:8080/",
     "height": 35
    },
    "colab_type": "code",
    "executionInfo": {
     "elapsed": 667,
     "status": "ok",
     "timestamp": 1580581557183,
     "user": {
      "displayName": "sarah faucon",
      "photoUrl": "",
      "userId": "00071383878885981401"
     },
     "user_tz": -60
    },
    "id": "utNKVsjFut7M",
    "outputId": "db3db825-bc09-4748-b8a4-4fe40cb24012"
   },
   "outputs": [
    {
     "name": "stdout",
     "output_type": "stream",
     "text": [
      "Testing Accuracy: 0.64\n"
     ]
    }
   ],
   "source": [
    "classifier_log = LogisticRegression(multi_class='multinomial')\n",
    "classifier_log.fit(X_train, y_train)\n",
    "accuracy_LR = classifier_log.score(X_test, y_test)\n",
    "\n",
    "print(\"Testing Accuracy: {:.2f}\".format(accuracy_LR))"
   ]
  },
  {
   "cell_type": "markdown",
   "metadata": {
    "colab_type": "text",
    "id": "Ze0wWFhnv3bQ"
   },
   "source": [
    "#### Random forest"
   ]
  },
  {
   "cell_type": "code",
   "execution_count": 0,
   "metadata": {
    "colab": {
     "base_uri": "https://localhost:8080/",
     "height": 35
    },
    "colab_type": "code",
    "executionInfo": {
     "elapsed": 634,
     "status": "ok",
     "timestamp": 1580581564144,
     "user": {
      "displayName": "sarah faucon",
      "photoUrl": "",
      "userId": "00071383878885981401"
     },
     "user_tz": -60
    },
    "id": "uQabaY8Qv-3h",
    "outputId": "ccfc1bee-656c-4858-f3ca-7823a0ffb70f"
   },
   "outputs": [
    {
     "name": "stdout",
     "output_type": "stream",
     "text": [
      "Testing Accuracy: 0.6170\n"
     ]
    }
   ],
   "source": [
    "classifier = RandomForestClassifier(n_estimators = 80, criterion = 'entropy', random_state = 42)\n",
    "classifier.fit(X_train, y_train)\n",
    "accuracy_RF = classifier.score(X_test, y_test)\n",
    "\n",
    "print(\"Testing Accuracy: {:.4f}\".format(accuracy_RF))"
   ]
  },
  {
   "cell_type": "markdown",
   "metadata": {
    "colab_type": "text",
    "id": "1prmmTAGv4-3"
   },
   "source": [
    "#### SVM multi-class"
   ]
  },
  {
   "cell_type": "code",
   "execution_count": 0,
   "metadata": {
    "colab": {
     "base_uri": "https://localhost:8080/",
     "height": 35
    },
    "colab_type": "code",
    "executionInfo": {
     "elapsed": 597,
     "status": "ok",
     "timestamp": 1580581570805,
     "user": {
      "displayName": "sarah faucon",
      "photoUrl": "",
      "userId": "00071383878885981401"
     },
     "user_tz": -60
    },
    "id": "p7j3xhInv6mM",
    "outputId": "3d36dd2e-72ab-43cb-ccbf-70c104b0261f"
   },
   "outputs": [
    {
     "name": "stdout",
     "output_type": "stream",
     "text": [
      "Testing Accuracy: 0.6170\n"
     ]
    }
   ],
   "source": [
    "classifier = LinearSVC(random_state = 42, multi_class=\"crammer_singer\")\n",
    "classifier.fit(X_train, y_train)\n",
    "accuracy_SVM = classifier.score(X_test, y_test)\n",
    "\n",
    "print(\"Testing Accuracy: {:.4f}\".format(accuracy_SVM))"
   ]
  },
  {
   "cell_type": "markdown",
   "metadata": {
    "colab_type": "text",
    "id": "tZyZgFrh5Ip_"
   },
   "source": [
    "### Synthèse des modèles"
   ]
  },
  {
   "cell_type": "code",
   "execution_count": 0,
   "metadata": {
    "colab": {
     "base_uri": "https://localhost:8080/",
     "height": 79
    },
    "colab_type": "code",
    "executionInfo": {
     "elapsed": 701,
     "status": "ok",
     "timestamp": 1580581584186,
     "user": {
      "displayName": "sarah faucon",
      "photoUrl": "",
      "userId": "00071383878885981401"
     },
     "user_tz": -60
    },
    "id": "G3P000FN5MOY",
    "outputId": "9292b1ba-fcc2-4542-9372-05e057ad0d49"
   },
   "outputs": [
    {
     "data": {
      "text/html": [
       "<div>\n",
       "<style scoped>\n",
       "    .dataframe tbody tr th:only-of-type {\n",
       "        vertical-align: middle;\n",
       "    }\n",
       "\n",
       "    .dataframe tbody tr th {\n",
       "        vertical-align: top;\n",
       "    }\n",
       "\n",
       "    .dataframe thead th {\n",
       "        text-align: right;\n",
       "    }\n",
       "</style>\n",
       "<table border=\"1\" class=\"dataframe\">\n",
       "  <thead>\n",
       "    <tr style=\"text-align: right;\">\n",
       "      <th></th>\n",
       "      <th>MLP</th>\n",
       "      <th>LR</th>\n",
       "      <th>RF</th>\n",
       "      <th>SVM</th>\n",
       "    </tr>\n",
       "  </thead>\n",
       "  <tbody>\n",
       "    <tr>\n",
       "      <th>Accuracy</th>\n",
       "      <td>0.680851</td>\n",
       "      <td>0.638298</td>\n",
       "      <td>0.617021</td>\n",
       "      <td>0.617021</td>\n",
       "    </tr>\n",
       "  </tbody>\n",
       "</table>\n",
       "</div>"
      ],
      "text/plain": [
       "               MLP        LR        RF       SVM\n",
       "Accuracy  0.680851  0.638298  0.617021  0.617021"
      ]
     },
     "execution_count": 204,
     "metadata": {
      "tags": []
     },
     "output_type": "execute_result"
    }
   ],
   "source": [
    "pd.DataFrame({\"MLP\": [accuracy_MLP], \"LR\": [accuracy_LR], \"RF\": [accuracy_RF], \"SVM\": [accuracy_SVM]}, index=[\"Accuracy\"])"
   ]
  },
  {
   "cell_type": "markdown",
   "metadata": {
    "colab_type": "text",
    "id": "0Gp9sbd19ORP"
   },
   "source": [
    "Au vu des scores de précision, nous choisissons le modèle de regression logistique pour identifier le thème de la question."
   ]
  },
  {
   "cell_type": "markdown",
   "metadata": {
    "colab_type": "text",
    "id": "9-B1rMl29om6"
   },
   "source": [
    "Nous sauvegardons le modèle dans un fichier pickle :"
   ]
  },
  {
   "cell_type": "code",
   "execution_count": 0,
   "metadata": {
    "colab": {},
    "colab_type": "code",
    "id": "owuvsRTR31IM"
   },
   "outputs": [],
   "source": [
    "pickle.dump(classifier_log, open('model_multilog.pkl', 'wb'))"
   ]
  },
  {
   "cell_type": "code",
   "execution_count": 0,
   "metadata": {
    "colab": {},
    "colab_type": "code",
    "id": "Psf3VXINqyRA"
   },
   "outputs": [],
   "source": [
    "model_multi.save('model_multi.h5')"
   ]
  },
  {
   "cell_type": "markdown",
   "metadata": {
    "colab_type": "text",
    "id": "6Pfm_ykl9wL6"
   },
   "source": [
    "Pour le récupérer :"
   ]
  },
  {
   "cell_type": "code",
   "execution_count": 0,
   "metadata": {
    "colab": {},
    "colab_type": "code",
    "id": "Oz_jXa6s3SJi"
   },
   "outputs": [],
   "source": [
    "model_multi = pd.read_pickle('model_multi.pkl')"
   ]
  },
  {
   "cell_type": "markdown",
   "metadata": {
    "colab_type": "text",
    "id": "7Ryu6lRg2byJ"
   },
   "source": [
    "### Test des modèles"
   ]
  },
  {
   "cell_type": "markdown",
   "metadata": {
    "colab_type": "text",
    "id": "9B-oyqcsyNeD"
   },
   "source": [
    "On teste le modèle avec une question de thème \"Livraison\" :"
   ]
  },
  {
   "cell_type": "code",
   "execution_count": 0,
   "metadata": {
    "colab": {
     "base_uri": "https://localhost:8080/",
     "height": 52
    },
    "colab_type": "code",
    "executionInfo": {
     "elapsed": 538,
     "status": "ok",
     "timestamp": 1580586007977,
     "user": {
      "displayName": "sarah faucon",
      "photoUrl": "",
      "userId": "00071383878885981401"
     },
     "user_tz": -60
    },
    "id": "qcFl-5xyyNeM",
    "outputId": "f937256c-2bc8-4e33-cb6f-a3388829f991"
   },
   "outputs": [
    {
     "data": {
      "text/plain": [
       "<1x271 sparse matrix of type '<class 'numpy.int64'>'\n",
       "\twith 4 stored elements in Compressed Sparse Row format>"
      ]
     },
     "execution_count": 212,
     "metadata": {
      "tags": []
     },
     "output_type": "execute_result"
    }
   ],
   "source": [
    "quest = \"Comment se déroule la livraison ?\"\n",
    "X_new  = vectorizer_multi.transform([quest])\n",
    "X_new"
   ]
  },
  {
   "cell_type": "code",
   "execution_count": 0,
   "metadata": {
    "colab": {
     "base_uri": "https://localhost:8080/",
     "height": 35
    },
    "colab_type": "code",
    "executionInfo": {
     "elapsed": 561,
     "status": "ok",
     "timestamp": 1580586010609,
     "user": {
      "displayName": "sarah faucon",
      "photoUrl": "",
      "userId": "00071383878885981401"
     },
     "user_tz": -60
    },
    "id": "U3jAo4OqygP7",
    "outputId": "b7956785-1d5e-4928-e6bb-f8a7660f12ae"
   },
   "outputs": [
    {
     "data": {
      "text/plain": [
       "array(['Livraison'], dtype=object)"
      ]
     },
     "execution_count": 213,
     "metadata": {
      "tags": []
     },
     "output_type": "execute_result"
    }
   ],
   "source": [
    "classifier_log.predict(X_new)"
   ]
  },
  {
   "cell_type": "markdown",
   "metadata": {
    "colab_type": "text",
    "id": "lrDu1APEaW1V"
   },
   "source": [
    "On teste le modèle avec une question de thème \"Commande et Paiements\" :"
   ]
  },
  {
   "cell_type": "code",
   "execution_count": 0,
   "metadata": {
    "colab": {
     "base_uri": "https://localhost:8080/",
     "height": 52
    },
    "colab_type": "code",
    "executionInfo": {
     "elapsed": 591,
     "status": "ok",
     "timestamp": 1580586013645,
     "user": {
      "displayName": "sarah faucon",
      "photoUrl": "",
      "userId": "00071383878885981401"
     },
     "user_tz": -60
    },
    "id": "JWFrL2apy7CT",
    "outputId": "de03caa7-5841-4382-aee7-a6081260ca26"
   },
   "outputs": [
    {
     "data": {
      "text/plain": [
       "<1x271 sparse matrix of type '<class 'numpy.int64'>'\n",
       "\twith 3 stored elements in Compressed Sparse Row format>"
      ]
     },
     "execution_count": 214,
     "metadata": {
      "tags": []
     },
     "output_type": "execute_result"
    }
   ],
   "source": [
    "quest = \"Comment obtenir une facture ?\"\n",
    "X_new  = vectorizer_multi.transform([quest])\n",
    "X_new"
   ]
  },
  {
   "cell_type": "code",
   "execution_count": 0,
   "metadata": {
    "colab": {
     "base_uri": "https://localhost:8080/",
     "height": 35
    },
    "colab_type": "code",
    "executionInfo": {
     "elapsed": 566,
     "status": "ok",
     "timestamp": 1580586042287,
     "user": {
      "displayName": "sarah faucon",
      "photoUrl": "",
      "userId": "00071383878885981401"
     },
     "user_tz": -60
    },
    "id": "8gFJktx2zpW7",
    "outputId": "5d457681-b1bb-4e0d-d0f8-8f10e7379643"
   },
   "outputs": [
    {
     "data": {
      "text/plain": [
       "array(['Commande et Paiement'], dtype=object)"
      ]
     },
     "execution_count": 216,
     "metadata": {
      "tags": []
     },
     "output_type": "execute_result"
    }
   ],
   "source": [
    "classifier_log.predict(X_new)"
   ]
  },
  {
   "cell_type": "markdown",
   "metadata": {
    "colab_type": "text",
    "id": "q5dv1hIvamdT"
   },
   "source": [
    "On teste le modèle avec une question de thème \"Compte et informations personnelles\" :"
   ]
  },
  {
   "cell_type": "code",
   "execution_count": 0,
   "metadata": {
    "colab": {
     "base_uri": "https://localhost:8080/",
     "height": 52
    },
    "colab_type": "code",
    "executionInfo": {
     "elapsed": 536,
     "status": "ok",
     "timestamp": 1580586049760,
     "user": {
      "displayName": "sarah faucon",
      "photoUrl": "",
      "userId": "00071383878885981401"
     },
     "user_tz": -60
    },
    "id": "EMzCRXszzMK2",
    "outputId": "ad525479-4355-4fea-f9b3-1cd26c888d72"
   },
   "outputs": [
    {
     "data": {
      "text/plain": [
       "<1x271 sparse matrix of type '<class 'numpy.int64'>'\n",
       "\twith 5 stored elements in Compressed Sparse Row format>"
      ]
     },
     "execution_count": 218,
     "metadata": {
      "tags": []
     },
     "output_type": "execute_result"
    }
   ],
   "source": [
    "quest = \"Comment retrouver mon mot de passe ?\"\n",
    "X_new  = vectorizer_multi.transform([quest])\n",
    "X_new"
   ]
  },
  {
   "cell_type": "code",
   "execution_count": 0,
   "metadata": {
    "colab": {
     "base_uri": "https://localhost:8080/",
     "height": 35
    },
    "colab_type": "code",
    "executionInfo": {
     "elapsed": 587,
     "status": "ok",
     "timestamp": 1580586052229,
     "user": {
      "displayName": "sarah faucon",
      "photoUrl": "",
      "userId": "00071383878885981401"
     },
     "user_tz": -60
    },
    "id": "Cam3-fwxzqKJ",
    "outputId": "5f80b3c9-a12e-4275-c9a3-f14b2cd5e05e"
   },
   "outputs": [
    {
     "data": {
      "text/plain": [
       "array(['Mon Compte et Informations personnelles'], dtype=object)"
      ]
     },
     "execution_count": 219,
     "metadata": {
      "tags": []
     },
     "output_type": "execute_result"
    }
   ],
   "source": [
    "classifier_log.predict(X_new)"
   ]
  }
 ],
 "metadata": {
  "colab": {
   "collapsed_sections": [],
   "name": "classification.ipynb",
   "provenance": []
  },
  "kernelspec": {
   "display_name": "Python 3",
   "language": "python",
   "name": "python3"
  },
  "language_info": {
   "codemirror_mode": {
    "name": "ipython",
    "version": 3
   },
   "file_extension": ".py",
   "mimetype": "text/x-python",
   "name": "python",
   "nbconvert_exporter": "python",
   "pygments_lexer": "ipython3",
   "version": "3.7.4"
  }
 },
 "nbformat": 4,
 "nbformat_minor": 1
}
