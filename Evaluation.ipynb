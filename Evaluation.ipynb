{
 "cells": [
  {
   "cell_type": "markdown",
   "metadata": {},
   "source": [
    "--- \n",
    "--- \n",
    "# Evaluation\n",
    "--- \n",
    "--- "
   ]
  },
  {
   "cell_type": "code",
   "execution_count": 1,
   "metadata": {},
   "outputs": [],
   "source": [
    "import pandas as pd"
   ]
  },
  {
   "cell_type": "markdown",
   "metadata": {},
   "source": [
    "Dans un premier temps, nous allons évaluer le modèle de classification binaire."
   ]
  },
  {
   "cell_type": "code",
   "execution_count": 25,
   "metadata": {},
   "outputs": [],
   "source": [
    "eval_bin = pd.read_csv(\"Eval_bin.csv\", sep=';', header=0, encoding='UTF-8')\n",
    "eval_mult = pd.read_csv(\"Eval_mult.csv\", sep=';', header=0, encoding='UTF-8')"
   ]
  },
  {
   "cell_type": "code",
   "execution_count": 8,
   "metadata": {},
   "outputs": [
    {
     "data": {
      "text/html": [
       "<div>\n",
       "<style scoped>\n",
       "    .dataframe tbody tr th:only-of-type {\n",
       "        vertical-align: middle;\n",
       "    }\n",
       "\n",
       "    .dataframe tbody tr th {\n",
       "        vertical-align: top;\n",
       "    }\n",
       "\n",
       "    .dataframe thead th {\n",
       "        text-align: right;\n",
       "    }\n",
       "</style>\n",
       "<table border=\"1\" class=\"dataframe\">\n",
       "  <thead>\n",
       "    <tr style=\"text-align: right;\">\n",
       "      <th></th>\n",
       "      <th>question</th>\n",
       "      <th>classification</th>\n",
       "      <th>reponse</th>\n",
       "    </tr>\n",
       "  </thead>\n",
       "  <tbody>\n",
       "    <tr>\n",
       "      <td>0</td>\n",
       "      <td>Quel transporteur va me livrer ?</td>\n",
       "      <td>1</td>\n",
       "      <td>1</td>\n",
       "    </tr>\n",
       "    <tr>\n",
       "      <td>1</td>\n",
       "      <td>Je souhaite connaitre les délais de livraison ...</td>\n",
       "      <td>1</td>\n",
       "      <td>1</td>\n",
       "    </tr>\n",
       "    <tr>\n",
       "      <td>2</td>\n",
       "      <td>Quels sont les points de retraits Colissimo ?</td>\n",
       "      <td>1</td>\n",
       "      <td>1</td>\n",
       "    </tr>\n",
       "    <tr>\n",
       "      <td>3</td>\n",
       "      <td>Puis je me faire livrer en magasin ?</td>\n",
       "      <td>1</td>\n",
       "      <td>1</td>\n",
       "    </tr>\n",
       "    <tr>\n",
       "      <td>4</td>\n",
       "      <td>Combien de frais de livraison vais-je payer ?</td>\n",
       "      <td>1</td>\n",
       "      <td>1</td>\n",
       "    </tr>\n",
       "  </tbody>\n",
       "</table>\n",
       "</div>"
      ],
      "text/plain": [
       "                                            question  classification  reponse\n",
       "0                   Quel transporteur va me livrer ?               1        1\n",
       "1  Je souhaite connaitre les délais de livraison ...               1        1\n",
       "2      Quels sont les points de retraits Colissimo ?               1        1\n",
       "3              Puis je me faire livrer en magasin ?                1        1\n",
       "4     Combien de frais de livraison vais-je payer ?                1        1"
      ]
     },
     "execution_count": 8,
     "metadata": {},
     "output_type": "execute_result"
    }
   ],
   "source": [
    "eval_bin.head()"
   ]
  },
  {
   "cell_type": "code",
   "execution_count": 21,
   "metadata": {},
   "outputs": [
    {
     "data": {
      "text/html": [
       "<div>\n",
       "<style scoped>\n",
       "    .dataframe tbody tr th:only-of-type {\n",
       "        vertical-align: middle;\n",
       "    }\n",
       "\n",
       "    .dataframe tbody tr th {\n",
       "        vertical-align: top;\n",
       "    }\n",
       "\n",
       "    .dataframe thead th {\n",
       "        text-align: right;\n",
       "    }\n",
       "</style>\n",
       "<table border=\"1\" class=\"dataframe\">\n",
       "  <thead>\n",
       "    <tr style=\"text-align: right;\">\n",
       "      <th></th>\n",
       "      <th>question</th>\n",
       "      <th>theme</th>\n",
       "      <th>classement</th>\n",
       "      <th>reponse</th>\n",
       "    </tr>\n",
       "  </thead>\n",
       "  <tbody>\n",
       "    <tr>\n",
       "      <td>0</td>\n",
       "      <td>Quel transporteur va me livrer ?</td>\n",
       "      <td>Livraison</td>\n",
       "      <td>Livraison</td>\n",
       "      <td>0</td>\n",
       "    </tr>\n",
       "    <tr>\n",
       "      <td>1</td>\n",
       "      <td>Je souhaite connaitre les délais de livraison ...</td>\n",
       "      <td>Livraison</td>\n",
       "      <td>Livraison</td>\n",
       "      <td>0</td>\n",
       "    </tr>\n",
       "    <tr>\n",
       "      <td>2</td>\n",
       "      <td>Quels sont les points de retraits Colissimo ?</td>\n",
       "      <td>Livraison</td>\n",
       "      <td>Produits et Disponibilité</td>\n",
       "      <td>0</td>\n",
       "    </tr>\n",
       "    <tr>\n",
       "      <td>3</td>\n",
       "      <td>Puis je me faire livrer en magasin ?</td>\n",
       "      <td>Livraison</td>\n",
       "      <td>Livraison</td>\n",
       "      <td>0</td>\n",
       "    </tr>\n",
       "    <tr>\n",
       "      <td>4</td>\n",
       "      <td>Combien de frais de livraison vais-je payer ?</td>\n",
       "      <td>Livraison</td>\n",
       "      <td>Produits et Disponibilité</td>\n",
       "      <td>0</td>\n",
       "    </tr>\n",
       "  </tbody>\n",
       "</table>\n",
       "</div>"
      ],
      "text/plain": [
       "                                            question     theme   \\\n",
       "0                   Quel transporteur va me livrer ?  Livraison   \n",
       "1  Je souhaite connaitre les délais de livraison ...  Livraison   \n",
       "2      Quels sont les points de retraits Colissimo ?  Livraison   \n",
       "3              Puis je me faire livrer en magasin ?   Livraison   \n",
       "4     Combien de frais de livraison vais-je payer ?   Livraison   \n",
       "\n",
       "                  classement  reponse  \n",
       "0                  Livraison        0  \n",
       "1                  Livraison        0  \n",
       "2  Produits et Disponibilité        0  \n",
       "3                  Livraison        0  \n",
       "4  Produits et Disponibilité        0  "
      ]
     },
     "execution_count": 21,
     "metadata": {},
     "output_type": "execute_result"
    }
   ],
   "source": [
    "eval_mult.head()"
   ]
  },
  {
   "cell_type": "code",
   "execution_count": 14,
   "metadata": {},
   "outputs": [
    {
     "data": {
      "text/html": [
       "<div>\n",
       "<style scoped>\n",
       "    .dataframe tbody tr th:only-of-type {\n",
       "        vertical-align: middle;\n",
       "    }\n",
       "\n",
       "    .dataframe tbody tr th {\n",
       "        vertical-align: top;\n",
       "    }\n",
       "\n",
       "    .dataframe thead th {\n",
       "        text-align: right;\n",
       "    }\n",
       "</style>\n",
       "<table border=\"1\" class=\"dataframe\">\n",
       "  <thead>\n",
       "    <tr style=\"text-align: right;\">\n",
       "      <th>reponse</th>\n",
       "      <th>0</th>\n",
       "      <th>1</th>\n",
       "    </tr>\n",
       "    <tr>\n",
       "      <th>classification</th>\n",
       "      <th></th>\n",
       "      <th></th>\n",
       "    </tr>\n",
       "  </thead>\n",
       "  <tbody>\n",
       "    <tr>\n",
       "      <td>0</td>\n",
       "      <td>45</td>\n",
       "      <td>5</td>\n",
       "    </tr>\n",
       "    <tr>\n",
       "      <td>1</td>\n",
       "      <td>1</td>\n",
       "      <td>49</td>\n",
       "    </tr>\n",
       "  </tbody>\n",
       "</table>\n",
       "</div>"
      ],
      "text/plain": [
       "reponse          0   1\n",
       "classification        \n",
       "0               45   5\n",
       "1                1  49"
      ]
     },
     "execution_count": 14,
     "metadata": {},
     "output_type": "execute_result"
    }
   ],
   "source": [
    "pd.crosstab(eval_bin.classification,eval_bin.reponse)"
   ]
  },
  {
   "cell_type": "code",
   "execution_count": 52,
   "metadata": {},
   "outputs": [],
   "source": [
    "dico_score = {}"
   ]
  },
  {
   "cell_type": "code",
   "execution_count": 61,
   "metadata": {},
   "outputs": [],
   "source": [
    "rappel = 49/(49 + 1)\n",
    "rappel \n",
    "dico_score[\"rappel\"] = rappel"
   ]
  },
  {
   "cell_type": "code",
   "execution_count": 62,
   "metadata": {},
   "outputs": [],
   "source": [
    "precision = 49/(49+5)\n",
    "precision\n",
    "dico_score[\"precision\"] = precision"
   ]
  },
  {
   "cell_type": "code",
   "execution_count": 63,
   "metadata": {},
   "outputs": [],
   "source": [
    "F1 = 2*(precision*rappel)/(precision+rappel)\n",
    "F1\n",
    "dico_score[\"F1\"] = F1"
   ]
  },
  {
   "cell_type": "code",
   "execution_count": 66,
   "metadata": {},
   "outputs": [
    {
     "data": {
      "text/html": [
       "<div>\n",
       "<style scoped>\n",
       "    .dataframe tbody tr th:only-of-type {\n",
       "        vertical-align: middle;\n",
       "    }\n",
       "\n",
       "    .dataframe tbody tr th {\n",
       "        vertical-align: top;\n",
       "    }\n",
       "\n",
       "    .dataframe thead th {\n",
       "        text-align: right;\n",
       "    }\n",
       "</style>\n",
       "<table border=\"1\" class=\"dataframe\">\n",
       "  <thead>\n",
       "    <tr style=\"text-align: right;\">\n",
       "      <th></th>\n",
       "      <th>F1</th>\n",
       "      <th>rappel</th>\n",
       "      <th>precision</th>\n",
       "    </tr>\n",
       "  </thead>\n",
       "  <tbody>\n",
       "    <tr>\n",
       "      <td>score</td>\n",
       "      <td>0.942308</td>\n",
       "      <td>0.98</td>\n",
       "      <td>0.907407</td>\n",
       "    </tr>\n",
       "  </tbody>\n",
       "</table>\n",
       "</div>"
      ],
      "text/plain": [
       "             F1  rappel  precision\n",
       "score  0.942308    0.98   0.907407"
      ]
     },
     "execution_count": 66,
     "metadata": {},
     "output_type": "execute_result"
    }
   ],
   "source": [
    "pd.DataFrame(dico_score,index=[\"score\"])"
   ]
  },
  {
   "cell_type": "markdown",
   "metadata": {},
   "source": [
    "Dans un second temps, nous allons évaluer le modèle de classification multi-classes."
   ]
  },
  {
   "cell_type": "code",
   "execution_count": 26,
   "metadata": {},
   "outputs": [
    {
     "data": {
      "text/html": [
       "<div>\n",
       "<style scoped>\n",
       "    .dataframe tbody tr th:only-of-type {\n",
       "        vertical-align: middle;\n",
       "    }\n",
       "\n",
       "    .dataframe tbody tr th {\n",
       "        vertical-align: top;\n",
       "    }\n",
       "\n",
       "    .dataframe thead th {\n",
       "        text-align: right;\n",
       "    }\n",
       "</style>\n",
       "<table border=\"1\" class=\"dataframe\">\n",
       "  <thead>\n",
       "    <tr style=\"text-align: right;\">\n",
       "      <th>classement</th>\n",
       "      <th>Carte cadeau, avoir et bon d'achat</th>\n",
       "      <th>Commande et Paiement</th>\n",
       "      <th>Livraison</th>\n",
       "      <th>Mon Compte et Informations personnelles</th>\n",
       "      <th>Produits et Disponibilité</th>\n",
       "      <th>Responsabilité Sociétale des Entreprises</th>\n",
       "      <th>Retour et Remboursement</th>\n",
       "    </tr>\n",
       "    <tr>\n",
       "      <th>theme</th>\n",
       "      <th></th>\n",
       "      <th></th>\n",
       "      <th></th>\n",
       "      <th></th>\n",
       "      <th></th>\n",
       "      <th></th>\n",
       "      <th></th>\n",
       "    </tr>\n",
       "  </thead>\n",
       "  <tbody>\n",
       "    <tr>\n",
       "      <td>Carte cadeau, avoir et bon d'achat</td>\n",
       "      <td>7</td>\n",
       "      <td>0</td>\n",
       "      <td>0</td>\n",
       "      <td>0</td>\n",
       "      <td>0</td>\n",
       "      <td>0</td>\n",
       "      <td>0</td>\n",
       "    </tr>\n",
       "    <tr>\n",
       "      <td>Commande et Paiement</td>\n",
       "      <td>0</td>\n",
       "      <td>4</td>\n",
       "      <td>0</td>\n",
       "      <td>2</td>\n",
       "      <td>1</td>\n",
       "      <td>0</td>\n",
       "      <td>0</td>\n",
       "    </tr>\n",
       "    <tr>\n",
       "      <td>Livraison</td>\n",
       "      <td>0</td>\n",
       "      <td>0</td>\n",
       "      <td>5</td>\n",
       "      <td>0</td>\n",
       "      <td>2</td>\n",
       "      <td>0</td>\n",
       "      <td>0</td>\n",
       "    </tr>\n",
       "    <tr>\n",
       "      <td>Mon Compte et Informations personnelles</td>\n",
       "      <td>1</td>\n",
       "      <td>0</td>\n",
       "      <td>0</td>\n",
       "      <td>6</td>\n",
       "      <td>0</td>\n",
       "      <td>0</td>\n",
       "      <td>0</td>\n",
       "    </tr>\n",
       "    <tr>\n",
       "      <td>Produits et Disponibilité</td>\n",
       "      <td>0</td>\n",
       "      <td>0</td>\n",
       "      <td>0</td>\n",
       "      <td>0</td>\n",
       "      <td>5</td>\n",
       "      <td>2</td>\n",
       "      <td>0</td>\n",
       "    </tr>\n",
       "    <tr>\n",
       "      <td>Responsabilité Sociétale des Entreprises</td>\n",
       "      <td>0</td>\n",
       "      <td>0</td>\n",
       "      <td>0</td>\n",
       "      <td>0</td>\n",
       "      <td>0</td>\n",
       "      <td>9</td>\n",
       "      <td>0</td>\n",
       "    </tr>\n",
       "    <tr>\n",
       "      <td>Retour et Remboursement</td>\n",
       "      <td>1</td>\n",
       "      <td>0</td>\n",
       "      <td>0</td>\n",
       "      <td>0</td>\n",
       "      <td>1</td>\n",
       "      <td>0</td>\n",
       "      <td>3</td>\n",
       "    </tr>\n",
       "  </tbody>\n",
       "</table>\n",
       "</div>"
      ],
      "text/plain": [
       "classement                                Carte cadeau, avoir et bon d'achat  \\\n",
       "theme                                                                          \n",
       "Carte cadeau, avoir et bon d'achat                                         7   \n",
       "Commande et Paiement                                                       0   \n",
       "Livraison                                                                  0   \n",
       "Mon Compte et Informations personnelles                                    1   \n",
       "Produits et Disponibilité                                                  0   \n",
       "Responsabilité Sociétale des Entreprises                                   0   \n",
       "Retour et Remboursement                                                    1   \n",
       "\n",
       "classement                                Commande et Paiement  Livraison  \\\n",
       "theme                                                                       \n",
       "Carte cadeau, avoir et bon d'achat                           0          0   \n",
       "Commande et Paiement                                         4          0   \n",
       "Livraison                                                    0          5   \n",
       "Mon Compte et Informations personnelles                      0          0   \n",
       "Produits et Disponibilité                                    0          0   \n",
       "Responsabilité Sociétale des Entreprises                     0          0   \n",
       "Retour et Remboursement                                      0          0   \n",
       "\n",
       "classement                                Mon Compte et Informations personnelles  \\\n",
       "theme                                                                               \n",
       "Carte cadeau, avoir et bon d'achat                                              0   \n",
       "Commande et Paiement                                                            2   \n",
       "Livraison                                                                       0   \n",
       "Mon Compte et Informations personnelles                                         6   \n",
       "Produits et Disponibilité                                                       0   \n",
       "Responsabilité Sociétale des Entreprises                                        0   \n",
       "Retour et Remboursement                                                         0   \n",
       "\n",
       "classement                                Produits et Disponibilité  \\\n",
       "theme                                                                 \n",
       "Carte cadeau, avoir et bon d'achat                                0   \n",
       "Commande et Paiement                                              1   \n",
       "Livraison                                                         2   \n",
       "Mon Compte et Informations personnelles                           0   \n",
       "Produits et Disponibilité                                         5   \n",
       "Responsabilité Sociétale des Entreprises                          0   \n",
       "Retour et Remboursement                                           1   \n",
       "\n",
       "classement                                Responsabilité Sociétale des Entreprises  \\\n",
       "theme                                                                                \n",
       "Carte cadeau, avoir et bon d'achat                                               0   \n",
       "Commande et Paiement                                                             0   \n",
       "Livraison                                                                        0   \n",
       "Mon Compte et Informations personnelles                                          0   \n",
       "Produits et Disponibilité                                                        2   \n",
       "Responsabilité Sociétale des Entreprises                                         9   \n",
       "Retour et Remboursement                                                          0   \n",
       "\n",
       "classement                                Retour et Remboursement  \n",
       "theme                                                              \n",
       "Carte cadeau, avoir et bon d'achat                              0  \n",
       "Commande et Paiement                                            0  \n",
       "Livraison                                                       0  \n",
       "Mon Compte et Informations personnelles                         0  \n",
       "Produits et Disponibilité                                       0  \n",
       "Responsabilité Sociétale des Entreprises                        0  \n",
       "Retour et Remboursement                                         3  "
      ]
     },
     "execution_count": 26,
     "metadata": {},
     "output_type": "execute_result"
    }
   ],
   "source": [
    "pd.crosstab(eval_mult.theme,eval_mult.classement)"
   ]
  },
  {
   "cell_type": "code",
   "execution_count": 36,
   "metadata": {},
   "outputs": [],
   "source": [
    "dico_scores = {}"
   ]
  },
  {
   "cell_type": "code",
   "execution_count": 37,
   "metadata": {},
   "outputs": [
    {
     "name": "stdout",
     "output_type": "stream",
     "text": [
      "0.7777777777777778\n",
      "1.0\n",
      "0.8750000000000001\n"
     ]
    }
   ],
   "source": [
    "#Carte cadeau, avoir et bon d'achat\n",
    "rappel = 7/(7+2)\n",
    "print(rappel)\n",
    "precision = 7/7\n",
    "print(precision)\n",
    "F1 = 2*(precision*rappel)/(precision+rappel)\n",
    "print(F1)\n",
    "dico_scores[\"Carte cadeau, avoir et bon d'achat\"] = {\"rappel\":rappel,\"precision\":precision,\"F1\":F1}"
   ]
  },
  {
   "cell_type": "code",
   "execution_count": 38,
   "metadata": {},
   "outputs": [
    {
     "name": "stdout",
     "output_type": "stream",
     "text": [
      "1.0\n",
      "0.5714285714285714\n",
      "0.7272727272727273\n"
     ]
    }
   ],
   "source": [
    "#Commande et Paiement\n",
    "rappel = 4/4\n",
    "print(rappel)\n",
    "precision = 4/7\n",
    "print(precision)\n",
    "F1 = 2*(precision*rappel)/(precision+rappel)\n",
    "print(F1)\n",
    "dico_scores[\"Commande et Paiement\"] = {\"rappel\":rappel,\"precision\":precision,\"F1\":F1}"
   ]
  },
  {
   "cell_type": "code",
   "execution_count": 39,
   "metadata": {},
   "outputs": [
    {
     "name": "stdout",
     "output_type": "stream",
     "text": [
      "1.0\n",
      "0.7142857142857143\n",
      "0.8333333333333333\n"
     ]
    }
   ],
   "source": [
    "#Livraison\n",
    "rappel = 5/5\n",
    "print(rappel)\n",
    "precision = 5/7\n",
    "print(precision)\n",
    "F1 = 2*(precision*rappel)/(precision+rappel)\n",
    "print(F1)\n",
    "dico_scores[\"Livraison\"] = {\"rappel\":rappel,\"precision\":precision,\"F1\":F1}"
   ]
  },
  {
   "cell_type": "code",
   "execution_count": 41,
   "metadata": {},
   "outputs": [
    {
     "name": "stdout",
     "output_type": "stream",
     "text": [
      "0.75\n",
      "0.8571428571428571\n",
      "0.7999999999999999\n"
     ]
    }
   ],
   "source": [
    "# Mon Compte et Informations personnelles\n",
    "rappel = 6/8\n",
    "print(rappel)\n",
    "precision = 6/7\n",
    "print(precision)\n",
    "F1 = 2*(precision*rappel)/(precision+rappel)\n",
    "print(F1)\n",
    "dico_scores[\"Mon Compte et Informations personnelles\"] = {\"rappel\":rappel,\"precision\":precision,\"F1\":F1}"
   ]
  },
  {
   "cell_type": "code",
   "execution_count": 42,
   "metadata": {},
   "outputs": [
    {
     "name": "stdout",
     "output_type": "stream",
     "text": [
      "0.5555555555555556\n",
      "0.7142857142857143\n",
      "0.6250000000000001\n"
     ]
    }
   ],
   "source": [
    "# Produits et Disponibilité\n",
    "rappel = 5/9\n",
    "print(rappel)\n",
    "precision = 5/7\n",
    "print(precision)\n",
    "F1 = 2*(precision*rappel)/(precision+rappel)\n",
    "print(F1)\n",
    "dico_scores[\"Produits et Disponibilité\"] = {\"rappel\":rappel,\"precision\":precision,\"F1\":F1}"
   ]
  },
  {
   "cell_type": "code",
   "execution_count": 43,
   "metadata": {},
   "outputs": [
    {
     "name": "stdout",
     "output_type": "stream",
     "text": [
      "0.8181818181818182\n",
      "1.0\n",
      "0.9\n"
     ]
    }
   ],
   "source": [
    "# Responsabilité Sociétale des Entreprises\n",
    "rappel = 9/11\n",
    "print(rappel)\n",
    "precision = 9/9\n",
    "print(precision)\n",
    "F1 = 2*(precision*rappel)/(precision+rappel)\n",
    "print(F1)\n",
    "dico_scores[\"Responsabilité Sociétale des Entreprises\"] = {\"rappel\":rappel,\"precision\":precision,\"F1\":F1}"
   ]
  },
  {
   "cell_type": "code",
   "execution_count": 44,
   "metadata": {},
   "outputs": [
    {
     "name": "stdout",
     "output_type": "stream",
     "text": [
      "1.0\n",
      "0.6\n",
      "0.7499999999999999\n"
     ]
    }
   ],
   "source": [
    "# Retour et Remboursement\n",
    "rappel = 3/3\n",
    "print(rappel)\n",
    "precision = 3/5\n",
    "print(precision)\n",
    "F1 = 2*(precision*rappel)/(precision+rappel)\n",
    "print(F1)\n",
    "dico_scores[\"Retour et Remboursement\"] = {\"rappel\":rappel,\"precision\":precision,\"F1\":F1}"
   ]
  },
  {
   "cell_type": "code",
   "execution_count": 51,
   "metadata": {},
   "outputs": [
    {
     "data": {
      "text/html": [
       "<div>\n",
       "<style scoped>\n",
       "    .dataframe tbody tr th:only-of-type {\n",
       "        vertical-align: middle;\n",
       "    }\n",
       "\n",
       "    .dataframe tbody tr th {\n",
       "        vertical-align: top;\n",
       "    }\n",
       "\n",
       "    .dataframe thead th {\n",
       "        text-align: right;\n",
       "    }\n",
       "</style>\n",
       "<table border=\"1\" class=\"dataframe\">\n",
       "  <thead>\n",
       "    <tr style=\"text-align: right;\">\n",
       "      <th></th>\n",
       "      <th>rappel</th>\n",
       "      <th>precision</th>\n",
       "      <th>F1</th>\n",
       "    </tr>\n",
       "  </thead>\n",
       "  <tbody>\n",
       "    <tr>\n",
       "      <td>Responsabilité Sociétale des Entreprises</td>\n",
       "      <td>0.818182</td>\n",
       "      <td>1.000000</td>\n",
       "      <td>0.900000</td>\n",
       "    </tr>\n",
       "    <tr>\n",
       "      <td>Carte cadeau, avoir et bon d'achat</td>\n",
       "      <td>0.777778</td>\n",
       "      <td>1.000000</td>\n",
       "      <td>0.875000</td>\n",
       "    </tr>\n",
       "    <tr>\n",
       "      <td>Livraison</td>\n",
       "      <td>1.000000</td>\n",
       "      <td>0.714286</td>\n",
       "      <td>0.833333</td>\n",
       "    </tr>\n",
       "    <tr>\n",
       "      <td>Mon Compte et Informations personnelles</td>\n",
       "      <td>0.750000</td>\n",
       "      <td>0.857143</td>\n",
       "      <td>0.800000</td>\n",
       "    </tr>\n",
       "    <tr>\n",
       "      <td>Retour et Remboursement</td>\n",
       "      <td>1.000000</td>\n",
       "      <td>0.600000</td>\n",
       "      <td>0.750000</td>\n",
       "    </tr>\n",
       "    <tr>\n",
       "      <td>Commande et Paiement</td>\n",
       "      <td>1.000000</td>\n",
       "      <td>0.571429</td>\n",
       "      <td>0.727273</td>\n",
       "    </tr>\n",
       "    <tr>\n",
       "      <td>Produits et Disponibilité</td>\n",
       "      <td>0.555556</td>\n",
       "      <td>0.714286</td>\n",
       "      <td>0.625000</td>\n",
       "    </tr>\n",
       "  </tbody>\n",
       "</table>\n",
       "</div>"
      ],
      "text/plain": [
       "                                            rappel  precision        F1\n",
       "Responsabilité Sociétale des Entreprises  0.818182   1.000000  0.900000\n",
       "Carte cadeau, avoir et bon d'achat        0.777778   1.000000  0.875000\n",
       "Livraison                                 1.000000   0.714286  0.833333\n",
       "Mon Compte et Informations personnelles   0.750000   0.857143  0.800000\n",
       "Retour et Remboursement                   1.000000   0.600000  0.750000\n",
       "Commande et Paiement                      1.000000   0.571429  0.727273\n",
       "Produits et Disponibilité                 0.555556   0.714286  0.625000"
      ]
     },
     "execution_count": 51,
     "metadata": {},
     "output_type": "execute_result"
    }
   ],
   "source": [
    "pd.DataFrame(dico_scores).transpose().sort_values(\"F1\",ascending=False)"
   ]
  },
  {
   "cell_type": "markdown",
   "metadata": {},
   "source": [
    "Dans un troisème temps, nous allons évaluer le modèle de similarité."
   ]
  },
  {
   "cell_type": "code",
   "execution_count": 69,
   "metadata": {},
   "outputs": [
    {
     "data": {
      "text/plain": [
       "0.18"
      ]
     },
     "execution_count": 69,
     "metadata": {},
     "output_type": "execute_result"
    }
   ],
   "source": [
    "accuracy = eval_mult.reponse.sum()/len(eval_mult)\n",
    "accuracy"
   ]
  }
 ],
 "metadata": {
  "kernelspec": {
   "display_name": "Python 3",
   "language": "python",
   "name": "python3"
  },
  "language_info": {
   "codemirror_mode": {
    "name": "ipython",
    "version": 3
   },
   "file_extension": ".py",
   "mimetype": "text/x-python",
   "name": "python",
   "nbconvert_exporter": "python",
   "pygments_lexer": "ipython3",
   "version": "3.7.4"
  }
 },
 "nbformat": 4,
 "nbformat_minor": 2
}
